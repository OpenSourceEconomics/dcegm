{
 "cells": [
  {
   "cell_type": "markdown",
   "id": "949faa33",
   "metadata": {},
   "source": [
    "## Running a dynamic stochastic discrete continuous choice model "
   ]
  },
  {
   "cell_type": "markdown",
   "id": "a87effa0",
   "metadata": {},
   "source": [
    "Import the necessary libraries"
   ]
  },
  {
   "cell_type": "code",
   "execution_count": null,
   "id": "846cceb4",
   "metadata": {},
   "outputs": [],
   "source": [
    "# packages needed\n",
    "import jax.numpy as jnp\n",
    "from jax import config\n",
    "\n",
    "# import model_funcs\n",
    "from model_funcs import (\n",
    "    budget_constraint,\n",
    "    create_final_period_utility_function_dict,\n",
    "    create_state_space_function_dict,\n",
    "    create_utility_function_dict,\n",
    ")\n",
    "\n",
    "import dcegm\n",
    "\n",
    "config.update(\"jax_enable_x64\", True)"
   ]
  },
  {
   "cell_type": "markdown",
   "id": "d883eb69",
   "metadata": {},
   "source": [
    "Set params"
   ]
  },
  {
   "cell_type": "code",
   "execution_count": null,
   "id": "dd55470d",
   "metadata": {},
   "outputs": [],
   "source": [
    "params = {\n",
    "    \"beta\": 0.9523809523809523,\n",
    "    # disutility of work\n",
    "    \"delta\": 0.35,\n",
    "    # CRRA coefficient\n",
    "    \"rho\": 1.95,\n",
    "    # labor income coefficients\n",
    "    \"constant\": 0.75,\n",
    "    \"exp\": 0.04,\n",
    "    \"exp_squared\": -0.0002,\n",
    "    # Shock parameters of income\n",
    "    \"sigma\": 0.35,\n",
    "    \"taste_shock_scale\": 0.2,\n",
    "    \"interest_rate\": 0.05,\n",
    "    \"consumption_floor\": 0.001,\n",
    "}"
   ]
  },
  {
   "cell_type": "markdown",
   "id": "4c06ff9c",
   "metadata": {},
   "source": [
    "Set model config"
   ]
  },
  {
   "cell_type": "code",
   "execution_count": null,
   "id": "647868a7",
   "metadata": {},
   "outputs": [],
   "source": [
    "model_config = {\n",
    "    \"n_periods\": 25,\n",
    "    \"choices\": [0, 1],\n",
    "    \"continuous_states\": {\n",
    "        \"wealth\": jnp.linspace(\n",
    "            0,\n",
    "            50,\n",
    "            500,\n",
    "        )\n",
    "    },\n",
    "    \"n_quad_points\": 5,\n",
    "}"
   ]
  },
  {
   "cell_type": "markdown",
   "id": "b16ac1ca",
   "metadata": {},
   "source": [
    "Set model specs"
   ]
  },
  {
   "cell_type": "code",
   "execution_count": null,
   "id": "da6096d9",
   "metadata": {},
   "outputs": [],
   "source": [
    "model_specs = {\n",
    "    \"min_age\": 20,\n",
    "    \"n_choices\": 2,\n",
    "}"
   ]
  },
  {
   "cell_type": "markdown",
   "id": "4a97fcc2",
   "metadata": {},
   "source": [
    "Set model functions"
   ]
  },
  {
   "cell_type": "code",
   "execution_count": null,
   "id": "6aade74d",
   "metadata": {},
   "outputs": [],
   "source": [
    "model_functions = {\n",
    "    \"utility_functions\": create_final_period_utility_function_dict(),\n",
    "    \"utility_functions_final_period\": create_utility_function_dict(),\n",
    "    \"state_space_functions\": create_state_space_function_dict(),\n",
    "    \"budget_constraint\": budget_constraint,\n",
    "}"
   ]
  },
  {
   "cell_type": "markdown",
   "id": "593037b7",
   "metadata": {},
   "source": [
    "Set up, solve, and simulate the model"
   ]
  },
  {
   "cell_type": "code",
   "execution_count": null,
   "id": "c3fefa87",
   "metadata": {},
   "outputs": [],
   "source": [
    "# Set up the model\n",
    "model = dcegm.setup_model(\n",
    "    model_config=model_config,\n",
    "    model_specs=model_specs,\n",
    "    **model_functions,\n",
    ")\n",
    "\n",
    "# Solve the model\n",
    "model_solved = model.solve(params)\n",
    "\n",
    "# Simulate the model\n",
    "n_agents = 1_000\n",
    "states_initial = {\n",
    "    \"period\": jnp.zeros(n_agents),\n",
    "    \"lagged_choice\": jnp.ones(n_agents) * 2,  # all agents start as full time workers\n",
    "    \"already_retired\": jnp.zeros(n_agents),\n",
    "    \"job_offer\": jnp.ones(n_agents),\n",
    "    \"survival\": jnp.ones(n_agents),\n",
    "    \"experience\": jnp.ones(n_agents),\n",
    "    \"assets_begin_of_period\": jnp.ones(n_agents) * 10,\n",
    "}\n",
    "\n",
    "model_solved.simulate(states_initial=states_initial, seed=42)"
   ]
  }
 ],
 "metadata": {
  "language_info": {
   "name": "python"
  }
 },
 "nbformat": 4,
 "nbformat_minor": 5
}
