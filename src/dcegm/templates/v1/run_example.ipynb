{
 "cells": [
  {
   "cell_type": "markdown",
   "id": "949faa33",
   "metadata": {},
   "source": [
    "## Running a dynamic stochastic discrete continuous choice model "
   ]
  },
  {
   "cell_type": "markdown",
   "id": "a87effa0",
   "metadata": {},
   "source": [
    "Import the necessary libraries"
   ]
  },
  {
   "cell_type": "code",
   "execution_count": null,
   "id": "846cceb4",
   "metadata": {},
   "outputs": [],
   "source": [
    "# packages needed\n",
    "import jax.numpy as jnp\n",
    "\n",
    "# import model_funcs\n",
    "from model_funcs import create_utility_function_dict\n",
    "from model_funcs import create_final_period_utility_function_dict\n",
    "from model_funcs import budget_constraint\n",
    "from model_funcs import create_state_space_function_dict"
   ]
  },
  {
   "cell_type": "markdown",
   "id": "d883eb69",
   "metadata": {},
   "source": [
    "Set params"
   ]
  },
  {
   "cell_type": "code",
   "execution_count": null,
   "id": "dd55470d",
   "metadata": {},
   "outputs": [],
   "source": [
    "params = {\n",
    "    \"beta\": 0.9523809523809523,\n",
    "    # disutility of work\n",
    "    \"delta\": 0.35,\n",
    "    # CRRA coefficient\n",
    "    \"rho\": 1.95,\n",
    "    # labor income coefficients\n",
    "    \"constant\": 0.75,\n",
    "    \"exp\": 0.04,\n",
    "    \"exp_squared\": -0.0002,\n",
    "    # Shock parameters of income\n",
    "    \"sigma\": 0.35,\n",
    "    \"taste_shock_scale\": 0.2,\n",
    "    \"interest_rate\": 0.05,\n",
    "    \"consumption_floor\": 0.001,\n",
    "}"
   ]
  },
  {
   "cell_type": "markdown",
   "id": "4c06ff9c",
   "metadata": {},
   "source": [
    "Set model config"
   ]
  },
  {
   "cell_type": "code",
   "execution_count": null,
   "id": "647868a7",
   "metadata": {},
   "outputs": [],
   "source": [
    "model_config = {\n",
    "    \"n_periods\": 25,\n",
    "    \"choices\": [0, 1],\n",
    "    \"continuous_states\": {\n",
    "        \"wealth\": jnp.linspace(\n",
    "            0,\n",
    "            50,\n",
    "            500,\n",
    "        )\n",
    "    },\n",
    "    \"n_quad_points\": 5,\n",
    "}"
   ]
  },
  {
   "cell_type": "markdown",
   "id": "b16ac1ca",
   "metadata": {},
   "source": [
    "Set model specs"
   ]
  },
  {
   "cell_type": "code",
   "execution_count": null,
   "id": "da6096d9",
   "metadata": {},
   "outputs": [],
   "source": [
    "model_specs = {\n",
    "    \"min_age\": 20,\n",
    "    \"n_choices\": 2,\n",
    "}"
   ]
  },
  {
   "cell_type": "markdown",
   "id": "4a97fcc2",
   "metadata": {},
   "source": [
    "Set model functions"
   ]
  },
  {
   "cell_type": "code",
   "execution_count": null,
   "id": "6aade74d",
   "metadata": {},
   "outputs": [],
   "source": [
    "model_functions = {\n",
    "    \"utility_functions\": create_final_period_utility_function_dict(),\n",
    "    \"utility_functions_final_period\": create_utility_function_dict(),\n",
    "    \"state_space_functions\": create_state_space_function_dict(),\n",
    "    \"budget_constraint\": budget_constraint,\n",
    "}"
   ]
  }
 ],
 "metadata": {
  "language_info": {
   "name": "python"
  }
 },
 "nbformat": 4,
 "nbformat_minor": 5
}
