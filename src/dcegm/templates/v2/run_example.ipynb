{
 "cells": [
  {
   "cell_type": "markdown",
   "id": "7950471d",
   "metadata": {},
   "source": [
    "Test"
   ]
  }
 ],
 "metadata": {
  "language_info": {
   "name": "python"
  }
 },
 "nbformat": 4,
 "nbformat_minor": 5
}
