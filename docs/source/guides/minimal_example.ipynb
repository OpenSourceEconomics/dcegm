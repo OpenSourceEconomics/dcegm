{
 "cells": [
  {
   "cell_type": "markdown",
   "id": "df1e4762",
   "metadata": {},
   "source": [
    "# Minimal Example"
   ]
  },
  {
   "cell_type": "markdown",
   "id": "3d35f211",
   "metadata": {},
   "source": []
  }
 ],
 "metadata": {
  "language_info": {
   "name": "python"
  }
 },
 "nbformat": 4,
 "nbformat_minor": 5
}
