{
 "cells": [
  {
   "cell_type": "markdown",
   "id": "df1e4762",
   "metadata": {},
   "source": [
    "# Minimal Example\n",
    "\n",
    "As a minimal working example we use the model Iskhakov et al. (2017). The model features a lifecycle agent who, in each period, chooses whether to work or retire (a discrete choice) and how much to consume (a continuous choice), given their current assets and age. \n",
    "\n",
    "Working yields labor income but reduces leisure, while retirement offers leisure but no income. The agent faces stochastic survival and taste shocks over the discrete choices and seeks to maximize expected lifetime utility from consumption and leisure, subject to a standard intertemporal budget constraint.\n",
    "\n",
    "This model shown in this guide corresponds to the template model \"simplemodel\"."
   ]
  },
  {
   "cell_type": "code",
   "execution_count": 46,
   "id": "3d35f211",
   "metadata": {},
   "outputs": [],
   "source": [
    "import dcegm\n",
    "import dcegm.toy_models as toy_models\n",
    "import jax.numpy as jnp\n",
    "import matplotlib.pyplot as plt"
   ]
  },
  {
   "cell_type": "code",
   "execution_count": 47,
   "id": "c244a003",
   "metadata": {},
   "outputs": [],
   "source": [
    "# Load functions for the example model\n",
    "model_functions = toy_models.load_example_model_functions(\"dcegm_paper\")\n",
    "params, model_specs, model_config = (\n",
    "    toy_models.load_example_params_model_specs_and_config(\"dcegm_paper\")\n",
    ")"
   ]
  },
  {
   "cell_type": "code",
   "execution_count": 48,
   "id": "c4c95a04",
   "metadata": {},
   "outputs": [
    {
     "data": {
      "text/plain": [
       "dict_keys(['utility_functions', 'state_space_functions', 'utility_functions_final_period', 'budget_constraint'])"
      ]
     },
     "execution_count": 48,
     "metadata": {},
     "output_type": "execute_result"
    }
   ],
   "source": [
    "# The output contains the utility functions, state space functions, and  budget constraint required to set up the model\n",
    "model_functions.keys()"
   ]
  },
  {
   "cell_type": "code",
   "execution_count": 49,
   "id": "d479f05a",
   "metadata": {},
   "outputs": [
    {
     "name": "stdout",
     "output_type": "stream",
     "text": [
      "Update function for state space not given. Assume states only change with an increase of the period and lagged choice.\n",
      "Sparsity condition not provided. Assume all states are valid.\n",
      "Starting state space creation\n",
      "State space created.\n",
      "\n",
      "Starting state-choice space creation and child state mapping.\n",
      "State, state-choice and child state mapping created.\n",
      "\n",
      "Start creating batches for the model.\n",
      "The batch size of the backwards induction is  3\n",
      "Model setup complete.\n",
      "\n"
     ]
    }
   ],
   "source": [
    "# Set up the model\n",
    "model = dcegm.setup_model(\n",
    "    model_config=model_config,\n",
    "    model_specs=model_specs,\n",
    "    **model_functions,\n",
    ")"
   ]
  },
  {
   "cell_type": "code",
   "execution_count": 50,
   "id": "53c826c1",
   "metadata": {},
   "outputs": [
    {
     "name": "stderr",
     "output_type": "stream",
     "text": [
      "/opt/anaconda3/envs/base2/lib/python3.13/site-packages/dcegm/backward_induction.py:236: UserWarning: Explicitly requested dtype <class 'jax.numpy.float64'> requested in full is not available, and will be truncated to dtype float32. To enable more dtypes, set the jax_enable_x64 configuration option or the JAX_ENABLE_X64 shell environment variable. See https://github.com/jax-ml/jax#current-gotchas for more.\n",
      "  value_solved = jnp.full(\n",
      "/opt/anaconda3/envs/base2/lib/python3.13/site-packages/dcegm/backward_induction.py:241: UserWarning: Explicitly requested dtype <class 'jax.numpy.float64'> requested in full is not available, and will be truncated to dtype float32. To enable more dtypes, set the jax_enable_x64 configuration option or the JAX_ENABLE_X64 shell environment variable. See https://github.com/jax-ml/jax#current-gotchas for more.\n",
      "  policy_solved = jnp.full(\n",
      "/opt/anaconda3/envs/base2/lib/python3.13/site-packages/dcegm/backward_induction.py:246: UserWarning: Explicitly requested dtype <class 'jax.numpy.float64'> requested in full is not available, and will be truncated to dtype float32. To enable more dtypes, set the jax_enable_x64 configuration option or the JAX_ENABLE_X64 shell environment variable. See https://github.com/jax-ml/jax#current-gotchas for more.\n",
      "  endog_grid_solved = jnp.full(\n"
     ]
    }
   ],
   "source": [
    "# Solve the model\n",
    "model_solved = model.solve(params)"
   ]
  },
  {
   "cell_type": "code",
   "execution_count": 51,
   "id": "aa6e7166",
   "metadata": {},
   "outputs": [],
   "source": [
    "# Simulate the model\n",
    "n_agents = 1_000\n",
    "states_initial = {\n",
    "    \"period\": jnp.zeros(n_agents),\n",
    "    \"lagged_choice\": jnp.zeros(n_agents),  # all agents start as workers\n",
    "    \"experience\": jnp.ones(n_agents),\n",
    "    \"assets_begin_of_period\": jnp.ones(n_agents) * 10,\n",
    "}"
   ]
  },
  {
   "cell_type": "code",
   "execution_count": 52,
   "id": "63d3ebab",
   "metadata": {},
   "outputs": [],
   "source": [
    "simulation = model_solved.simulate(states_initial=states_initial, seed=42)"
   ]
  },
  {
   "cell_type": "code",
   "execution_count": 57,
   "id": "11a805b0",
   "metadata": {},
   "outputs": [
    {
     "data": {
      "text/plain": [
       "<matplotlib.legend.Legend at 0x155642850>"
      ]
     },
     "execution_count": 57,
     "metadata": {},
     "output_type": "execute_result"
    },
    {
     "data": {
      "image/png": "[encoded data removed]",
      "text/plain": [
       "<Figure size 1000x500 with 1 Axes>"
      ]
     },
     "metadata": {},
     "output_type": "display_data"
    }
   ],
   "source": [
    "simulation.groupby(\"period\").choice.value_counts().unstack().plot(\n",
    "    kind=\"bar\",\n",
    "    stacked=True,\n",
    "    title=\"Choice by period\",\n",
    "    xlabel=\"Period\",\n",
    "    ylabel=\"Count\",\n",
    "    figsize=(10, 5),\n",
    "    rot=0,\n",
    ")\n",
    "# label choices work and retire in legend\n",
    "plt.legend([\"Work\", \"Retire\"])"
   ]
  },
  {
   "cell_type": "markdown",
   "id": "286d38d6",
   "metadata": {},
   "source": []
  }
 ],
 "metadata": {
  "kernelspec": {
   "display_name": "base2",
   "language": "python",
   "name": "python3"
  },
  "language_info": {
   "codemirror_mode": {
    "name": "ipython",
    "version": 3
   },
   "file_extension": ".py",
   "mimetype": "text/x-python",
   "name": "python",
   "nbconvert_exporter": "python",
   "pygments_lexer": "ipython3",
   "version": "3.13.2"
  }
 },
 "nbformat": 4,
 "nbformat_minor": 5
}
