{
 "cells": [
  {
   "cell_type": "markdown",
   "id": "576ae8a0",
   "metadata": {},
   "source": [
    "# Parameterization Guide"
   ]
  },
  {
   "cell_type": "markdown",
   "id": "8090e40f",
   "metadata": {},
   "source": [
    "`dc-egm` used two different dictionaries to store model parameters: `params` which are estimated *within* the model and `model_specs` which are calibrated or estimated *outside* the model. \n",
    "\n",
    "Both objects should be defined as dictionaries which map string labels to numeric parameter values.\n",
    "\n",
    "\n",
    "### `params`\n",
    "\n",
    "`params` stores *estimable* model parameters, i.e. parameters that can be retrieved using the structural model and empirical data using an statistical estimation procedure (like maximum likelihood estimation or minimum-distance estimators).\n",
    "\n",
    "A common example for a parameter of interest that would be subject to estimation is the return to experience in a labor supply model.\n"
   ]
  },
  {
   "cell_type": "markdown",
   "id": "8e54e898",
   "metadata": {},
   "source": []
  },
  {
   "cell_type": "code",
   "execution_count": null,
   "id": "a3dd26fb",
   "metadata": {},
   "outputs": [],
   "source": [
    "# Example of params\n",
    "params = {}"
   ]
  },
  {
   "cell_type": "markdown",
   "id": "5b09c616",
   "metadata": {},
   "source": [
    "### `model_specs`\n",
    "\n",
    "`model_specs` denotes parameters or *model specifications* which are not estimated inside the model but should be passed on to `dc-egm` to be used in utility functions, the budget constraint, or other state space functions. \n",
    "\n",
    "These are parameters which can be obtained using reduced-form estimation methods or calibrated using prior knowledge about the policy context.\n",
    "\n",
    "An example for a parameter that should be stored in `model_specs` would be the market interest rate or policy parameters like tax rates.  \n",
    "\n"
   ]
  },
  {
   "cell_type": "code",
   "execution_count": null,
   "id": "3a932eda",
   "metadata": {},
   "outputs": [],
   "source": [
    "# Example of model specs\n",
    "\n",
    "model_specs = {}"
   ]
  }
 ],
 "metadata": {
  "language_info": {
   "name": "python"
  }
 },
 "nbformat": 4,
 "nbformat_minor": 5
}
