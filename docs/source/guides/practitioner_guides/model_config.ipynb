{
 "cells": [
  {
   "cell_type": "markdown",
   "id": "c46eeec3",
   "metadata": {},
   "source": [
    "# Model Configuration Guide\n",
    "\n",
    "`dc-egm` requires a number of inputs to correctly specify a dyanmic model. These configuations are saved in  the dictionary `model_config`. \n",
    "\n",
    "There are a number of required inputs without which `dc-egm` throws an error message. Depending on the desired model features, further configurations are required."
   ]
  },
  {
   "cell_type": "code",
   "execution_count": null,
   "id": "3d9e0366",
   "metadata": {},
   "outputs": [],
   "source": [
    "import numpy as np"
   ]
  },
  {
   "cell_type": "markdown",
   "id": "ba5fa998",
   "metadata": {},
   "source": [
    "### Required configurations\n",
    "\n",
    "1. Number of periods in the model"
   ]
  },
  {
   "cell_type": "code",
   "execution_count": null,
   "id": "d440600f",
   "metadata": {},
   "outputs": [],
   "source": [
    "model_config = {}\n",
    "model_config[\"n_periods\"] = 5"
   ]
  },
  {
   "cell_type": "markdown",
   "id": "b0e28be3",
   "metadata": {},
   "source": [
    "2. Number of (discrete) choices"
   ]
  },
  {
   "cell_type": "code",
   "execution_count": null,
   "id": "03e2e0bf",
   "metadata": {},
   "outputs": [],
   "source": [
    "# Pass an integer\n",
    "model_config[\"choices\"] = 3\n",
    "\n",
    "# or a list\n",
    "model_config[\"choices\"] = [0, 1, 2]\n",
    "\n",
    "# or a numpy array\n",
    "model_config[\"choices\"] = np.array([0, 1, 2])"
   ]
  },
  {
   "cell_type": "markdown",
   "id": "ec75f15f",
   "metadata": {},
   "source": [
    "3. Asset grid"
   ]
  },
  {
   "cell_type": "code",
   "execution_count": null,
   "id": "75081f3f",
   "metadata": {},
   "outputs": [],
   "source": []
  },
  {
   "cell_type": "markdown",
   "id": "ed83f1c6",
   "metadata": {},
   "source": [
    "4. Quadrature points"
   ]
  },
  {
   "cell_type": "code",
   "execution_count": null,
   "id": "6f9fe97a",
   "metadata": {},
   "outputs": [],
   "source": []
  },
  {
   "cell_type": "markdown",
   "id": "fad03a16",
   "metadata": {},
   "source": [
    "### Further configurations"
   ]
  },
  {
   "cell_type": "markdown",
   "id": "b8a90e05",
   "metadata": {},
   "source": [
    "1. Endogenous discrete states"
   ]
  },
  {
   "cell_type": "markdown",
   "id": "f4a97c99",
   "metadata": {},
   "source": [
    "2. Stochastic discrete states"
   ]
  },
  {
   "cell_type": "markdown",
   "id": "18363280",
   "metadata": {},
   "source": [
    "3. Continuous states"
   ]
  }
 ],
 "metadata": {
  "language_info": {
   "name": "python"
  }
 },
 "nbformat": 4,
 "nbformat_minor": 5
}
