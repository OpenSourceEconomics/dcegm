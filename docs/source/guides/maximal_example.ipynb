{
 "cells": [
  {
   "cell_type": "markdown",
   "id": "b2b8c659",
   "metadata": {},
   "source": [
    "# Maximal Example\n",
    "\n",
    "\n"
   ]
  },
  {
   "cell_type": "markdown",
   "id": "168b7f18",
   "metadata": {},
   "source": []
  }
 ],
 "metadata": {
  "language_info": {
   "name": "python"
  }
 },
 "nbformat": 4,
 "nbformat_minor": 5
}
