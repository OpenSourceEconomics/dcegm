{
 "cells": [
  {
   "cell_type": "markdown",
   "id": "2f7d8c63",
   "metadata": {},
   "source": [
    "## Solution Speed Benchmarks\n",
    "\n",
    "Below you find benchmakrs to compare the solution speed of the `dc-egm` for models with differing degrees of complexity."
   ]
  },
  {
   "cell_type": "markdown",
   "id": "2e45e97f",
   "metadata": {},
   "source": []
  }
 ],
 "metadata": {
  "language_info": {
   "name": "python"
  }
 },
 "nbformat": 4,
 "nbformat_minor": 5
}
