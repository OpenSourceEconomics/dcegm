{
 "cells": [
  {
   "cell_type": "markdown",
   "metadata": {},
   "source": [
    "# Two period model tutorial\n",
    "\n",
    "In this tutorial, we demonstrate the use of the dcegm package using the example of a simple consumption-retirement model which consists of two periods. Due to the simplicity of the considered model, it is well suited to become familiar with this kind of models and the use of the dcegm package.\n",
    "\n",
    "We will start with the theoretical model and show how this model can be solved numerically using the dcegm package. Subsequently, we will derive the analytical solution of this problem and eventually, compare the two solutions in order to show the accuracy of the numerical solution by the DC-EGM algorithm."
   ]
  },
  {
   "cell_type": "markdown",
   "metadata": {},
   "source": [
    "### Two period model\n",
    "\n",
    "We consider a simple consumption-retirement model with only two periods. The objective function in period 0 is given by\n",
    "\n",
    "$$ V_0 = \\max_{c_0, d_0} \\mathbb{E}_\\pi \\left[ \\sum_{t=0}^{1} \\beta^{t} u(c_t,d_t)\\right],$$\n",
    "\n",
    "where $\\beta \\in [0,1]$ is the discount factor, $c_t\\geq 0$ is the consumption in period $t$ and $d_t\\in \\{0,1\\}$ specifies the choice with $d_t = 0$ indicating work and $d_t=1$ indicating retirement at the end of period $t$.\n",
    "Here the utility function has the form\n",
    "\n",
    "$$u(c_t,d_t) = \\frac{c_t^{1-\\rho}}{1-\\rho}-\\delta (1-d_t)+\\epsilon_t(d_t)$$\n",
    "\n",
    "The parameters $\\rho \\geq 0$ and $\\delta \\geq 0$ are measures of risk aversion and  disutility of work, respectively, while $\\epsilon \\sim EV(0,1)$ is a choice-specific taste shock with extreme-value distribution.\n",
    "\n",
    "\n",
    "In each period $t$, the consumption $c_t$ has to satisfy the budget constraint $c_t \\leq M_t$ with wealth\n",
    "\n",
    "$$M_t = R(M_{t-1}-c_{t-1})+W_t(1-d_t)-K D_t,$$\n",
    "\n",
    "where $R$ is the interest factor, $W_t$ is the wage in period $t$ and $D_t$ is an exogenous process indicating long-term care dependence with cost $K$.\n",
    "The wage $W_t = W+\\nu_t$ consists of an average wage $W$, which in the two-period model does not depend on $t$ as only the wage in period 1 enters the period 2 budget constraint, and an income shock $\\nu_t \\sim EV(0,1)$.\n",
    "For the long-term care dependence, we have the following transition probabilities\n",
    "\n",
    "\\begin{equation*}\n",
    "\\pi(D_t=1\\mid D_{t-1}=0)=p_t\\\\\n",
    "\\pi(D_t=1\\mid D_{t-1}=1)=1\n",
    "\\end{equation*}\n",
    "\n",
    "meaning that care dependence (just as retirement) is absorbing."
   ]
  },
  {
   "cell_type": "code",
   "execution_count": 1,
   "metadata": {
    "scrolled": true
   },
   "outputs": [],
   "source": [
    "import jax.numpy as jnp\n",
    "import numpy as np\n",
    "import pandas as pd\n",
    "from dcegm.solve import solve_dcegm\n",
    "from scipy.special import roots_sh_legendre\n",
    "from scipy.stats import norm\n",
    "\n",
    "from typing import Callable\n",
    "from typing import Dict\n",
    "from typing import Tuple"
   ]
  },
  {
   "cell_type": "markdown",
   "metadata": {},
   "source": [
    "### Solve model using DCEGM\n",
    "\n",
    "We now demonstrate how to solve the model using the dcegm package. First, we define the parameters of the model. We store the parameters in a multi-index data frame. Inside the package the data frame is transformed into a dictionary with keys being the names of the index level `name`. They can be accessed in the functions defined by the user through the params_dict argument, which is one of the standard arguments of the functions. We will explain the set of keywords for each user function below."
   ]
  },
  {
   "cell_type": "code",
   "execution_count": 2,
   "metadata": {},
   "outputs": [],
   "source": [
    "index = pd.MultiIndex.from_tuples(\n",
    "    [(\"utility_function\", \"rho\"), (\"utility_function\", \"delta\")],\n",
    "    names=[\"category\", \"name\"],\n",
    ")\n",
    "params = pd.DataFrame(data=[0.5, 0.5], columns=[\"value\"], index=index)\n",
    "params.loc[(\"assets\", \"interest_rate\"), \"value\"] = 0.02\n",
    "params.loc[(\"assets\", \"ltc_cost\"), \"value\"] = 5\n",
    "params.loc[(\"assets\", \"max_wealth\"), \"value\"] = 50\n",
    "params.loc[(\"wage\", \"wage_avg\"), \"value\"] = 8\n",
    "params.loc[(\"shocks\", \"sigma\"), \"value\"] = 1\n",
    "params.loc[(\"shocks\", \"lambda\"), \"value\"] = 1\n",
    "params.loc[(\"transition\", \"ltc_prob\"), \"value\"] = 0.3\n",
    "params.loc[(\"beta\", \"beta\"), \"value\"] = 0.95"
   ]
  },
  {
   "cell_type": "code",
   "execution_count": 3,
   "metadata": {},
   "outputs": [
    {
     "data": {
      "text/html": [
       "<div>\n",
       "<style scoped>\n",
       "    .dataframe tbody tr th:only-of-type {\n",
       "        vertical-align: middle;\n",
       "    }\n",
       "\n",
       "    .dataframe tbody tr th {\n",
       "        vertical-align: top;\n",
       "    }\n",
       "\n",
       "    .dataframe thead th {\n",
       "        text-align: right;\n",
       "    }\n",
       "</style>\n",
       "<table border=\"1\" class=\"dataframe\">\n",
       "  <thead>\n",
       "    <tr style=\"text-align: right;\">\n",
       "      <th></th>\n",
       "      <th></th>\n",
       "      <th>value</th>\n",
       "    </tr>\n",
       "    <tr>\n",
       "      <th>category</th>\n",
       "      <th>name</th>\n",
       "      <th></th>\n",
       "    </tr>\n",
       "  </thead>\n",
       "  <tbody>\n",
       "    <tr>\n",
       "      <th rowspan=\"2\" valign=\"top\">utility_function</th>\n",
       "      <th>rho</th>\n",
       "      <td>0.50</td>\n",
       "    </tr>\n",
       "    <tr>\n",
       "      <th>delta</th>\n",
       "      <td>0.50</td>\n",
       "    </tr>\n",
       "    <tr>\n",
       "      <th rowspan=\"3\" valign=\"top\">assets</th>\n",
       "      <th>interest_rate</th>\n",
       "      <td>0.02</td>\n",
       "    </tr>\n",
       "    <tr>\n",
       "      <th>ltc_cost</th>\n",
       "      <td>5.00</td>\n",
       "    </tr>\n",
       "    <tr>\n",
       "      <th>max_wealth</th>\n",
       "      <td>50.00</td>\n",
       "    </tr>\n",
       "    <tr>\n",
       "      <th>wage</th>\n",
       "      <th>wage_avg</th>\n",
       "      <td>8.00</td>\n",
       "    </tr>\n",
       "    <tr>\n",
       "      <th rowspan=\"2\" valign=\"top\">shocks</th>\n",
       "      <th>sigma</th>\n",
       "      <td>1.00</td>\n",
       "    </tr>\n",
       "    <tr>\n",
       "      <th>lambda</th>\n",
       "      <td>1.00</td>\n",
       "    </tr>\n",
       "    <tr>\n",
       "      <th>transition</th>\n",
       "      <th>ltc_prob</th>\n",
       "      <td>0.30</td>\n",
       "    </tr>\n",
       "    <tr>\n",
       "      <th>beta</th>\n",
       "      <th>beta</th>\n",
       "      <td>0.95</td>\n",
       "    </tr>\n",
       "  </tbody>\n",
       "</table>\n",
       "</div>"
      ],
      "text/plain": [
       "                                value\n",
       "category         name                \n",
       "utility_function rho             0.50\n",
       "                 delta           0.50\n",
       "assets           interest_rate   0.02\n",
       "                 ltc_cost        5.00\n",
       "                 max_wealth     50.00\n",
       "wage             wage_avg        8.00\n",
       "shocks           sigma           1.00\n",
       "                 lambda          1.00\n",
       "transition       ltc_prob        0.30\n",
       "beta             beta            0.95"
      ]
     },
     "execution_count": 3,
     "metadata": {},
     "output_type": "execute_result"
    }
   ],
   "source": [
    "params"
   ]
  },
  {
   "cell_type": "markdown",
   "metadata": {},
   "source": [
    "Additionally, a dictionary containing at least the following options has to be specified:\n",
    "- number of periods,\n",
    "- number of discrete choices,\n",
    "- size of the exogenous wealth grid,\n",
    "- number of stochastic quadrature points,\n",
    "- number of exogenous processes.\n",
    "\n",
    "Furthermore, the user can specify arguments, which needs to use in the functions. These are expected to be constant independent of the parametrization of the model."
   ]
  },
  {
   "cell_type": "code",
   "execution_count": 4,
   "metadata": {
    "scrolled": true
   },
   "outputs": [],
   "source": [
    "options = {\n",
    "    \"n_periods\": 2,\n",
    "    \"n_discrete_choices\": 2,\n",
    "    \"grid_points_wealth\": 100,\n",
    "    \"quadrature_points_stochastic\": 5,\n",
    "    \"n_exog_processes\": 2,\n",
    "}"
   ]
  },
  {
   "cell_type": "markdown",
   "metadata": {},
   "source": [
    "Beside the data frame ```params``` and the dictionary ```options```, the main function of the dcegm package ```solve_dcegm``` requires the following inputs:\n",
    "- utility_functions,\n",
    "- budget_constraint,\n",
    "- solve_final_period,\n",
    "- state_space_functions,\n",
    "- user_transition_function.\n",
    "\n",
    "In the following, we will explain the form of the required functions. Note that they all have to be JAX compatible, i.e. pure functions without if-conditions etc."
   ]
  },
  {
   "cell_type": "markdown",
   "metadata": {},
   "source": [
    "#### Utility functions\n",
    "\n",
    "First, we define the utility, the marginal utility and inverse marginal utility. These functions are stored in a dictionary ```utility_functions```."
   ]
  },
  {
   "cell_type": "code",
   "execution_count": 5,
   "metadata": {},
   "outputs": [],
   "source": [
    "def flow_util(consumption, choice, params_dict):\n",
    "    rho = params_dict[\"rho\"]\n",
    "    delta = params_dict[\"delta\"]\n",
    "    u = consumption ** (1 - rho) / (1 - rho) - delta * (1 - choice)\n",
    "    return u\n",
    "\n",
    "\n",
    "def marginal_utility(consumption, params_dict):\n",
    "    rho = params_dict[\"rho\"]\n",
    "    u_prime = consumption ** (-rho)\n",
    "    return u_prime\n",
    "\n",
    "\n",
    "def inverse_marginal_utility(marginal_utility, params_dict):\n",
    "    rho = params_dict[\"rho\"]\n",
    "    return marginal_utility ** (-1 / rho)\n",
    "\n",
    "\n",
    "utility_functions = {\n",
    "    \"utility\": flow_util,\n",
    "    \"inverse_marginal_utility\": inverse_marginal_utility,\n",
    "    \"marginal_utility\": marginal_utility,\n",
    "}"
   ]
  },
  {
   "cell_type": "markdown",
   "metadata": {},
   "source": [
    "#### State space functions\n",
    "\n",
    "Next we define state space functions ```create_state_space``` and ```state_specific_choice_set```. They can be directly imported the dcegm package, but we display them here, in order to explain how they work."
   ]
  },
  {
   "cell_type": "markdown",
   "metadata": {},
   "source": [
    "The function ```create_state_space``` depends only on the ```options``` dictionary and generates the state space, which is the collection of all states. A state consists of period, lagged choice and values of the exogenous processes.\n",
    "Furthermore the function specifies an indexer object, which maps states to indexes."
   ]
  },
  {
   "cell_type": "code",
   "execution_count": 6,
   "metadata": {},
   "outputs": [],
   "source": [
    "def create_state_space(options: Dict[str, int]) -> Tuple[np.ndarray, np.ndarray]:\n",
    "    \"\"\"Create state space object and indexer. We need to add the convention for the\n",
    "    state space objects.\n",
    "\n",
    "    Args:\n",
    "        options (dict): Options dictionary.\n",
    "\n",
    "    Returns:\n",
    "        state_space (np.ndarray): Collection of all possible states of shape\n",
    "            (n_states, n_state_variables).\n",
    "        indexer (np.ndarray): Indexer object that maps states to indexes. The shape of\n",
    "            this object quite complicated. For each state variable it has the number of\n",
    "            possible states as \"row\", i.e.\n",
    "            (n_poss_states_statesvar_1, n_poss_states_statesvar_2, ....)\n",
    "\n",
    "    \"\"\"\n",
    "    n_periods = options[\"n_periods\"]\n",
    "    n_choices = options[\"n_discrete_choices\"]\n",
    "    n_exog_process = options[\"n_exog_processes\"]\n",
    "\n",
    "    shape = (n_periods, n_choices, n_exog_process)\n",
    "    indexer = np.full(shape, -9999, dtype=np.int64)\n",
    "\n",
    "    _state_space = []\n",
    "\n",
    "    i = 0\n",
    "    for period in range(n_periods):\n",
    "        for last_period_decision in range(n_choices):\n",
    "            for exog_process in range(n_exog_process):\n",
    "                indexer[period, last_period_decision, exog_process] = i\n",
    "\n",
    "                row = [period, last_period_decision, exog_process]\n",
    "                _state_space.append(row)\n",
    "\n",
    "                i += 1\n",
    "\n",
    "    state_space = np.array(_state_space, dtype=np.int64)\n",
    "\n",
    "    return state_space, indexer"
   ]
  },
  {
   "cell_type": "markdown",
   "metadata": {},
   "source": [
    "Let us inspect the state space in our model. As there are two periods, two possible choices and two possible health states, we have in total eight different states."
   ]
  },
  {
   "cell_type": "code",
   "execution_count": 7,
   "metadata": {},
   "outputs": [
    {
     "data": {
      "text/plain": [
       "array([[0, 0, 0],\n",
       "       [0, 0, 1],\n",
       "       [0, 1, 0],\n",
       "       [0, 1, 1],\n",
       "       [1, 0, 0],\n",
       "       [1, 0, 1],\n",
       "       [1, 1, 0],\n",
       "       [1, 1, 1]])"
      ]
     },
     "execution_count": 7,
     "metadata": {},
     "output_type": "execute_result"
    }
   ],
   "source": [
    "_state_space, _indexer = create_state_space(options)\n",
    "_state_space"
   ]
  },
  {
   "cell_type": "markdown",
   "metadata": {},
   "source": [
    "The function ```get_specific_choice_set``` specifies possible choices for each state. Hence it takes into account the fact that retirement is absorbing, i.e. if $d_{t-1}=1$, then it must also hold that $d_{t}=1$."
   ]
  },
  {
   "cell_type": "code",
   "execution_count": 8,
   "metadata": {},
   "outputs": [],
   "source": [
    "def state_specific_choice_set(\n",
    "    state: np.ndarray,\n",
    "    state_space: np.ndarray,  # noqa: U100\n",
    "    indexer: np.ndarray,\n",
    ") -> np.ndarray:\n",
    "    \"\"\"Select state-specific choice set.\n",
    "\n",
    "    Args:\n",
    "        state (np.ndarray): Array of shape (n_state_variables,) defining the agent's\n",
    "            state. In Ishkakov, an agent's state is defined by her (i) age (i.e. the\n",
    "            current period) and (ii) her lagged labor market choice.\n",
    "            Hence n_state_variables = 2.\n",
    "        state_space (np.ndarray): Collection of all possible states of shape\n",
    "            (n_periods * n_choices, n_choices).\n",
    "        indexer (np.ndarray): Indexer object that maps states to indexes.\n",
    "            Shape (n_periods, n_choices).\n",
    "\n",
    "    Returns:\n",
    "        choice_set (np.ndarray): The agent's (restricted) choice set in the given\n",
    "            state of shape (n_admissible_choices,).\n",
    "\n",
    "    \"\"\"\n",
    "    n_state_variables = indexer.shape[1]\n",
    "\n",
    "    # Once the agent choses retirement, she can only choose retirement thereafter.\n",
    "    # Hence, retirement is an absorbing state.\n",
    "    if state[1] == 1:\n",
    "        choice_set = np.array([1])\n",
    "    else:\n",
    "        choice_set = np.arange(n_state_variables)\n",
    "\n",
    "    return choice_set"
   ]
  },
  {
   "cell_type": "markdown",
   "metadata": {},
   "source": [
    "As an example, we consider the 5th state of the state space, which corresponds to the case $d_1 = 0$, $D_1=0$. Consequently, in the second period, both choices $d_2 = 0$, $d_2 = 1$ are possible."
   ]
  },
  {
   "cell_type": "code",
   "execution_count": 9,
   "metadata": {},
   "outputs": [
    {
     "data": {
      "text/plain": [
       "array([0, 1])"
      ]
     },
     "execution_count": 9,
     "metadata": {},
     "output_type": "execute_result"
    }
   ],
   "source": [
    "choice_set_5 = state_specific_choice_set(_state_space[4], _state_space, _indexer)\n",
    "choice_set_5"
   ]
  },
  {
   "cell_type": "markdown",
   "metadata": {},
   "source": [
    "Both function ```create_state_space``` and ```get_specific_choice_set``` are stored in a dictionary ```state_space_functions``` before being passed to the main function ```solve_dcegm```."
   ]
  },
  {
   "cell_type": "code",
   "execution_count": 10,
   "metadata": {},
   "outputs": [],
   "source": [
    "state_space_functions = {\n",
    "    \"create_state_space\": create_state_space,\n",
    "    \"state_specific_choice_set\": state_specific_choice_set,\n",
    "}"
   ]
  },
  {
   "cell_type": "markdown",
   "metadata": {},
   "source": [
    "#### Budget function and transitions function\n",
    "\n",
    "Moreover, we define the budget function as well as the transition function. Also note that these function work on the dictionary ```params_dict``` instead of the data frame ```params```."
   ]
  },
  {
   "cell_type": "code",
   "execution_count": 11,
   "metadata": {},
   "outputs": [],
   "source": [
    "def budget_dcegm(state, saving, income_shock, params_dict, options):  # noqa: 100\n",
    "    interest_factor = 1 + params_dict[\"interest_rate\"]\n",
    "    health_costs = params_dict[\"ltc_cost\"]\n",
    "    wage = params_dict[\"wage_avg\"]\n",
    "    resource = (\n",
    "        interest_factor * saving\n",
    "        + (wage + income_shock) * (1 - state[1])\n",
    "        - state[-1] * health_costs\n",
    "    )\n",
    "    return jnp.maximum(resource, 0.5)"
   ]
  },
  {
   "cell_type": "code",
   "execution_count": 12,
   "metadata": {},
   "outputs": [],
   "source": [
    "def transitions_dcegm(state, params_dict):\n",
    "    p = params_dict[\"ltc_prob\"]\n",
    "    if state[-1] == 1:\n",
    "        return np.array([0, 1])\n",
    "    elif state[-1] == 0:\n",
    "        return np.array([1 - p, p])"
   ]
  },
  {
   "cell_type": "markdown",
   "metadata": {},
   "source": [
    "#### Solve final period function\n",
    "\n",
    "Lastly, a function that computes the solution to the final period is required. It can be imported directly from the package, but we also display it here."
   ]
  },
  {
   "cell_type": "code",
   "execution_count": 13,
   "metadata": {},
   "outputs": [],
   "source": [
    "def solve_final_period(\n",
    "    state: np.ndarray,\n",
    "    begin_of_period_resources: float,\n",
    "    choice: int,\n",
    "    options: Dict[str, int],\n",
    "    params_dict: dict,  # noqa: U100\n",
    "    compute_utility: Callable,\n",
    "    compute_marginal_utility: Callable,\n",
    ") -> Tuple[float, float]:\n",
    "    \"\"\"Computes solution to final period for policy and value function.\n",
    "\n",
    "    In the last period, everything is consumed, i.e. consumption = savings.\n",
    "\n",
    "    Args:\n",
    "        state (np.ndarray): Collection of all possible states. Shape is (n_states,).\n",
    "        begin_of_period_resources (float): The agent's begin of period resources.\n",
    "        choice (int): The agent's choice.\n",
    "        options (dict): Options dictionary.\n",
    "        params_dict (dict): Dictionary of parameters.\n",
    "        compute_utility (callable): Function for computation of agent's utility.\n",
    "        compute_marginal_utility (callable): Function for computation of agent's\n",
    "\n",
    "    Returns:\n",
    "        (tuple): Tuple containing\n",
    "\n",
    "        - consumption (float): The agent's consumption.\n",
    "        - value (float): The agent's value in the final period.\n",
    "        - marginal_utility (float): The agent's marginal utility .\n",
    "\n",
    "    \"\"\"\n",
    "    consumption = begin_of_period_resources\n",
    "    value = compute_utility(begin_of_period_resources, choice)\n",
    "    marginal_utility = compute_marginal_utility(begin_of_period_resources)\n",
    "\n",
    "    return consumption, value, marginal_utility"
   ]
  },
  {
   "cell_type": "markdown",
   "metadata": {},
   "source": [
    "#### Solve function\n",
    "\n",
    "If all inputs have the required form as shown above, they can be passed to the function ```solve_dcegm```. This function returns two multi-dimensional arrays:\n",
    "\n",
    "- policy (np.ndarray): Multi-dimensional np.ndarray storing the choice-specific policy function; of shape [n_states, n_discrete_choices, 2, 1.1 * n_grid_wealth]. Position $[.., 0, :]$ contains the endogenous grid over wealth M, and $[.., 1, :]$ stores the corresponding value of the policy function c(M, d), for each state and each discrete choice.\n",
    "- value (np.ndarray): Multi-dimensional np.ndarray storing the choice-specific value functions; of shape [n_states, n_discrete_choices, 2, 1.1 * n_grid_wealth]. Position $[.., 0, :]$ contains the endogenous grid over wealth M, and $[.., 1, :]$ stores the corresponding value of the value function v(M, d), for each state and each discrete choice.\n"
   ]
  },
  {
   "cell_type": "code",
   "execution_count": 14,
   "metadata": {},
   "outputs": [
    {
     "name": "stderr",
     "output_type": "stream",
     "text": [
      "No GPU/TPU found, falling back to CPU. (Set TF_CPP_MIN_LOG_LEVEL=0 and rerun for more info.)\n"
     ]
    }
   ],
   "source": [
    "policy_calculated, value_calculated = solve_dcegm(\n",
    "    params,\n",
    "    options,\n",
    "    utility_functions,\n",
    "    budget_constraint=budget_dcegm,\n",
    "    state_space_functions=state_space_functions,\n",
    "    final_period_solution=solve_final_period,\n",
    "    user_transition_function=transitions_dcegm,\n",
    ")"
   ]
  },
  {
   "cell_type": "markdown",
   "metadata": {},
   "source": [
    "### Analytical solution of the model\n",
    "\n",
    "The solution of the given problem can be derived analytically using backwards induction.\n",
    "\n",
    "#### Period 2: \n",
    "The choice problem in period 2 can be expressed through the Bellman equation\n",
    "$$ V_2 = \\max_{d_2\\in \\{0,1\\}} \\{v_2(M_2,d_2)+\\epsilon_2(d_2)\\}.$$\n",
    "As this is the last period in our model and there is no bequest, the budget is consumed entirely , i.e. $c_2 = M_2$. Hence, the choice-specific value function for a given wealth level $M_2$ and choice $d_2$ is given by\n",
    "$$ v_2(M_2,d_2) = \\frac{M_2^{1-\\rho}}{1-\\rho} - \\delta(1-d_2).$$\n",
    "\n",
    "#### Period 1: \n",
    "Analogous to period 2, the choice problem in period 1 can be expressed through the Bellman equation\n",
    "\n",
    "\n",
    "$$ V_1 = \\max_{d_1\\in \\{0,1\\}} \\{v_1(M_1,d_1)+\\epsilon_1(d_1)\\}.$$\n",
    "\n",
    "\n",
    "Here, the choice-specific value function for a given wealth level $M_1$ and choice $d_1$ is defined by\n",
    "\n",
    "\\begin{align*}\n",
    "v_1(M_1,d_1) &= \\max_{d_1\\in\\{0,1\\}} \\{u(c_1,d_1)+\\beta E_1[EV_2(M_2(v_2,D_2))]\\} \\\\\n",
    "&= \\max_{d_1\\in\\{0,1\\}} \\biggl\\{u(c_1,d_1)+\\beta \\sum_{i=1}^{2}\\left(\\int EV_2(M_2(v_2,D_2))\\, \\text{d}f(\\nu)\\right)\\pi(D_2 = i\\mid D_1)\\biggl\\},\n",
    "\\end{align*}\n",
    "\n",
    "where $EV_2(M_2(\\nu_2,D_2))$ is the expected value function for a given realization of the income shock $\\nu_2$ and exogenous process $D_2$, i.e. it is the expected maximum of the different choice specific value functions in the second period. \n",
    "\n",
    "The extreme value distribution takes the following closed formulas for the expected value function and choice probabilities:\n",
    "\n",
    "$$EV_2(M_2) = \\text{ln}(\\text{exp}(v_2(M_2,1))+\\text{exp}(v_2(M_2,0))),$$\n",
    "\n",
    "$$P(d_2\\mid M_2) = \\frac{\\text{exp}(v_2(M_2,d_2))}{\\text{exp}(v_2(M_2,0))+\\text{exp}(v_2(M_2,1))}.$$\n",
    "\n",
    "Now the problem can be solved using the Euler equation (see Iskhakov et al, 2017, Appendix A, Lemma 1) given by\n",
    "\n",
    "$$u^\\prime(c_1\\mid d_1) = \\beta R E_1\\left[\\sum_{j=1}^{2} u^\\prime(c_2(M_2\\mid d_2),d_2) P(d_2 = j\\mid M_2)\\right]\n",
    ".$$\n",
    "\n",
    "#### Policy functions\n",
    "\n",
    "Using the fact that the marginal utility is given by $u^\\prime(c_t) = c_t^{-\\rho}$ we obtain the consumption policy for period 1:\n",
    "\n",
    "\\begin{align*}\n",
    "c_1 &= \\left(\\beta R E_1\\left[\\sum_{j=1}^{2} u^\\prime(c_2(M_2\\mid d_2),d_2) P(d_2 = j\\mid M_2)\\right]\\right)^{-\\frac{1}{\\rho}} \\\\\n",
    "&= \\beta R  \\sum_{i=1}^{2} \\left( \\int \\sum_{j=1}^{2} u^\\prime(c_2(M_2\\mid d_2),d_2) P(d_2 = j\\mid M_2)\\, \\text{d} f(\\nu) \\right)^{-\\frac{1}{\\rho}} \\\\\n",
    "& = \\beta R  \\sum_{i=1}^{2} \\left( \\int \\sum_{j=1}^{2} u^\\prime(M_2,d_2) P(d_2 = j\\mid M_2)\\, \\text{d} f(\\nu) \\right)^{-\\frac{1}{\\rho}},\n",
    "\\end{align*}\n",
    "\n",
    "where we used the period-2 budget constraint $M_2 = c_2$ in the last equation. Note that this policy function is implicit, as $M_2$ depends on $c_1$. More specifically, we have \n",
    "\n",
    "$$M_2 = R(M_1-c_1)+W_2(1-d_1)-K D_2 = R(M_1-c_1)+(W+\\nu_2)(1-d_1)-KD_2.$$\n",
    "\n",
    "The labor supply in period 1 $d_1 \\in \\{0,1\\}$ is the maximizer of $v_1(M_1,d_1)+\\epsilon_1(d_1)$. Hence, $d_1 = 0$ if $v_1(M_1,0)+\\epsilon_1(0)\\geq v_1(M_1,1)+\\epsilon_1(1)$ and $d_1 = 1$ otherwise.\n",
    "\n",
    "Given $c_1$ and $d_1$, the consumption $c_2$ in period 2, which is equal to the wealth $M_2$ can be calculated by using the budget constraint. The labor supply $d_2$ in period 2 can be determined analogously to period 1 as a maximizer of $v_2(M_2,d_2)+\\epsilon_2(d_2)$."
   ]
  },
  {
   "cell_type": "markdown",
   "metadata": {},
   "source": [
    "The budget constraint, wage, transition probability, choice probabilities and the right-hand side of the Euler equation can be implemented as follows."
   ]
  },
  {
   "cell_type": "code",
   "execution_count": 15,
   "metadata": {},
   "outputs": [],
   "source": [
    "def budget(\n",
    "    lagged_resources, lagged_consumption, lagged_choice, wage, health, params_dict\n",
    "):\n",
    "    interest_factor = 1 + params_dict[\"interest_rate\"]\n",
    "    health_costs = params_dict[\"ltc_cost\"]\n",
    "    resources = (\n",
    "        interest_factor * (lagged_resources - lagged_consumption)\n",
    "        + wage * (1 - lagged_choice)\n",
    "        - health * health_costs\n",
    "    ).clip(min=0.5)\n",
    "    return resources\n",
    "\n",
    "\n",
    "def wage(nu, params_dict):\n",
    "    wage = params_dict[\"wage_avg\"] + nu\n",
    "    return wage\n",
    "\n",
    "\n",
    "def prob_long_term_care_patient(params_dict, lag_health, health):\n",
    "    p = params_dict[\"ltc_prob\"]\n",
    "    if (lag_health == 0) and (health == 1):\n",
    "        pi = p\n",
    "    elif (lag_health == 0) and (health == 0):\n",
    "        pi = 1 - p\n",
    "    elif (lag_health == 1) and (health == 0):\n",
    "        pi = 0\n",
    "    elif (lag_health == 1) and (health == 1):\n",
    "        pi = 1\n",
    "    else:\n",
    "        raise ValueError(\"Health state not defined.\")\n",
    "\n",
    "    return pi\n",
    "\n",
    "\n",
    "def choice_probs(cons, d, params_dict):\n",
    "    v = flow_util(cons, d, params_dict)\n",
    "    v_0 = flow_util(cons, 0, params_dict)\n",
    "    v_1 = flow_util(cons, 1, params_dict)\n",
    "    choice_prob = np.exp(v) / (np.exp(v_0) + np.exp(v_1))\n",
    "    return choice_prob\n",
    "\n",
    "\n",
    "def m_util_aux(init_cond, params_dict, choice_1, nu, consumption):\n",
    "    \"\"\"Return the expected marginal utility for one realization of the wage shock.\"\"\"\n",
    "    budget_1 = init_cond[\"wealth\"]\n",
    "    health_state_1 = init_cond[\"health\"]\n",
    "\n",
    "    weighted_marginal = 0\n",
    "    for health_state_2 in [0, 1]:\n",
    "        for choice_2 in [0, 1]:\n",
    "            budget_2 = budget(\n",
    "                budget_1,\n",
    "                consumption,\n",
    "                choice_1,\n",
    "                wage(nu, params_dict),\n",
    "                health_state_2,\n",
    "                params_dict,\n",
    "            )\n",
    "            marginal_util = marginal_utility(budget_2, params_dict)\n",
    "            choice_prob = choice_probs(budget_2, choice_2, params_dict)\n",
    "            health_prob = prob_long_term_care_patient(\n",
    "                params_dict, health_state_1, health_state_2\n",
    "            )\n",
    "            weighted_marginal += choice_prob * health_prob * marginal_util\n",
    "\n",
    "    return weighted_marginal\n",
    "\n",
    "\n",
    "def euler_rhs(init_cond, params_dict, draws, weights, choice_1, consumption):\n",
    "    beta = params_dict[\"beta\"]\n",
    "    interest_factor = 1 + params_dict[\"interest_rate\"]\n",
    "\n",
    "    rhs = 0\n",
    "    for index_draw, draw in enumerate(draws):\n",
    "        marg_util_draw = m_util_aux(init_cond, params_dict, choice_1, draw, consumption)\n",
    "        rhs += weights[index_draw] * marg_util_draw\n",
    "    return rhs * beta * interest_factor"
   ]
  },
  {
   "cell_type": "markdown",
   "metadata": {},
   "source": [
    "### Comparison of DC-EGM algorithm and analytical solution\n",
    "\n",
    "We now demonstrate the accuracy of the DC-EGM algorithm by inserting the calculated policy into the Euler equation and show that both sides take approximately the same value. \n",
    "As an example, let us consider the first state in the state space with initial health $D_1 = 0$ and as initial wealth $M_1$, we take the first (non-zero) entry of the wealth grid. Furthermore, we choose $d_1 = 0$."
   ]
  },
  {
   "cell_type": "code",
   "execution_count": 16,
   "metadata": {},
   "outputs": [
    {
     "data": {
      "text/plain": [
       "[0, 1]"
      ]
     },
     "execution_count": 16,
     "metadata": {},
     "output_type": "execute_result"
    }
   ],
   "source": [
    "state_id = 0\n",
    "wealth_id = 0\n",
    "\n",
    "state_space, _ = create_state_space(options)\n",
    "state = state_space[state_id, :]\n",
    "\n",
    "if state[1] == 1:\n",
    "    choice_range = [1]\n",
    "else:\n",
    "    choice_range = [0, 1]\n",
    "choice_range"
   ]
  },
  {
   "cell_type": "code",
   "execution_count": 17,
   "metadata": {},
   "outputs": [],
   "source": [
    "choice_in_period_1 = 0"
   ]
  },
  {
   "cell_type": "code",
   "execution_count": 18,
   "metadata": {},
   "outputs": [],
   "source": [
    "initial_cond = {}\n",
    "initial_cond[\"health\"] = state[-1]"
   ]
  },
  {
   "cell_type": "markdown",
   "metadata": {},
   "source": [
    "Given the calculated policy using the dcegm package, we know compare the left hand side of the Euler equation (which is equal to the marginal utility) to its right hand side."
   ]
  },
  {
   "cell_type": "code",
   "execution_count": 19,
   "metadata": {},
   "outputs": [],
   "source": [
    "# calculated policy function for this state by the DC-EGM algorithm\n",
    "calculated_policy_func = policy_calculated[state_id, choice_in_period_1, :, :]\n",
    "\n",
    "# needed for computation of the integral\n",
    "quad_points, quad_weights = roots_sh_legendre(5)\n",
    "quad_draws = norm.ppf(quad_points) * 1\n",
    "\n",
    "# transform params data frame to dict\n",
    "keys = params.index.droplevel(\"category\").tolist()\n",
    "values = params[\"value\"].tolist()\n",
    "params_dict = dict(zip(keys, values))\n",
    "\n",
    "# extract the consumption in period 1\n",
    "calculated_policy_func = policy_calculated[state_id, choice_in_period_1, :, :]\n",
    "wealth = calculated_policy_func[0, wealth_id + 1]\n",
    "if ~np.isnan(wealth) and wealth > 0:\n",
    "    initial_cond[\"wealth\"] = wealth\n",
    "    cons_calc = calculated_policy_func[1, wealth_id + 1]"
   ]
  },
  {
   "cell_type": "markdown",
   "metadata": {},
   "source": [
    "As expected, the by the DC-EGM algorithm calculated consumption in the first period $c_1$ satisfies the Euler equation, since both sides are (approximately) equal."
   ]
  },
  {
   "cell_type": "code",
   "execution_count": 20,
   "metadata": {},
   "outputs": [
    {
     "data": {
      "text/plain": [
       "0.41696745526617773"
      ]
     },
     "execution_count": 20,
     "metadata": {},
     "output_type": "execute_result"
    }
   ],
   "source": [
    "rhs = euler_rhs(\n",
    "    initial_cond, params_dict, quad_draws, quad_weights, choice_in_period_1, cons_calc\n",
    ")\n",
    "rhs"
   ]
  },
  {
   "cell_type": "code",
   "execution_count": 21,
   "metadata": {},
   "outputs": [
    {
     "data": {
      "text/plain": [
       "0.416967457857728"
      ]
     },
     "execution_count": 21,
     "metadata": {},
     "output_type": "execute_result"
    }
   ],
   "source": [
    "lhs = marginal_utility(cons_calc, params_dict)\n",
    "lhs"
   ]
  }
 ],
 "metadata": {
  "kernelspec": {
   "display_name": "Python 3 (ipykernel)",
   "language": "python",
   "name": "python3"
  },
  "language_info": {
   "codemirror_mode": {
    "name": "ipython",
    "version": 3
   },
   "file_extension": ".py",
   "mimetype": "text/x-python",
   "name": "python",
   "nbconvert_exporter": "python",
   "pygments_lexer": "ipython3",
   "version": "3.10.9"
  }
 },
 "nbformat": 4,
 "nbformat_minor": 4
}
