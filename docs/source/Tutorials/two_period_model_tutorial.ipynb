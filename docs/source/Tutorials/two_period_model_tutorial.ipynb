{
 "cells": [
  {
   "cell_type": "markdown",
   "metadata": {},
   "source": [
    "# Two period model tutorial\n",
    "\n",
    "In this tutorial, we demonstrate the use of the dcegm package using the example of a simple consumption-retirement model which consists of two periods. Due to the simplicity of the considered model, it is well suited to become familiar with this kind of models and the use of the dcegm package.\n",
    "\n",
    "We will start with the theoretical model and show how this model can be solved numerically using the dcegm package. Subsequently, we will derive the analytical solution of this problem and eventually, compare the two solutions in order to show the accuracy of the numerical solution by the DC-EGM algorithm."
   ]
  },
  {
   "cell_type": "markdown",
   "metadata": {},
   "source": [
    "### Two period model\n",
    "\n",
    "We consider a simple consumption-retirement model with only two periods. The objective function in period 0 is given by\n",
    "\n",
    "$$ V_0 = \\max_{c_0, d_0} \\mathbb{E}_\\pi \\left[ \\sum_{t=0}^{1} \\beta^{t} u(c_t,d_t)\\right],$$\n",
    "\n",
    "where $\\beta \\in [0,1]$ is the discount factor, $c_t\\geq 0$ is the consumption in period $t$ and $d_t\\in \\{0,1\\}$ specifies the choice with $d_t = 0$ indicating work and $d_t=1$ indicating retirement at the end of period $t$.\n",
    "Here the utility function has the form\n",
    "\n",
    "$$u(c_t,d_t) = \\frac{c_t^{1-\\rho}}{1-\\rho}-\\delta (1-d_t)+\\epsilon_t(d_t)$$\n",
    "\n",
    "The parameters $\\rho \\geq 0$ and $\\delta \\geq 0$ are measures of risk aversion and  disutility of work, respectively, while $\\epsilon \\sim EV(0,1)$ is a choice-specific taste shock with extreme-value distribution.\n",
    "\n",
    "\n",
    "In each period $t$, the consumption $c_t$ has to satisfy the budget constraint $c_t \\leq M_t$ with wealth\n",
    "\n",
    "$$M_t = R(M_{t-1}-c_{t-1})+W_t(1-d_t)-K D_t,$$\n",
    "\n",
    "where $R$ is the interest factor, $W_t$ is the wage in period $t$ and $D_t$ is an exogenous process indicating long-term care dependence with cost $K$.\n",
    "The wage $W_t = W+\\nu_t$ consists of an average wage $W$, which in the two-period model does not depend on $t$ as only the wage in period 1 enters the period 2 budget constraint, and an income shock $\\nu_t \\sim EV(0,1)$.\n",
    "For the long-term care dependence, we have the following transition probabilities\n",
    "\n",
    "\\begin{equation*}\n",
    "\\pi(D_t=1\\mid D_{t-1}=0)=p_t\\\\\n",
    "\\pi(D_t=1\\mid D_{t-1}=1)=1\n",
    "\\end{equation*}\n",
    "\n",
    "meaning that care dependence (just as retirement) is absorbing."
   ]
  },
  {
   "cell_type": "code",
   "execution_count": 1,
   "metadata": {
    "scrolled": true
   },
   "outputs": [],
   "source": [
    "import jax.numpy as jnp\n",
    "import numpy as np\n",
    "import pandas as pd\n",
    "from dcegm.solve import solve_dcegm\n",
    "from scipy.special import roots_sh_legendre\n",
    "from scipy.stats import norm\n",
    "\n",
    "from typing import Callable\n",
    "from typing import Dict\n",
    "from typing import Tuple"
   ]
  },
  {
   "cell_type": "markdown",
   "metadata": {},
   "source": [
    "### Solve model using DCEGM\n",
    "\n",
    "We now demonstrate how to solve the model using the dcegm package. First, we define the parameters of the model. We store the parameters in a multi-index data frame. Inside the package the data frame is transformed into a dictionary with keys being the names of the index level `name`. They can be accessed in the functions defined by the user through the params_dict argument, which is one of the standard arguments of the functions. We will explain the set of keywords for each user function below."
   ]
  },
  {
   "cell_type": "code",
   "execution_count": 2,
   "metadata": {},
   "outputs": [],
   "source": [
    "params = {}\n",
    "params[\"interest_rate\"] = 0.02\n",
    "params[\"ltc_cost\"] = 5\n",
    "params[\"max_wealth\"] = 50\n",
    "params[\"wage_avg\"] = 8\n",
    "params[\"sigma\"] = 1\n",
    "params[\"lambda\"] = 1\n",
    "params[\"ltc_prob\"] = 0.3\n",
    "params[\"beta\"] = 0.95"
   ]
  },
  {
   "cell_type": "markdown",
   "metadata": {},
   "source": [
    "Additionally, a dictionary containing at least the following options has to be specified:\n",
    "- number of periods,\n",
    "- number of discrete choices,\n",
    "- size of the exogenous wealth grid,\n",
    "- number of stochastic quadrature points,\n",
    "- number of exogenous processes.\n",
    "\n",
    "Furthermore, the user can specify arguments, which needs to use in the functions. These are expected to be constant independent of the parametrization of the model."
   ]
  },
  {
   "cell_type": "code",
   "execution_count": 3,
   "metadata": {},
   "outputs": [],
   "source": [
    "def prob_exog_ltc(ltc, params):\n",
    "    prob_ltc = params[\"ltc_prob\"]\n",
    "\n",
    "    ltc_depenent = ltc == 1\n",
    "    prob_ltc = ltc_depenent + (1 - ltc_depenent) * prob_ltc\n",
    "\n",
    "    return jnp.array([1 - prob_ltc, prob_ltc])"
   ]
  },
  {
   "cell_type": "code",
   "execution_count": null,
   "metadata": {},
   "outputs": [],
   "source": []
  },
  {
   "cell_type": "code",
   "execution_count": 4,
   "metadata": {
    "scrolled": true
   },
   "outputs": [],
   "source": [
    "options = {\n",
    "    \"model_params\": {\n",
    "        \"quadrature_points_stochastic\": 5,\n",
    "        \"n_choices\": 2,\n",
    "    },\n",
    "    \"state_space\": {\n",
    "        \"n_periods\": 2,\n",
    "        \"choices\": np.arange(2),\n",
    "        \"endogenous_states\": {\n",
    "            \"married\": [0, 1],\n",
    "        },\n",
    "        \"continuous_states\": {\n",
    "            \"wealth\": np.linspace(0, 50, 100),\n",
    "        },\n",
    "        \"exogenous_processes\": {\n",
    "            \"ltc\": {\"transition\": prob_exog_ltc, \"states\": [0, 1]},\n",
    "        },\n",
    "    },\n",
    "}"
   ]
  },
  {
   "cell_type": "markdown",
   "metadata": {},
   "source": [
    "Beside the data frame ```params``` and the dictionary ```options```, the main function of the dcegm package ```solve_dcegm``` requires the following inputs:\n",
    "- utility_functions,\n",
    "- budget_constraint,\n",
    "- solve_final_period,\n",
    "- state_space_functions,\n",
    "- user_transition_function.\n",
    "\n",
    "In the following, we will explain the form of the required functions. Note that they all have to be JAX compatible, i.e. pure functions without if-conditions etc."
   ]
  },
  {
   "cell_type": "markdown",
   "metadata": {},
   "source": [
    "#### Utility functions\n",
    "\n",
    "First, we define the utility, the marginal utility and inverse marginal utility. These functions are stored in a dictionary ```utility_functions```."
   ]
  },
  {
   "cell_type": "code",
   "execution_count": 5,
   "metadata": {},
   "outputs": [],
   "source": [
    "def flow_util(consumption, choice, params):\n",
    "    rho = params[\"rho\"]\n",
    "    delta = params[\"delta\"]\n",
    "    u = consumption ** (1 - rho) / (1 - rho) - delta * (1 - choice)\n",
    "    return u\n",
    "\n",
    "\n",
    "def marginal_utility(consumption, params):\n",
    "    rho = params[\"rho\"]\n",
    "    u_prime = consumption ** (-rho)\n",
    "    return u_prime\n",
    "\n",
    "\n",
    "def inverse_marginal_utility(marginal_utility, params):\n",
    "    rho = params[\"rho\"]\n",
    "    return marginal_utility ** (-1 / rho)\n",
    "\n",
    "\n",
    "utility_functions = {\n",
    "    \"utility\": flow_util,\n",
    "    \"inverse_marginal_utility\": inverse_marginal_utility,\n",
    "    \"marginal_utility\": marginal_utility,\n",
    "}"
   ]
  },
  {
   "cell_type": "markdown",
   "metadata": {},
   "source": [
    "#### State space functions\n",
    "\n",
    "Next we define state space functions ```create_state_space``` and ```state_specific_choice_set```. They can be directly imported the dcegm package, but we display them here, in order to explain how they work."
   ]
  },
  {
   "cell_type": "markdown",
   "metadata": {},
   "source": [
    "The function ```create_state_space``` depends only on the ```options``` dictionary and generates the state space, which is the collection of all states. A state consists of period, lagged choice and values of the exogenous processes.\n",
    "Furthermore the function specifies an indexer object, which maps states to indexes."
   ]
  },
  {
   "cell_type": "markdown",
   "metadata": {},
   "source": [
    "The function ```get_specific_choice_set``` specifies possible choices for each state. Hence it takes into account the fact that retirement is absorbing, i.e. if $d_{t-1}=1$, then it must also hold that $d_{t}=1$."
   ]
  },
  {
   "cell_type": "code",
   "execution_count": 6,
   "metadata": {},
   "outputs": [],
   "source": [
    "def state_specific_choice_set(\n",
    "    lagged_choice: np.ndarray,\n",
    "    options: np.ndarray,\n",
    ") -> np.ndarray:\n",
    "    \"\"\"Select state-specific choice set.\n",
    "\n",
    "    Args:\n",
    "        state (np.ndarray): Array of shape (n_state_variables,) defining the agent's\n",
    "            state. In Ishkakov, an agent's state is defined by her (i) age (i.e. the\n",
    "            current period) and (ii) her lagged labor market choice.\n",
    "            Hence n_state_variables = 2.\n",
    "        state_space (np.ndarray): Collection of all possible states of shape\n",
    "            (n_periods * n_choices, n_choices).\n",
    "        indexer (np.ndarray): Indexer object that maps states to indexes.\n",
    "            Shape (n_periods, n_choices).\n",
    "\n",
    "    Returns:\n",
    "        choice_set (np.ndarray): The agent's (restricted) choice set in the given\n",
    "            state of shape (n_admissible_choices,).\n",
    "\n",
    "    \"\"\"\n",
    "\n",
    "    # Once the agent choses retirement, she can only choose retirement thereafter.\n",
    "    # Hence, retirement is an absorbing state.\n",
    "    if lagged_choice == 1:\n",
    "        choice_set = np.array([1])\n",
    "    else:\n",
    "        choice_set = np.arange(options[\"n_choices\"])\n",
    "\n",
    "    return choice_set"
   ]
  },
  {
   "cell_type": "markdown",
   "metadata": {},
   "source": [
    "As an example, we consider the 5th state of the state space, which corresponds to the case $d_1 = 0$, $D_1=0$. Consequently, in the second period, both choices $d_2 = 0$, $d_2 = 1$ are possible."
   ]
  },
  {
   "cell_type": "code",
   "execution_count": 8,
   "metadata": {},
   "outputs": [
    {
     "data": {
      "text/plain": [
       "array([0, 1])"
      ]
     },
     "execution_count": 8,
     "metadata": {},
     "output_type": "execute_result"
    }
   ],
   "source": [
    "choice_set_5 = state_specific_choice_set(0, options[\"model_params\"])\n",
    "choice_set_5"
   ]
  },
  {
   "cell_type": "markdown",
   "metadata": {},
   "source": [
    "Both function ```create_state_space``` and ```get_specific_choice_set``` are stored in a dictionary ```state_space_functions``` before being passed to the main function ```solve_dcegm```."
   ]
  },
  {
   "cell_type": "code",
   "execution_count": 9,
   "metadata": {},
   "outputs": [],
   "source": [
    "state_space_functions = {\n",
    "    \"state_specific_choice_set\": state_specific_choice_set,\n",
    "}"
   ]
  },
  {
   "cell_type": "markdown",
   "metadata": {},
   "source": [
    "#### Budget function and transitions function\n",
    "\n",
    "Moreover, we define the budget function as well as the transition function. Also note that these function work on the dictionary ```params_dict``` instead of the data frame ```params```."
   ]
  },
  {
   "cell_type": "code",
   "execution_count": 13,
   "metadata": {},
   "outputs": [],
   "source": [
    "def budget_dcegm(lagged_choice, ltc, savings_end_of_previous_period, income_shock_previous_period, params, options):  # noqa: 100\n",
    "    interest_factor = 1 + params[\"interest_rate\"]\n",
    "    health_costs = params[\"ltc_cost\"]\n",
    "    wage = params[\"wage_avg\"]\n",
    "    resource = (\n",
    "        interest_factor * savings_end_of_previous_period\n",
    "        + (wage + income_shock_previous_period) * (1 - lagged_choice)\n",
    "        - ltc * health_costs\n",
    "    )\n",
    "    return jnp.maximum(resource, 0.5)"
   ]
  },
  {
   "cell_type": "markdown",
   "metadata": {},
   "source": [
    "#### Solve final period function\n",
    "\n",
    "Lastly, a function that computes the solution to the final period is required. It can be imported directly from the package, but we also display it here."
   ]
  },
  {
   "cell_type": "code",
   "execution_count": 15,
   "metadata": {},
   "outputs": [],
   "source": [
    "def final_period_utility(\n",
    "    wealth: float,\n",
    "    choice: int,\n",
    "    params\n",
    ") -> Tuple[float, float]:\n",
    "    return flow_util(wealth, choice, params)\n",
    "\n",
    "\n",
    "def marginal_final(wealth, choice):\n",
    "    return marginal_utility(wealth, params)\n",
    "\n",
    "\n",
    "final_period_utility = {\n",
    "    \"utility\": final_period_utility,\n",
    "    \"marginal_utility\": marginal_final,\n",
    "}"
   ]
  },
  {
   "cell_type": "markdown",
   "metadata": {},
   "source": [
    "#### Solve function\n",
    "\n",
    "If all inputs have the required form as shown above, they can be passed to the function ```solve_dcegm```. This function returns two multi-dimensional arrays:\n",
    "\n",
    "- policy (np.ndarray): Multi-dimensional np.ndarray storing the choice-specific policy function; of shape [n_states, n_discrete_choices, 2, 1.1 * n_grid_wealth]. Position $[.., 0, :]$ contains the endogenous grid over wealth M, and $[.., 1, :]$ stores the corresponding value of the policy function c(M, d), for each state and each discrete choice.\n",
    "- value (np.ndarray): Multi-dimensional np.ndarray storing the choice-specific value functions; of shape [n_states, n_discrete_choices, 2, 1.1 * n_grid_wealth]. Position $[.., 0, :]$ contains the endogenous grid over wealth M, and $[.., 1, :]$ stores the corresponding value of the value function v(M, d), for each state and each discrete choice.\n"
   ]
  },
  {
   "cell_type": "code",
   "execution_count": 16,
   "metadata": {},
   "outputs": [
    {
     "name": "stdout",
     "output_type": "stream",
     "text": [
      "Update function for state space not given. Assume states only change with an increase of the period and lagged choice.\n",
      "Sparsity condition not provided. Assume all states are valid.\n",
      "Starting state space creation\n",
      "State space created.\n",
      "\n",
      "Starting state-choice space creation and child state mapping.\n",
      "State, state-choice and child state mapping created.\n",
      "\n",
      "Start creating batches for the model.\n",
      "Model setup complete.\n",
      "\n"
     ]
    },
    {
     "name": "stderr",
     "output_type": "stream",
     "text": [
      "/home/maxbl/Uni/dcegm/dcegm/src/dcegm/solve.py:361: UserWarning: Explicitly requested dtype <class 'jax.numpy.float64'> requested in full is not available, and will be truncated to dtype float32. To enable more dtypes, set the jax_enable_x64 configuration option or the JAX_ENABLE_X64 shell environment variable. See https://github.com/google/jax#current-gotchas for more.\n",
      "  value_solved = jnp.full(\n",
      "/home/maxbl/Uni/dcegm/dcegm/src/dcegm/solve.py:366: UserWarning: Explicitly requested dtype <class 'jax.numpy.float64'> requested in full is not available, and will be truncated to dtype float32. To enable more dtypes, set the jax_enable_x64 configuration option or the JAX_ENABLE_X64 shell environment variable. See https://github.com/google/jax#current-gotchas for more.\n",
      "  policy_solved = jnp.full(\n",
      "/home/maxbl/Uni/dcegm/dcegm/src/dcegm/solve.py:371: UserWarning: Explicitly requested dtype <class 'jax.numpy.float64'> requested in full is not available, and will be truncated to dtype float32. To enable more dtypes, set the jax_enable_x64 configuration option or the JAX_ENABLE_X64 shell environment variable. See https://github.com/google/jax#current-gotchas for more.\n",
      "  endog_grid_solved = jnp.full(\n"
     ]
    },
    {
     "ename": "KeyError",
     "evalue": "'rho'",
     "output_type": "error",
     "traceback": [
      "\u001b[0;31m---------------------------------------------------------------------------\u001b[0m",
      "\u001b[0;31mKeyError\u001b[0m                                  Traceback (most recent call last)",
      "Cell \u001b[0;32mIn[16], line 1\u001b[0m\n\u001b[0;32m----> 1\u001b[0m solution \u001b[38;5;241m=\u001b[39m \u001b[43msolve_dcegm\u001b[49m\u001b[43m(\u001b[49m\n\u001b[1;32m      2\u001b[0m \u001b[43m    \u001b[49m\u001b[43mparams\u001b[49m\u001b[38;5;241;43m=\u001b[39;49m\u001b[43mparams\u001b[49m\u001b[43m,\u001b[49m\n\u001b[1;32m      3\u001b[0m \u001b[43m    \u001b[49m\u001b[43moptions\u001b[49m\u001b[38;5;241;43m=\u001b[39;49m\u001b[43moptions\u001b[49m\u001b[43m,\u001b[49m\n\u001b[1;32m      4\u001b[0m \u001b[43m    \u001b[49m\u001b[43mutility_functions\u001b[49m\u001b[38;5;241;43m=\u001b[39;49m\u001b[43mutility_functions\u001b[49m\u001b[43m,\u001b[49m\n\u001b[1;32m      5\u001b[0m \u001b[43m    \u001b[49m\u001b[43mutility_functions_final_period\u001b[49m\u001b[38;5;241;43m=\u001b[39;49m\u001b[43mfinal_period_utility\u001b[49m\u001b[43m,\u001b[49m\n\u001b[1;32m      6\u001b[0m \u001b[43m    \u001b[49m\u001b[43mbudget_constraint\u001b[49m\u001b[38;5;241;43m=\u001b[39;49m\u001b[43mbudget_dcegm\u001b[49m\u001b[43m,\u001b[49m\n\u001b[1;32m      7\u001b[0m \u001b[43m    \u001b[49m\u001b[43mstate_space_functions\u001b[49m\u001b[38;5;241;43m=\u001b[39;49m\u001b[43mstate_space_functions\u001b[49m\u001b[43m,\u001b[49m\n\u001b[1;32m      8\u001b[0m \u001b[43m)\u001b[49m\n",
      "File \u001b[0;32m~/Uni/dcegm/dcegm/src/dcegm/solve.py:62\u001b[0m, in \u001b[0;36msolve_dcegm\u001b[0;34m(params, options, utility_functions, utility_functions_final_period, budget_constraint, state_space_functions)\u001b[0m\n\u001b[1;32m     28\u001b[0m \u001b[38;5;250m\u001b[39m\u001b[38;5;124;03m\"\"\"Solve a discrete-continuous life-cycle model using the DC-EGM algorithm.\u001b[39;00m\n\u001b[1;32m     29\u001b[0m \n\u001b[1;32m     30\u001b[0m \u001b[38;5;124;03mArgs:\u001b[39;00m\n\u001b[0;32m   (...)\u001b[0m\n\u001b[1;32m     51\u001b[0m \n\u001b[1;32m     52\u001b[0m \u001b[38;5;124;03m\"\"\"\u001b[39;00m\n\u001b[1;32m     54\u001b[0m backward_jit \u001b[38;5;241m=\u001b[39m get_solve_function(\n\u001b[1;32m     55\u001b[0m     options\u001b[38;5;241m=\u001b[39moptions,\n\u001b[1;32m     56\u001b[0m     state_space_functions\u001b[38;5;241m=\u001b[39mstate_space_functions,\n\u001b[0;32m   (...)\u001b[0m\n\u001b[1;32m     59\u001b[0m     utility_functions_final_period\u001b[38;5;241m=\u001b[39mutility_functions_final_period,\n\u001b[1;32m     60\u001b[0m )\n\u001b[0;32m---> 62\u001b[0m results \u001b[38;5;241m=\u001b[39m \u001b[43mbackward_jit\u001b[49m\u001b[43m(\u001b[49m\u001b[43mparams\u001b[49m\u001b[38;5;241;43m=\u001b[39;49m\u001b[43mparams\u001b[49m\u001b[43m)\u001b[49m\n\u001b[1;32m     64\u001b[0m \u001b[38;5;28;01mreturn\u001b[39;00m results\n",
      "File \u001b[0;32m~/Uni/dcegm/dcegm/src/dcegm/solve.py:142\u001b[0m, in \u001b[0;36mget_solve_func_for_model.<locals>.solve_func\u001b[0;34m(params)\u001b[0m\n\u001b[1;32m    140\u001b[0m \u001b[38;5;28;01mdef\u001b[39;00m \u001b[38;5;21msolve_func\u001b[39m(params):\n\u001b[1;32m    141\u001b[0m     params_initial \u001b[38;5;241m=\u001b[39m process_params(params)\n\u001b[0;32m--> 142\u001b[0m     \u001b[38;5;28;01mreturn\u001b[39;00m \u001b[43mbackward_jit\u001b[49m\u001b[43m(\u001b[49m\u001b[43mparams\u001b[49m\u001b[38;5;241;43m=\u001b[39;49m\u001b[43mparams_initial\u001b[49m\u001b[43m)\u001b[49m\n",
      "    \u001b[0;31m[... skipping hidden 11 frame]\u001b[0m\n",
      "File \u001b[0;32m~/Uni/dcegm/dcegm/src/dcegm/solve.py:249\u001b[0m, in \u001b[0;36mbackward_induction\u001b[0;34m(params, options, has_second_continuous_state, exog_grids, state_space_dict, n_state_choices, batch_info, income_shock_draws_unscaled, income_shock_weights, model_funcs)\u001b[0m\n\u001b[1;32m    232\u001b[0m (\n\u001b[1;32m    233\u001b[0m     value_solved,\n\u001b[1;32m    234\u001b[0m     policy_solved,\n\u001b[0;32m   (...)\u001b[0m\n\u001b[1;32m    239\u001b[0m     has_second_continuous_state\u001b[38;5;241m=\u001b[39mhas_second_continuous_state,\n\u001b[1;32m    240\u001b[0m )\n\u001b[1;32m    242\u001b[0m \u001b[38;5;66;03m# Solve the last two periods. We do this separately as the marginal utility of\u001b[39;00m\n\u001b[1;32m    243\u001b[0m \u001b[38;5;66;03m# the child states in the last period is calculated from the marginal utility\u001b[39;00m\n\u001b[1;32m    244\u001b[0m \u001b[38;5;66;03m# function of the bequest function, which might differ.\u001b[39;00m\n\u001b[1;32m    245\u001b[0m (\n\u001b[1;32m    246\u001b[0m     value_solved,\n\u001b[1;32m    247\u001b[0m     policy_solved,\n\u001b[1;32m    248\u001b[0m     endog_grid_solved,\n\u001b[0;32m--> 249\u001b[0m ) \u001b[38;5;241m=\u001b[39m \u001b[43msolve_last_two_periods\u001b[49m\u001b[43m(\u001b[49m\n\u001b[1;32m    250\u001b[0m \u001b[43m    \u001b[49m\u001b[43mcont_grids_next_period\u001b[49m\u001b[38;5;241;43m=\u001b[39;49m\u001b[43mcont_grids_next_period\u001b[49m\u001b[43m,\u001b[49m\n\u001b[1;32m    251\u001b[0m \u001b[43m    \u001b[49m\u001b[43mparams\u001b[49m\u001b[38;5;241;43m=\u001b[39;49m\u001b[43mparams\u001b[49m\u001b[43m,\u001b[49m\n\u001b[1;32m    252\u001b[0m \u001b[43m    \u001b[49m\u001b[43mtaste_shock_scale\u001b[49m\u001b[38;5;241;43m=\u001b[39;49m\u001b[43mtaste_shock_scale\u001b[49m\u001b[43m,\u001b[49m\n\u001b[1;32m    253\u001b[0m \u001b[43m    \u001b[49m\u001b[43mincome_shock_weights\u001b[49m\u001b[38;5;241;43m=\u001b[39;49m\u001b[43mincome_shock_weights\u001b[49m\u001b[43m,\u001b[49m\n\u001b[1;32m    254\u001b[0m \u001b[43m    \u001b[49m\u001b[43mexog_grids\u001b[49m\u001b[38;5;241;43m=\u001b[39;49m\u001b[43mexog_grids\u001b[49m\u001b[43m,\u001b[49m\n\u001b[1;32m    255\u001b[0m \u001b[43m    \u001b[49m\u001b[43mmodel_funcs\u001b[49m\u001b[38;5;241;43m=\u001b[39;49m\u001b[43mmodel_funcs\u001b[49m\u001b[43m,\u001b[49m\n\u001b[1;32m    256\u001b[0m \u001b[43m    \u001b[49m\u001b[43mlast_two_period_batch_info\u001b[49m\u001b[38;5;241;43m=\u001b[39;49m\u001b[43mbatch_info\u001b[49m\u001b[43m[\u001b[49m\u001b[38;5;124;43m\"\u001b[39;49m\u001b[38;5;124;43mlast_two_period_info\u001b[39;49m\u001b[38;5;124;43m\"\u001b[39;49m\u001b[43m]\u001b[49m\u001b[43m,\u001b[49m\n\u001b[1;32m    257\u001b[0m \u001b[43m    \u001b[49m\u001b[43mvalue_solved\u001b[49m\u001b[38;5;241;43m=\u001b[39;49m\u001b[43mvalue_solved\u001b[49m\u001b[43m,\u001b[49m\n\u001b[1;32m    258\u001b[0m \u001b[43m    \u001b[49m\u001b[43mpolicy_solved\u001b[49m\u001b[38;5;241;43m=\u001b[39;49m\u001b[43mpolicy_solved\u001b[49m\u001b[43m,\u001b[49m\n\u001b[1;32m    259\u001b[0m \u001b[43m    \u001b[49m\u001b[43mendog_grid_solved\u001b[49m\u001b[38;5;241;43m=\u001b[39;49m\u001b[43mendog_grid_solved\u001b[49m\u001b[43m,\u001b[49m\n\u001b[1;32m    260\u001b[0m \u001b[43m    \u001b[49m\u001b[43mhas_second_continuous_state\u001b[49m\u001b[38;5;241;43m=\u001b[39;49m\u001b[43mhas_second_continuous_state\u001b[49m\u001b[43m,\u001b[49m\n\u001b[1;32m    261\u001b[0m \u001b[43m\u001b[49m\u001b[43m)\u001b[49m\n\u001b[1;32m    263\u001b[0m \u001b[38;5;66;03m# If it is a two period model we are done.\u001b[39;00m\n\u001b[1;32m    264\u001b[0m \u001b[38;5;28;01mif\u001b[39;00m batch_info[\u001b[38;5;124m\"\u001b[39m\u001b[38;5;124mtwo_period_model\u001b[39m\u001b[38;5;124m\"\u001b[39m]:\n",
      "File \u001b[0;32m~/Uni/dcegm/dcegm/src/dcegm/final_periods.py:58\u001b[0m, in \u001b[0;36msolve_last_two_periods\u001b[0;34m(cont_grids_next_period, params, taste_shock_scale, income_shock_weights, exog_grids, model_funcs, last_two_period_batch_info, value_solved, policy_solved, endog_grid_solved, has_second_continuous_state)\u001b[0m\n\u001b[1;32m     14\u001b[0m \u001b[38;5;28;01mdef\u001b[39;00m \u001b[38;5;21msolve_last_two_periods\u001b[39m(\n\u001b[1;32m     15\u001b[0m     cont_grids_next_period: Dict[\u001b[38;5;28mstr\u001b[39m, jnp\u001b[38;5;241m.\u001b[39mndarray],\n\u001b[1;32m     16\u001b[0m     params: Dict[\u001b[38;5;28mstr\u001b[39m, \u001b[38;5;28mfloat\u001b[39m],\n\u001b[0;32m   (...)\u001b[0m\n\u001b[1;32m     25\u001b[0m     has_second_continuous_state: \u001b[38;5;28mbool\u001b[39m,\n\u001b[1;32m     26\u001b[0m ):\n\u001b[1;32m     27\u001b[0m \u001b[38;5;250m    \u001b[39m\u001b[38;5;124;03m\"\"\"Solves the last two periods of the model.\u001b[39;00m\n\u001b[1;32m     28\u001b[0m \n\u001b[1;32m     29\u001b[0m \u001b[38;5;124;03m    The last two periods are solved using the EGM algorithm. The last period is\u001b[39;00m\n\u001b[0;32m   (...)\u001b[0m\n\u001b[1;32m     50\u001b[0m \n\u001b[1;32m     51\u001b[0m \u001b[38;5;124;03m    \"\"\"\u001b[39;00m\n\u001b[1;32m     52\u001b[0m     (\n\u001b[1;32m     53\u001b[0m         value_solved,\n\u001b[1;32m     54\u001b[0m         policy_solved,\n\u001b[1;32m     55\u001b[0m         endog_grid_solved,\n\u001b[1;32m     56\u001b[0m         value_interp_final_period,\n\u001b[1;32m     57\u001b[0m         marginal_utility_final_last_period,\n\u001b[0;32m---> 58\u001b[0m     ) \u001b[38;5;241m=\u001b[39m \u001b[43msolve_final_period\u001b[49m\u001b[43m(\u001b[49m\n\u001b[1;32m     59\u001b[0m \u001b[43m        \u001b[49m\u001b[43midx_state_choices_final_period\u001b[49m\u001b[38;5;241;43m=\u001b[39;49m\u001b[43mlast_two_period_batch_info\u001b[49m\u001b[43m[\u001b[49m\n\u001b[1;32m     60\u001b[0m \u001b[43m            \u001b[49m\u001b[38;5;124;43m\"\u001b[39;49m\u001b[38;5;124;43midx_state_choices_final_period\u001b[39;49m\u001b[38;5;124;43m\"\u001b[39;49m\n\u001b[1;32m     61\u001b[0m \u001b[43m        \u001b[49m\u001b[43m]\u001b[49m\u001b[43m,\u001b[49m\n\u001b[1;32m     62\u001b[0m \u001b[43m        \u001b[49m\u001b[43midx_parent_states_final_period\u001b[49m\u001b[38;5;241;43m=\u001b[39;49m\u001b[43mlast_two_period_batch_info\u001b[49m\u001b[43m[\u001b[49m\n\u001b[1;32m     63\u001b[0m \u001b[43m            \u001b[49m\u001b[38;5;124;43m\"\u001b[39;49m\u001b[38;5;124;43midxs_parent_states_final_period\u001b[39;49m\u001b[38;5;124;43m\"\u001b[39;49m\n\u001b[1;32m     64\u001b[0m \u001b[43m        \u001b[49m\u001b[43m]\u001b[49m\u001b[43m,\u001b[49m\n\u001b[1;32m     65\u001b[0m \u001b[43m        \u001b[49m\u001b[43mstate_choice_mat_final_period\u001b[49m\u001b[38;5;241;43m=\u001b[39;49m\u001b[43mlast_two_period_batch_info\u001b[49m\u001b[43m[\u001b[49m\n\u001b[1;32m     66\u001b[0m \u001b[43m            \u001b[49m\u001b[38;5;124;43m\"\u001b[39;49m\u001b[38;5;124;43mstate_choice_mat_final_period\u001b[39;49m\u001b[38;5;124;43m\"\u001b[39;49m\n\u001b[1;32m     67\u001b[0m \u001b[43m        \u001b[49m\u001b[43m]\u001b[49m\u001b[43m,\u001b[49m\n\u001b[1;32m     68\u001b[0m \u001b[43m        \u001b[49m\u001b[43mcont_grids_next_period\u001b[49m\u001b[38;5;241;43m=\u001b[39;49m\u001b[43mcont_grids_next_period\u001b[49m\u001b[43m,\u001b[49m\n\u001b[1;32m     69\u001b[0m \u001b[43m        \u001b[49m\u001b[43mexog_grids\u001b[49m\u001b[38;5;241;43m=\u001b[39;49m\u001b[43mexog_grids\u001b[49m\u001b[43m,\u001b[49m\n\u001b[1;32m     70\u001b[0m \u001b[43m        \u001b[49m\u001b[43mparams\u001b[49m\u001b[38;5;241;43m=\u001b[39;49m\u001b[43mparams\u001b[49m\u001b[43m,\u001b[49m\n\u001b[1;32m     71\u001b[0m \u001b[43m        \u001b[49m\u001b[43mmodel_funcs\u001b[49m\u001b[38;5;241;43m=\u001b[39;49m\u001b[43mmodel_funcs\u001b[49m\u001b[43m,\u001b[49m\n\u001b[1;32m     72\u001b[0m \u001b[43m        \u001b[49m\u001b[43mvalue_solved\u001b[49m\u001b[38;5;241;43m=\u001b[39;49m\u001b[43mvalue_solved\u001b[49m\u001b[43m,\u001b[49m\n\u001b[1;32m     73\u001b[0m \u001b[43m        \u001b[49m\u001b[43mpolicy_solved\u001b[49m\u001b[38;5;241;43m=\u001b[39;49m\u001b[43mpolicy_solved\u001b[49m\u001b[43m,\u001b[49m\n\u001b[1;32m     74\u001b[0m \u001b[43m        \u001b[49m\u001b[43mendog_grid_solved\u001b[49m\u001b[38;5;241;43m=\u001b[39;49m\u001b[43mendog_grid_solved\u001b[49m\u001b[43m,\u001b[49m\n\u001b[1;32m     75\u001b[0m \u001b[43m        \u001b[49m\u001b[43mhas_second_continuous_state\u001b[49m\u001b[38;5;241;43m=\u001b[39;49m\u001b[43mhas_second_continuous_state\u001b[49m\u001b[43m,\u001b[49m\n\u001b[1;32m     76\u001b[0m \u001b[43m    \u001b[49m\u001b[43m)\u001b[49m\n\u001b[1;32m     78\u001b[0m     endog_grid, policy, value \u001b[38;5;241m=\u001b[39m solve_for_interpolated_values(\n\u001b[1;32m     79\u001b[0m         value_interpolated\u001b[38;5;241m=\u001b[39mvalue_interp_final_period,\n\u001b[1;32m     80\u001b[0m         marginal_utility_interpolated\u001b[38;5;241m=\u001b[39mmarginal_utility_final_last_period,\n\u001b[0;32m   (...)\u001b[0m\n\u001b[1;32m     93\u001b[0m         has_second_continuous_state\u001b[38;5;241m=\u001b[39mhas_second_continuous_state,\n\u001b[1;32m     94\u001b[0m     )\n\u001b[1;32m     96\u001b[0m     idx_second_last \u001b[38;5;241m=\u001b[39m last_two_period_batch_info[\u001b[38;5;124m\"\u001b[39m\u001b[38;5;124midx_state_choices_second_last_period\u001b[39m\u001b[38;5;124m\"\u001b[39m]\n",
      "File \u001b[0;32m~/Uni/dcegm/dcegm/src/dcegm/final_periods.py:170\u001b[0m, in \u001b[0;36msolve_final_period\u001b[0;34m(idx_state_choices_final_period, idx_parent_states_final_period, state_choice_mat_final_period, cont_grids_next_period, exog_grids, params, model_funcs, value_solved, policy_solved, endog_grid_solved, has_second_continuous_state)\u001b[0m\n\u001b[1;32m    145\u001b[0m     (\n\u001b[1;32m    146\u001b[0m         value_solved,\n\u001b[1;32m    147\u001b[0m         policy_solved,\n\u001b[0;32m   (...)\u001b[0m\n\u001b[1;32m    161\u001b[0m         endog_grid_solved\u001b[38;5;241m=\u001b[39mendog_grid_solved,\n\u001b[1;32m    162\u001b[0m     )\n\u001b[1;32m    163\u001b[0m \u001b[38;5;28;01melse\u001b[39;00m:\n\u001b[1;32m    164\u001b[0m     (\n\u001b[1;32m    165\u001b[0m         value_solved,\n\u001b[1;32m    166\u001b[0m         policy_solved,\n\u001b[1;32m    167\u001b[0m         endog_grid_solved,\n\u001b[1;32m    168\u001b[0m         value,\n\u001b[1;32m    169\u001b[0m         marg_util,\n\u001b[0;32m--> 170\u001b[0m     ) \u001b[38;5;241m=\u001b[39m \u001b[43msolve_final_period_discrete\u001b[49m\u001b[43m(\u001b[49m\n\u001b[1;32m    171\u001b[0m \u001b[43m        \u001b[49m\u001b[43midx_state_choices_final_period\u001b[49m\u001b[38;5;241;43m=\u001b[39;49m\u001b[43midx_state_choices_final_period\u001b[49m\u001b[43m,\u001b[49m\n\u001b[1;32m    172\u001b[0m \u001b[43m        \u001b[49m\u001b[43midx_parent_states_final_period\u001b[49m\u001b[38;5;241;43m=\u001b[39;49m\u001b[43midx_parent_states_final_period\u001b[49m\u001b[43m,\u001b[49m\n\u001b[1;32m    173\u001b[0m \u001b[43m        \u001b[49m\u001b[43mstate_choice_mat_final_period\u001b[49m\u001b[38;5;241;43m=\u001b[39;49m\u001b[43mstate_choice_mat_final_period\u001b[49m\u001b[43m,\u001b[49m\n\u001b[1;32m    174\u001b[0m \u001b[43m        \u001b[49m\u001b[43mcont_grids_next_period\u001b[49m\u001b[38;5;241;43m=\u001b[39;49m\u001b[43mcont_grids_next_period\u001b[49m\u001b[43m,\u001b[49m\n\u001b[1;32m    175\u001b[0m \u001b[43m        \u001b[49m\u001b[43mexog_grids\u001b[49m\u001b[38;5;241;43m=\u001b[39;49m\u001b[43mexog_grids\u001b[49m\u001b[43m,\u001b[49m\n\u001b[1;32m    176\u001b[0m \u001b[43m        \u001b[49m\u001b[43mparams\u001b[49m\u001b[38;5;241;43m=\u001b[39;49m\u001b[43mparams\u001b[49m\u001b[43m,\u001b[49m\n\u001b[1;32m    177\u001b[0m \u001b[43m        \u001b[49m\u001b[43mcompute_utility\u001b[49m\u001b[38;5;241;43m=\u001b[39;49m\u001b[43mmodel_funcs\u001b[49m\u001b[43m[\u001b[49m\u001b[38;5;124;43m\"\u001b[39;49m\u001b[38;5;124;43mcompute_utility_final\u001b[39;49m\u001b[38;5;124;43m\"\u001b[39;49m\u001b[43m]\u001b[49m\u001b[43m,\u001b[49m\n\u001b[1;32m    178\u001b[0m \u001b[43m        \u001b[49m\u001b[43mcompute_marginal_utility\u001b[49m\u001b[38;5;241;43m=\u001b[39;49m\u001b[43mmodel_funcs\u001b[49m\u001b[43m[\u001b[49m\u001b[38;5;124;43m\"\u001b[39;49m\u001b[38;5;124;43mcompute_marginal_utility_final\u001b[39;49m\u001b[38;5;124;43m\"\u001b[39;49m\u001b[43m]\u001b[49m\u001b[43m,\u001b[49m\n\u001b[1;32m    179\u001b[0m \u001b[43m        \u001b[49m\u001b[43mvalue_solved\u001b[49m\u001b[38;5;241;43m=\u001b[39;49m\u001b[43mvalue_solved\u001b[49m\u001b[43m,\u001b[49m\n\u001b[1;32m    180\u001b[0m \u001b[43m        \u001b[49m\u001b[43mpolicy_solved\u001b[49m\u001b[38;5;241;43m=\u001b[39;49m\u001b[43mpolicy_solved\u001b[49m\u001b[43m,\u001b[49m\n\u001b[1;32m    181\u001b[0m \u001b[43m        \u001b[49m\u001b[43mendog_grid_solved\u001b[49m\u001b[38;5;241;43m=\u001b[39;49m\u001b[43mendog_grid_solved\u001b[49m\u001b[43m,\u001b[49m\n\u001b[1;32m    182\u001b[0m \u001b[43m    \u001b[49m\u001b[43m)\u001b[49m\n\u001b[1;32m    184\u001b[0m \u001b[38;5;28;01mreturn\u001b[39;00m (\n\u001b[1;32m    185\u001b[0m     value_solved,\n\u001b[1;32m    186\u001b[0m     policy_solved,\n\u001b[0;32m   (...)\u001b[0m\n\u001b[1;32m    189\u001b[0m     marg_util,\n\u001b[1;32m    190\u001b[0m )\n",
      "File \u001b[0;32m~/Uni/dcegm/dcegm/src/dcegm/final_periods.py:223\u001b[0m, in \u001b[0;36msolve_final_period_discrete\u001b[0;34m(idx_state_choices_final_period, idx_parent_states_final_period, state_choice_mat_final_period, cont_grids_next_period, exog_grids, params, compute_utility, compute_marginal_utility, value_solved, policy_solved, endog_grid_solved)\u001b[0m\n\u001b[1;32m    218\u001b[0m wealth_child_states_final_period \u001b[38;5;241m=\u001b[39m cont_grids_next_period[\u001b[38;5;124m\"\u001b[39m\u001b[38;5;124mwealth\u001b[39m\u001b[38;5;124m\"\u001b[39m][\n\u001b[1;32m    219\u001b[0m     idx_parent_states_final_period\n\u001b[1;32m    220\u001b[0m ]\n\u001b[1;32m    221\u001b[0m n_wealth \u001b[38;5;241m=\u001b[39m exog_grids[\u001b[38;5;124m\"\u001b[39m\u001b[38;5;124mwealth\u001b[39m\u001b[38;5;124m\"\u001b[39m]\u001b[38;5;241m.\u001b[39mshape[\u001b[38;5;241m0\u001b[39m]\n\u001b[0;32m--> 223\u001b[0m value, marg_util \u001b[38;5;241m=\u001b[39m \u001b[43mvmap\u001b[49m\u001b[43m(\u001b[49m\n\u001b[1;32m    224\u001b[0m \u001b[43m    \u001b[49m\u001b[43mvmap\u001b[49m\u001b[43m(\u001b[49m\n\u001b[1;32m    225\u001b[0m \u001b[43m        \u001b[49m\u001b[43mvmap\u001b[49m\u001b[43m(\u001b[49m\n\u001b[1;32m    226\u001b[0m \u001b[43m            \u001b[49m\u001b[43mcalc_value_and_marg_util_for_each_gridpoint\u001b[49m\u001b[43m,\u001b[49m\n\u001b[1;32m    227\u001b[0m \u001b[43m            \u001b[49m\u001b[43min_axes\u001b[49m\u001b[38;5;241;43m=\u001b[39;49m\u001b[43m(\u001b[49m\u001b[38;5;28;43;01mNone\u001b[39;49;00m\u001b[43m,\u001b[49m\u001b[43m \u001b[49m\u001b[38;5;241;43m0\u001b[39;49m\u001b[43m,\u001b[49m\u001b[43m \u001b[49m\u001b[38;5;28;43;01mNone\u001b[39;49;00m\u001b[43m,\u001b[49m\u001b[43m \u001b[49m\u001b[38;5;28;43;01mNone\u001b[39;49;00m\u001b[43m,\u001b[49m\u001b[43m \u001b[49m\u001b[38;5;28;43;01mNone\u001b[39;49;00m\u001b[43m)\u001b[49m\u001b[43m,\u001b[49m\u001b[43m  \u001b[49m\u001b[38;5;66;43;03m# income shocks\u001b[39;49;00m\n\u001b[1;32m    228\u001b[0m \u001b[43m        \u001b[49m\u001b[43m)\u001b[49m\u001b[43m,\u001b[49m\n\u001b[1;32m    229\u001b[0m \u001b[43m        \u001b[49m\u001b[43min_axes\u001b[49m\u001b[38;5;241;43m=\u001b[39;49m\u001b[43m(\u001b[49m\u001b[38;5;28;43;01mNone\u001b[39;49;00m\u001b[43m,\u001b[49m\u001b[43m \u001b[49m\u001b[38;5;241;43m0\u001b[39;49m\u001b[43m,\u001b[49m\u001b[43m \u001b[49m\u001b[38;5;28;43;01mNone\u001b[39;49;00m\u001b[43m,\u001b[49m\u001b[43m \u001b[49m\u001b[38;5;28;43;01mNone\u001b[39;49;00m\u001b[43m,\u001b[49m\u001b[43m \u001b[49m\u001b[38;5;28;43;01mNone\u001b[39;49;00m\u001b[43m)\u001b[49m\u001b[43m,\u001b[49m\u001b[43m  \u001b[49m\u001b[38;5;66;43;03m# wealth\u001b[39;49;00m\n\u001b[1;32m    230\u001b[0m \u001b[43m    \u001b[49m\u001b[43m)\u001b[49m\u001b[43m,\u001b[49m\n\u001b[1;32m    231\u001b[0m \u001b[43m    \u001b[49m\u001b[43min_axes\u001b[49m\u001b[38;5;241;43m=\u001b[39;49m\u001b[43m(\u001b[49m\u001b[38;5;241;43m0\u001b[39;49m\u001b[43m,\u001b[49m\u001b[43m \u001b[49m\u001b[38;5;241;43m0\u001b[39;49m\u001b[43m,\u001b[49m\u001b[43m \u001b[49m\u001b[38;5;28;43;01mNone\u001b[39;49;00m\u001b[43m,\u001b[49m\u001b[43m \u001b[49m\u001b[38;5;28;43;01mNone\u001b[39;49;00m\u001b[43m,\u001b[49m\u001b[43m \u001b[49m\u001b[38;5;28;43;01mNone\u001b[39;49;00m\u001b[43m)\u001b[49m\u001b[43m,\u001b[49m\u001b[43m  \u001b[49m\u001b[38;5;66;43;03m# discrete state choices\u001b[39;49;00m\n\u001b[1;32m    232\u001b[0m \u001b[43m\u001b[49m\u001b[43m)\u001b[49m\u001b[43m(\u001b[49m\n\u001b[1;32m    233\u001b[0m \u001b[43m    \u001b[49m\u001b[43mstate_choice_mat_final_period\u001b[49m\u001b[43m,\u001b[49m\n\u001b[1;32m    234\u001b[0m \u001b[43m    \u001b[49m\u001b[43mwealth_child_states_final_period\u001b[49m\u001b[43m,\u001b[49m\n\u001b[1;32m    235\u001b[0m \u001b[43m    \u001b[49m\u001b[43mparams\u001b[49m\u001b[43m,\u001b[49m\n\u001b[1;32m    236\u001b[0m \u001b[43m    \u001b[49m\u001b[43mcompute_utility\u001b[49m\u001b[43m,\u001b[49m\n\u001b[1;32m    237\u001b[0m \u001b[43m    \u001b[49m\u001b[43mcompute_marginal_utility\u001b[49m\u001b[43m,\u001b[49m\n\u001b[1;32m    238\u001b[0m \u001b[43m\u001b[49m\u001b[43m)\u001b[49m\n\u001b[1;32m    239\u001b[0m \u001b[38;5;66;03m# Choose which draw we take for policy and value function as those are not\u001b[39;00m\n\u001b[1;32m    240\u001b[0m \u001b[38;5;66;03m# saved with respect to the draws\u001b[39;00m\n\u001b[1;32m    241\u001b[0m middle_of_draws \u001b[38;5;241m=\u001b[39m \u001b[38;5;28mint\u001b[39m((value\u001b[38;5;241m.\u001b[39mshape[\u001b[38;5;241m2\u001b[39m] \u001b[38;5;241m-\u001b[39m \u001b[38;5;241m1\u001b[39m) \u001b[38;5;241m/\u001b[39m \u001b[38;5;241m2\u001b[39m)\n",
      "    \u001b[0;31m[... skipping hidden 9 frame]\u001b[0m\n",
      "File \u001b[0;32m~/Uni/dcegm/dcegm/src/dcegm/final_periods.py:392\u001b[0m, in \u001b[0;36mcalc_value_and_marg_util_for_each_gridpoint\u001b[0;34m(state_choice_vec, wealth, params, compute_utility, compute_marginal_utility)\u001b[0m\n\u001b[1;32m    388\u001b[0m \u001b[38;5;28;01mdef\u001b[39;00m \u001b[38;5;21mcalc_value_and_marg_util_for_each_gridpoint\u001b[39m(\n\u001b[1;32m    389\u001b[0m     state_choice_vec, wealth, params, compute_utility, compute_marginal_utility\n\u001b[1;32m    390\u001b[0m ):\n\u001b[1;32m    391\u001b[0m \u001b[38;5;250m    \u001b[39m\u001b[38;5;124;03m\"\"\"Continuous state is missing here!\"\"\"\u001b[39;00m\n\u001b[0;32m--> 392\u001b[0m     value \u001b[38;5;241m=\u001b[39m \u001b[43mcompute_utility\u001b[49m\u001b[43m(\u001b[49m\n\u001b[1;32m    393\u001b[0m \u001b[43m        \u001b[49m\u001b[38;5;241;43m*\u001b[39;49m\u001b[38;5;241;43m*\u001b[39;49m\u001b[43mstate_choice_vec\u001b[49m\u001b[43m,\u001b[49m\n\u001b[1;32m    394\u001b[0m \u001b[43m        \u001b[49m\u001b[43mwealth\u001b[49m\u001b[38;5;241;43m=\u001b[39;49m\u001b[43mwealth\u001b[49m\u001b[43m,\u001b[49m\n\u001b[1;32m    395\u001b[0m \u001b[43m        \u001b[49m\u001b[43mparams\u001b[49m\u001b[38;5;241;43m=\u001b[39;49m\u001b[43mparams\u001b[49m\u001b[43m,\u001b[49m\n\u001b[1;32m    396\u001b[0m \u001b[43m    \u001b[49m\u001b[43m)\u001b[49m\n\u001b[1;32m    398\u001b[0m     marg_util \u001b[38;5;241m=\u001b[39m compute_marginal_utility(\n\u001b[1;32m    399\u001b[0m         \u001b[38;5;241m*\u001b[39m\u001b[38;5;241m*\u001b[39mstate_choice_vec,\n\u001b[1;32m    400\u001b[0m         wealth\u001b[38;5;241m=\u001b[39mwealth,\n\u001b[1;32m    401\u001b[0m         params\u001b[38;5;241m=\u001b[39mparams,\n\u001b[1;32m    402\u001b[0m     )\n\u001b[1;32m    404\u001b[0m     \u001b[38;5;28;01mreturn\u001b[39;00m value, marg_util\n",
      "File \u001b[0;32m~/Uni/dcegm/dcegm/src/dcegm/pre_processing/shared.py:37\u001b[0m, in \u001b[0;36mdetermine_function_arguments_and_partial_options.<locals>.processed_func\u001b[0;34m(**kwargs)\u001b[0m\n\u001b[1;32m     33\u001b[0m     kwargs[continuous_state_name] \u001b[38;5;241m=\u001b[39m kwargs\u001b[38;5;241m.\u001b[39mget(\u001b[38;5;124m\"\u001b[39m\u001b[38;5;124mcontinuous_state\u001b[39m\u001b[38;5;124m\"\u001b[39m)\n\u001b[1;32m     35\u001b[0m func_kwargs \u001b[38;5;241m=\u001b[39m {key: kwargs[key] \u001b[38;5;28;01mfor\u001b[39;00m key \u001b[38;5;129;01min\u001b[39;00m signature}\n\u001b[0;32m---> 37\u001b[0m \u001b[38;5;28;01mreturn\u001b[39;00m \u001b[43mpartialed_func\u001b[49m\u001b[43m(\u001b[49m\u001b[38;5;241;43m*\u001b[39;49m\u001b[38;5;241;43m*\u001b[39;49m\u001b[43mfunc_kwargs\u001b[49m\u001b[43m)\u001b[49m\n",
      "Cell \u001b[0;32mIn[15], line 6\u001b[0m, in \u001b[0;36mfinal_period_utility\u001b[0;34m(wealth, choice, params)\u001b[0m\n\u001b[1;32m      1\u001b[0m \u001b[38;5;28;01mdef\u001b[39;00m \u001b[38;5;21mfinal_period_utility\u001b[39m(\n\u001b[1;32m      2\u001b[0m     wealth: \u001b[38;5;28mfloat\u001b[39m,\n\u001b[1;32m      3\u001b[0m     choice: \u001b[38;5;28mint\u001b[39m,\n\u001b[1;32m      4\u001b[0m     params\n\u001b[1;32m      5\u001b[0m ) \u001b[38;5;241m-\u001b[39m\u001b[38;5;241m>\u001b[39m Tuple[\u001b[38;5;28mfloat\u001b[39m, \u001b[38;5;28mfloat\u001b[39m]:\n\u001b[0;32m----> 6\u001b[0m     \u001b[38;5;28;01mreturn\u001b[39;00m \u001b[43mflow_util\u001b[49m\u001b[43m(\u001b[49m\u001b[43mwealth\u001b[49m\u001b[43m,\u001b[49m\u001b[43m \u001b[49m\u001b[43mchoice\u001b[49m\u001b[43m,\u001b[49m\u001b[43m \u001b[49m\u001b[43mparams\u001b[49m\u001b[43m)\u001b[49m\n",
      "Cell \u001b[0;32mIn[5], line 2\u001b[0m, in \u001b[0;36mflow_util\u001b[0;34m(consumption, choice, params)\u001b[0m\n\u001b[1;32m      1\u001b[0m \u001b[38;5;28;01mdef\u001b[39;00m \u001b[38;5;21mflow_util\u001b[39m(consumption, choice, params):\n\u001b[0;32m----> 2\u001b[0m     rho \u001b[38;5;241m=\u001b[39m \u001b[43mparams\u001b[49m\u001b[43m[\u001b[49m\u001b[38;5;124;43m\"\u001b[39;49m\u001b[38;5;124;43mrho\u001b[39;49m\u001b[38;5;124;43m\"\u001b[39;49m\u001b[43m]\u001b[49m\n\u001b[1;32m      3\u001b[0m     delta \u001b[38;5;241m=\u001b[39m params[\u001b[38;5;124m\"\u001b[39m\u001b[38;5;124mdelta\u001b[39m\u001b[38;5;124m\"\u001b[39m]\n\u001b[1;32m      4\u001b[0m     u \u001b[38;5;241m=\u001b[39m consumption \u001b[38;5;241m*\u001b[39m\u001b[38;5;241m*\u001b[39m (\u001b[38;5;241m1\u001b[39m \u001b[38;5;241m-\u001b[39m rho) \u001b[38;5;241m/\u001b[39m (\u001b[38;5;241m1\u001b[39m \u001b[38;5;241m-\u001b[39m rho) \u001b[38;5;241m-\u001b[39m delta \u001b[38;5;241m*\u001b[39m (\u001b[38;5;241m1\u001b[39m \u001b[38;5;241m-\u001b[39m choice)\n",
      "\u001b[0;31mKeyError\u001b[0m: 'rho'"
     ]
    }
   ],
   "source": [
    "solution = solve_dcegm(\n",
    "    params=params,\n",
    "    options=options,\n",
    "    utility_functions=utility_functions,\n",
    "    utility_functions_final_period=final_period_utility,\n",
    "    budget_constraint=budget_dcegm,\n",
    "    state_space_functions=state_space_functions,\n",
    ")"
   ]
  },
  {
   "cell_type": "markdown",
   "metadata": {},
   "source": [
    "### Analytical solution of the model\n",
    "\n",
    "The solution of the given problem can be derived analytically using backwards induction.\n",
    "\n",
    "#### Period 2: \n",
    "The choice problem in period 2 can be expressed through the Bellman equation\n",
    "$$ V_2 = \\max_{d_2\\in \\{0,1\\}} \\{v_2(M_2,d_2)+\\epsilon_2(d_2)\\}.$$\n",
    "As this is the last period in our model and there is no bequest, the budget is consumed entirely , i.e. $c_2 = M_2$. Hence, the choice-specific value function for a given wealth level $M_2$ and choice $d_2$ is given by\n",
    "$$ v_2(M_2,d_2) = \\frac{M_2^{1-\\rho}}{1-\\rho} - \\delta(1-d_2).$$\n",
    "\n",
    "#### Period 1: \n",
    "Analogous to period 2, the choice problem in period 1 can be expressed through the Bellman equation\n",
    "\n",
    "\n",
    "$$ V_1 = \\max_{d_1\\in \\{0,1\\}} \\{v_1(M_1,d_1)+\\epsilon_1(d_1)\\}.$$\n",
    "\n",
    "\n",
    "Here, the choice-specific value function for a given wealth level $M_1$ and choice $d_1$ is defined by\n",
    "\n",
    "\\begin{align*}\n",
    "v_1(M_1,d_1) &= \\max_{d_1\\in\\{0,1\\}} \\{u(c_1,d_1)+\\beta E_1[EV_2(M_2(v_2,D_2))]\\} \\\\\n",
    "&= \\max_{d_1\\in\\{0,1\\}} \\biggl\\{u(c_1,d_1)+\\beta \\sum_{i=1}^{2}\\left(\\int EV_2(M_2(v_2,D_2))\\, \\text{d}f(\\nu)\\right)\\pi(D_2 = i\\mid D_1)\\biggl\\},\n",
    "\\end{align*}\n",
    "\n",
    "where $EV_2(M_2(\\nu_2,D_2))$ is the expected value function for a given realization of the income shock $\\nu_2$ and exogenous process $D_2$, i.e. it is the expected maximum of the different choice specific value functions in the second period. \n",
    "\n",
    "The extreme value distribution takes the following closed formulas for the expected value function and choice probabilities:\n",
    "\n",
    "$$EV_2(M_2) = \\text{ln}(\\text{exp}(v_2(M_2,1))+\\text{exp}(v_2(M_2,0))),$$\n",
    "\n",
    "$$P(d_2\\mid M_2) = \\frac{\\text{exp}(v_2(M_2,d_2))}{\\text{exp}(v_2(M_2,0))+\\text{exp}(v_2(M_2,1))}.$$\n",
    "\n",
    "Now the problem can be solved using the Euler equation (see Iskhakov et al, 2017, Appendix A, Lemma 1) given by\n",
    "\n",
    "$$u^\\prime(c_1\\mid d_1) = \\beta R E_1\\left[\\sum_{j=1}^{2} u^\\prime(c_2(M_2\\mid d_2),d_2) P(d_2 = j\\mid M_2)\\right]\n",
    ".$$\n",
    "\n",
    "#### Policy functions\n",
    "\n",
    "Using the fact that the marginal utility is given by $u^\\prime(c_t) = c_t^{-\\rho}$ we obtain the consumption policy for period 1:\n",
    "\n",
    "\\begin{align*}\n",
    "c_1 &= \\left(\\beta R E_1\\left[\\sum_{j=1}^{2} u^\\prime(c_2(M_2\\mid d_2),d_2) P(d_2 = j\\mid M_2)\\right]\\right)^{-\\frac{1}{\\rho}} \\\\\n",
    "&= \\beta R  \\sum_{i=1}^{2} \\left( \\int \\sum_{j=1}^{2} u^\\prime(c_2(M_2\\mid d_2),d_2) P(d_2 = j\\mid M_2)\\, \\text{d} f(\\nu) \\right)^{-\\frac{1}{\\rho}} \\\\\n",
    "& = \\beta R  \\sum_{i=1}^{2} \\left( \\int \\sum_{j=1}^{2} u^\\prime(M_2,d_2) P(d_2 = j\\mid M_2)\\, \\text{d} f(\\nu) \\right)^{-\\frac{1}{\\rho}},\n",
    "\\end{align*}\n",
    "\n",
    "where we used the period-2 budget constraint $M_2 = c_2$ in the last equation. Note that this policy function is implicit, as $M_2$ depends on $c_1$. More specifically, we have \n",
    "\n",
    "$$M_2 = R(M_1-c_1)+W_2(1-d_1)-K D_2 = R(M_1-c_1)+(W+\\nu_2)(1-d_1)-KD_2.$$\n",
    "\n",
    "The labor supply in period 1 $d_1 \\in \\{0,1\\}$ is the maximizer of $v_1(M_1,d_1)+\\epsilon_1(d_1)$. Hence, $d_1 = 0$ if $v_1(M_1,0)+\\epsilon_1(0)\\geq v_1(M_1,1)+\\epsilon_1(1)$ and $d_1 = 1$ otherwise.\n",
    "\n",
    "Given $c_1$ and $d_1$, the consumption $c_2$ in period 2, which is equal to the wealth $M_2$ can be calculated by using the budget constraint. The labor supply $d_2$ in period 2 can be determined analogously to period 1 as a maximizer of $v_2(M_2,d_2)+\\epsilon_2(d_2)$."
   ]
  },
  {
   "cell_type": "markdown",
   "metadata": {},
   "source": [
    "The budget constraint, wage, transition probability, choice probabilities and the right-hand side of the Euler equation can be implemented as follows."
   ]
  },
  {
   "cell_type": "code",
   "execution_count": 15,
   "metadata": {},
   "outputs": [],
   "source": [
    "def budget(\n",
    "    lagged_resources, lagged_consumption, lagged_choice, wage, health, params_dict\n",
    "):\n",
    "    interest_factor = 1 + params_dict[\"interest_rate\"]\n",
    "    health_costs = params_dict[\"ltc_cost\"]\n",
    "    resources = (\n",
    "        interest_factor * (lagged_resources - lagged_consumption)\n",
    "        + wage * (1 - lagged_choice)\n",
    "        - health * health_costs\n",
    "    ).clip(min=0.5)\n",
    "    return resources\n",
    "\n",
    "\n",
    "def wage(nu, params_dict):\n",
    "    wage = params_dict[\"wage_avg\"] + nu\n",
    "    return wage\n",
    "\n",
    "\n",
    "def prob_long_term_care_patient(params_dict, lag_health, health):\n",
    "    p = params_dict[\"ltc_prob\"]\n",
    "    if (lag_health == 0) and (health == 1):\n",
    "        pi = p\n",
    "    elif (lag_health == 0) and (health == 0):\n",
    "        pi = 1 - p\n",
    "    elif (lag_health == 1) and (health == 0):\n",
    "        pi = 0\n",
    "    elif (lag_health == 1) and (health == 1):\n",
    "        pi = 1\n",
    "    else:\n",
    "        raise ValueError(\"Health state not defined.\")\n",
    "\n",
    "    return pi\n",
    "\n",
    "\n",
    "def choice_probs(cons, d, params_dict):\n",
    "    v = flow_util(cons, d, params_dict)\n",
    "    v_0 = flow_util(cons, 0, params_dict)\n",
    "    v_1 = flow_util(cons, 1, params_dict)\n",
    "    choice_prob = np.exp(v) / (np.exp(v_0) + np.exp(v_1))\n",
    "    return choice_prob\n",
    "\n",
    "\n",
    "def m_util_aux(init_cond, params_dict, choice_1, nu, consumption):\n",
    "    \"\"\"Return the expected marginal utility for one realization of the wage shock.\"\"\"\n",
    "    budget_1 = init_cond[\"wealth\"]\n",
    "    health_state_1 = init_cond[\"health\"]\n",
    "\n",
    "    weighted_marginal = 0\n",
    "    for health_state_2 in [0, 1]:\n",
    "        for choice_2 in [0, 1]:\n",
    "            budget_2 = budget(\n",
    "                budget_1,\n",
    "                consumption,\n",
    "                choice_1,\n",
    "                wage(nu, params_dict),\n",
    "                health_state_2,\n",
    "                params_dict,\n",
    "            )\n",
    "            marginal_util = marginal_utility(budget_2, params_dict)\n",
    "            choice_prob = choice_probs(budget_2, choice_2, params_dict)\n",
    "            health_prob = prob_long_term_care_patient(\n",
    "                params_dict, health_state_1, health_state_2\n",
    "            )\n",
    "            weighted_marginal += choice_prob * health_prob * marginal_util\n",
    "\n",
    "    return weighted_marginal\n",
    "\n",
    "\n",
    "def euler_rhs(init_cond, params_dict, draws, weights, choice_1, consumption):\n",
    "    beta = params_dict[\"beta\"]\n",
    "    interest_factor = 1 + params_dict[\"interest_rate\"]\n",
    "\n",
    "    rhs = 0\n",
    "    for index_draw, draw in enumerate(draws):\n",
    "        marg_util_draw = m_util_aux(init_cond, params_dict, choice_1, draw, consumption)\n",
    "        rhs += weights[index_draw] * marg_util_draw\n",
    "    return rhs * beta * interest_factor"
   ]
  },
  {
   "cell_type": "markdown",
   "metadata": {},
   "source": [
    "### Comparison of DC-EGM algorithm and analytical solution\n",
    "\n",
    "We now demonstrate the accuracy of the DC-EGM algorithm by inserting the calculated policy into the Euler equation and show that both sides take approximately the same value. \n",
    "As an example, let us consider the first state in the state space with initial health $D_1 = 0$ and as initial wealth $M_1$, we take the first (non-zero) entry of the wealth grid. Furthermore, we choose $d_1 = 0$."
   ]
  },
  {
   "cell_type": "code",
   "execution_count": 16,
   "metadata": {},
   "outputs": [
    {
     "data": {
      "text/plain": [
       "[0, 1]"
      ]
     },
     "execution_count": 16,
     "metadata": {},
     "output_type": "execute_result"
    }
   ],
   "source": [
    "state_id = 0\n",
    "wealth_id = 0\n",
    "\n",
    "state_space, _ = create_state_space(options)\n",
    "state = state_space[state_id, :]\n",
    "\n",
    "if state[1] == 1:\n",
    "    choice_range = [1]\n",
    "else:\n",
    "    choice_range = [0, 1]\n",
    "choice_range"
   ]
  },
  {
   "cell_type": "code",
   "execution_count": 17,
   "metadata": {},
   "outputs": [],
   "source": [
    "choice_in_period_1 = 0"
   ]
  },
  {
   "cell_type": "code",
   "execution_count": 18,
   "metadata": {},
   "outputs": [],
   "source": [
    "initial_cond = {}\n",
    "initial_cond[\"health\"] = state[-1]"
   ]
  },
  {
   "cell_type": "markdown",
   "metadata": {},
   "source": [
    "Given the calculated policy using the dcegm package, we know compare the left hand side of the Euler equation (which is equal to the marginal utility) to its right hand side."
   ]
  },
  {
   "cell_type": "code",
   "execution_count": 19,
   "metadata": {},
   "outputs": [],
   "source": [
    "# calculated policy function for this state by the DC-EGM algorithm\n",
    "calculated_policy_func = policy_calculated[state_id, choice_in_period_1, :, :]\n",
    "\n",
    "# needed for computation of the integral\n",
    "quad_points, quad_weights = roots_sh_legendre(5)\n",
    "quad_draws = norm.ppf(quad_points) * 1\n",
    "\n",
    "# transform params data frame to dict\n",
    "keys = params.index.droplevel(\"category\").tolist()\n",
    "values = params[\"value\"].tolist()\n",
    "params_dict = dict(zip(keys, values))\n",
    "\n",
    "# extract the consumption in period 1\n",
    "calculated_policy_func = policy_calculated[state_id, choice_in_period_1, :, :]\n",
    "wealth = calculated_policy_func[0, wealth_id + 1]\n",
    "if ~np.isnan(wealth) and wealth > 0:\n",
    "    initial_cond[\"wealth\"] = wealth\n",
    "    cons_calc = calculated_policy_func[1, wealth_id + 1]"
   ]
  },
  {
   "cell_type": "markdown",
   "metadata": {},
   "source": [
    "As expected, the by the DC-EGM algorithm calculated consumption in the first period $c_1$ satisfies the Euler equation, since both sides are (approximately) equal."
   ]
  },
  {
   "cell_type": "code",
   "execution_count": 20,
   "metadata": {},
   "outputs": [
    {
     "data": {
      "text/plain": [
       "0.41696745526617773"
      ]
     },
     "execution_count": 20,
     "metadata": {},
     "output_type": "execute_result"
    }
   ],
   "source": [
    "rhs = euler_rhs(\n",
    "    initial_cond, params_dict, quad_draws, quad_weights, choice_in_period_1, cons_calc\n",
    ")\n",
    "rhs"
   ]
  },
  {
   "cell_type": "code",
   "execution_count": 21,
   "metadata": {},
   "outputs": [
    {
     "data": {
      "text/plain": [
       "0.416967457857728"
      ]
     },
     "execution_count": 21,
     "metadata": {},
     "output_type": "execute_result"
    }
   ],
   "source": [
    "lhs = marginal_utility(cons_calc, params_dict)\n",
    "lhs"
   ]
  }
 ],
 "metadata": {
  "kernelspec": {
   "display_name": "dcegm",
   "language": "python",
   "name": "python3"
  },
  "language_info": {
   "codemirror_mode": {
    "name": "ipython",
    "version": 3
   },
   "file_extension": ".py",
   "mimetype": "text/x-python",
   "name": "python",
   "nbconvert_exporter": "python",
   "pygments_lexer": "ipython3",
   "version": "3.10.14"
  }
 },
 "nbformat": 4,
 "nbformat_minor": 4
}
