{
 "cells": [
  {
   "cell_type": "markdown",
   "metadata": {},
   "source": [
    "# Two period model tutorial\n",
    "\n",
    "In this tutorial, we demonstrate the use of the dcegm package using the example of a simple consumption-retirement model which consists of two periods. Due to the simplicity of the considered model, it is well suited to become familiar with this kind of models and the use of the dcegm package.\n",
    "\n",
    "We will start with the theoretical model and show how this model can be solved numerically using the dcegm package. Subsequently, we will derive the analytical solution of this problem and eventually, compare the two solutions in order to show the accuracy of the numerical solution by the DC-EGM algorithm."
   ]
  },
  {
   "cell_type": "markdown",
   "metadata": {},
   "source": [
    "### Two period model\n",
    "\n",
    "We consider a simple consumption-retirement model with only two periods. The objective function in period 0 is given by\n",
    "\n",
    "$$ V_0 = \\max_{c_0, d_0} \\mathbb{E}_\\pi \\left[ \\sum_{t=0}^{1} \\beta^{t} u(c_t,d_t)\\right],$$\n",
    "\n",
    "where $\\beta \\in [0,1]$ is the discount factor, $c_t\\geq 0$ is the consumption in period $t$ and $d_t\\in \\{0,1\\}$ specifies the choice with $d_t = 0$ indicating work and $d_t=1$ indicating retirement at the end of period $t$.\n",
    "Here the utility function has the form\n",
    "\n",
    "$$u(c_t,d_t) = \\frac{c_t^{1-\\rho}}{1-\\rho}-\\delta (1-d_t)+\\epsilon_t(d_t)$$\n",
    "\n",
    "The parameters $\\rho \\geq 0$ and $\\delta \\geq 0$ are measures of risk aversion and  disutility of work, respectively, while $\\epsilon \\sim EV(0,1)$ is a choice-specific taste shock with extreme-value distribution.\n",
    "\n",
    "\n",
    "In each period $t$, the consumption $c_t$ has to satisfy the budget constraint $c_t \\leq M_t$ with wealth\n",
    "\n",
    "$$M_t = R(M_{t-1}-c_{t-1})+W_t(1-d_t)-K D_t,$$\n",
    "\n",
    "where $R$ is the interest factor, $W_t$ is the wage in period $t$ and $D_t$ is an exogenous process indicating long-term care dependence with cost $K$.\n",
    "The wage $W_t = W+\\nu_t$ consists of an average wage $W$, which in the two-period model does not depend on $t$ as only the wage in period 1 enters the period 2 budget constraint, and an income shock $\\nu_t \\sim EV(0,1)$.\n",
    "For the long-term care dependence, we have the following transition probabilities\n",
    "\n",
    "\\begin{equation*}\n",
    "\\pi(D_t=1\\mid D_{t-1}=0)=p_t\\\\\n",
    "\\pi(D_t=1\\mid D_{t-1}=1)=1\n",
    "\\end{equation*}\n",
    "\n",
    "meaning that care dependence (just as retirement) is absorbing."
   ]
  },
  {
   "cell_type": "code",
   "execution_count": 1,
   "metadata": {
    "scrolled": true
   },
   "outputs": [],
   "source": [
    "import jax.numpy as jnp\n",
    "import numpy as np\n",
    "from dcegm.solve import get_solve_func_for_model\n",
    "from dcegm.pre_processing.setup_model import setup_model\n",
    "from dcegm.interface import policy_and_value_for_state_choice_vec\n",
    "from scipy.special import roots_sh_legendre\n",
    "from scipy.stats import norm\n",
    "\n",
    "from typing import Tuple\n",
    "import jax\n",
    "\n",
    "jax.config.update(\"jax_enable_x64\", True)"
   ]
  },
  {
   "cell_type": "markdown",
   "metadata": {},
   "source": [
    "### Solve model using DCEGM\n",
    "\n",
    "We now demonstrate how to solve the model using the dcegm package. First, we define the parameters of the model. We store the parameters in a multi-index data frame. Inside the package the data frame is transformed into a dictionary with keys being the names of the index level `name`. They can be accessed in the functions defined by the user through the params_dict argument, which is one of the standard arguments of the functions. We will explain the set of keywords for each user function below."
   ]
  },
  {
   "cell_type": "code",
   "execution_count": 2,
   "metadata": {},
   "outputs": [],
   "source": [
    "params = {}\n",
    "params[\"interest_rate\"] = 0.02\n",
    "params[\"ltc_cost\"] = 5\n",
    "params[\"max_wealth\"] = 50\n",
    "params[\"wage_avg\"] = 8\n",
    "params[\"sigma\"] = 1\n",
    "params[\"lambda\"] = 1\n",
    "params[\"ltc_prob\"] = 0.3\n",
    "params[\"beta\"] = 0.95\n",
    "params[\"rho\"] = 0.9\n",
    "params[\"delta\"] = 1.5"
   ]
  },
  {
   "cell_type": "markdown",
   "metadata": {},
   "source": [
    "Additionally, a dictionary containing at least the following options has to be specified:\n",
    "- number of periods,\n",
    "- number of discrete choices,\n",
    "- size of the exogenous wealth grid,\n",
    "- number of stochastic quadrature points,\n",
    "- number of exogenous processes.\n",
    "\n",
    "Furthermore, the user can specify arguments, which needs to use in the functions. These are expected to be constant independent of the parametrization of the model."
   ]
  },
  {
   "cell_type": "code",
   "execution_count": 3,
   "metadata": {},
   "outputs": [],
   "source": [
    "def prob_exog_ltc(ltc, params):\n",
    "    prob_ltc = params[\"ltc_prob\"]\n",
    "\n",
    "    ltc_depenent = ltc == 1\n",
    "    prob_ltc = ltc_depenent + (1 - ltc_depenent) * prob_ltc\n",
    "\n",
    "    return jnp.array([1 - prob_ltc, prob_ltc])"
   ]
  },
  {
   "cell_type": "code",
   "execution_count": 4,
   "metadata": {
    "scrolled": true
   },
   "outputs": [],
   "source": [
    "options = {\n",
    "    \"model_params\": {\n",
    "        \"quadrature_points_stochastic\": 5,\n",
    "        \"n_choices\": 2,\n",
    "    },\n",
    "    \"state_space\": {\n",
    "        \"n_periods\": 2,\n",
    "        \"choices\": np.arange(2),\n",
    "        # \"endogenous_states\": {\n",
    "        #     \"married\": [0, 1],\n",
    "        # },\n",
    "        \"continuous_states\": {\n",
    "            \"wealth\": np.linspace(0, 50, 100),\n",
    "        },\n",
    "        \"exogenous_processes\": {\n",
    "            \"ltc\": {\"transition\": prob_exog_ltc, \"states\": [0, 1]},\n",
    "        },\n",
    "    },\n",
    "}"
   ]
  },
  {
   "cell_type": "markdown",
   "metadata": {},
   "source": [
    "Beside the data frame ```params``` and the dictionary ```options```, the main function of the dcegm package ```solve_dcegm``` requires the following inputs:\n",
    "- utility_functions,\n",
    "- budget_constraint,\n",
    "- solve_final_period,\n",
    "- state_space_functions,\n",
    "- user_transition_function.\n",
    "\n",
    "In the following, we will explain the form of the required functions. Note that they all have to be JAX compatible, i.e. pure functions without if-conditions etc."
   ]
  },
  {
   "cell_type": "markdown",
   "metadata": {},
   "source": [
    "#### Utility functions\n",
    "\n",
    "First, we define the utility, the marginal utility and inverse marginal utility. These functions are stored in a dictionary ```utility_functions```."
   ]
  },
  {
   "cell_type": "code",
   "execution_count": 5,
   "metadata": {},
   "outputs": [],
   "source": [
    "def flow_util(consumption, choice, params):\n",
    "    rho = params[\"rho\"]\n",
    "    delta = params[\"delta\"]\n",
    "    u = consumption ** (1 - rho) / (1 - rho) - delta * (1 - choice)\n",
    "    return u\n",
    "\n",
    "\n",
    "def marginal_utility(consumption, params):\n",
    "    rho = params[\"rho\"]\n",
    "    u_prime = consumption ** (-rho)\n",
    "    return u_prime\n",
    "\n",
    "\n",
    "def inverse_marginal_utility(marginal_utility, params):\n",
    "    rho = params[\"rho\"]\n",
    "    return marginal_utility ** (-1 / rho)\n",
    "\n",
    "\n",
    "utility_functions = {\n",
    "    \"utility\": flow_util,\n",
    "    \"inverse_marginal_utility\": inverse_marginal_utility,\n",
    "    \"marginal_utility\": marginal_utility,\n",
    "}"
   ]
  },
  {
   "cell_type": "markdown",
   "metadata": {},
   "source": [
    "#### State space functions\n",
    "\n",
    "Next we define state space functions ```create_state_space``` and ```state_specific_choice_set```. They can be directly imported the dcegm package, but we display them here, in order to explain how they work."
   ]
  },
  {
   "cell_type": "markdown",
   "metadata": {},
   "source": [
    "The function ```create_state_space``` depends only on the ```options``` dictionary and generates the state space, which is the collection of all states. A state consists of period, lagged choice and values of the exogenous processes.\n",
    "Furthermore the function specifies an indexer object, which maps states to indexes."
   ]
  },
  {
   "cell_type": "markdown",
   "metadata": {},
   "source": [
    "The function ```get_specific_choice_set``` specifies possible choices for each state. Hence it takes into account the fact that retirement is absorbing, i.e. if $d_{t-1}=1$, then it must also hold that $d_{t}=1$."
   ]
  },
  {
   "cell_type": "code",
   "execution_count": 6,
   "metadata": {},
   "outputs": [],
   "source": [
    "def state_specific_choice_set(\n",
    "    lagged_choice: np.ndarray,\n",
    "    options: np.ndarray,\n",
    ") -> np.ndarray:\n",
    "    \"\"\"Select state-specific choice set.\n",
    "\n",
    "    Args:\n",
    "        state (np.ndarray): Array of shape (n_state_variables,) defining the agent's\n",
    "            state. In Ishkakov, an agent's state is defined by her (i) age (i.e. the\n",
    "            current period) and (ii) her lagged labor market choice.\n",
    "            Hence n_state_variables = 2.\n",
    "        state_space (np.ndarray): Collection of all possible states of shape\n",
    "            (n_periods * n_choices, n_choices).\n",
    "        indexer (np.ndarray): Indexer object that maps states to indexes.\n",
    "            Shape (n_periods, n_choices).\n",
    "\n",
    "    Returns:\n",
    "        choice_set (np.ndarray): The agent's (restricted) choice set in the given\n",
    "            state of shape (n_admissible_choices,).\n",
    "\n",
    "    \"\"\"\n",
    "\n",
    "    # Once the agent choses retirement, she can only choose retirement thereafter.\n",
    "    # Hence, retirement is an absorbing state.\n",
    "    if lagged_choice == 1:\n",
    "        choice_set = np.array([1])\n",
    "    else:\n",
    "        choice_set = np.arange(options[\"n_choices\"])\n",
    "\n",
    "    return choice_set"
   ]
  },
  {
   "cell_type": "markdown",
   "metadata": {},
   "source": [
    "As an example, we consider the 5th state of the state space, which corresponds to the case $d_1 = 0$, $D_1=0$. Consequently, in the second period, both choices $d_2 = 0$, $d_2 = 1$ are possible."
   ]
  },
  {
   "cell_type": "code",
   "execution_count": 7,
   "metadata": {},
   "outputs": [
    {
     "data": {
      "text/plain": [
       "array([0, 1])"
      ]
     },
     "execution_count": 7,
     "metadata": {},
     "output_type": "execute_result"
    }
   ],
   "source": [
    "choice_set_5 = state_specific_choice_set(0, options[\"model_params\"])\n",
    "choice_set_5"
   ]
  },
  {
   "cell_type": "markdown",
   "metadata": {},
   "source": [
    "Both function ```create_state_space``` and ```get_specific_choice_set``` are stored in a dictionary ```state_space_functions``` before being passed to the main function ```solve_dcegm```."
   ]
  },
  {
   "cell_type": "code",
   "execution_count": 8,
   "metadata": {},
   "outputs": [],
   "source": [
    "state_space_functions = {\n",
    "    \"state_specific_choice_set\": state_specific_choice_set,\n",
    "}"
   ]
  },
  {
   "cell_type": "markdown",
   "metadata": {},
   "source": [
    "#### Budget function and transitions function\n",
    "\n",
    "Moreover, we define the budget function as well as the transition function. Also note that these function work on the dictionary ```params_dict``` instead of the data frame ```params```."
   ]
  },
  {
   "cell_type": "code",
   "execution_count": 9,
   "metadata": {},
   "outputs": [],
   "source": [
    "def budget_dcegm(\n",
    "    lagged_choice,\n",
    "    ltc,\n",
    "    savings_end_of_previous_period,\n",
    "    income_shock_previous_period,\n",
    "    params,\n",
    "    options,\n",
    "):  # noqa: 100\n",
    "    interest_factor = 1 + params[\"interest_rate\"]\n",
    "    health_costs = params[\"ltc_cost\"]\n",
    "    wage = params[\"wage_avg\"]\n",
    "    resource = (\n",
    "        interest_factor * savings_end_of_previous_period\n",
    "        + (wage + income_shock_previous_period) * (1 - lagged_choice)\n",
    "        - ltc * health_costs\n",
    "    )\n",
    "    return jnp.maximum(resource, 0.5)"
   ]
  },
  {
   "cell_type": "markdown",
   "metadata": {},
   "source": [
    "#### Solve final period function\n",
    "\n",
    "Lastly, a function that computes the solution to the final period is required. It can be imported directly from the package, but we also display it here."
   ]
  },
  {
   "cell_type": "code",
   "execution_count": 10,
   "metadata": {},
   "outputs": [],
   "source": [
    "def final_period_utility(wealth: float, choice: int, params) -> Tuple[float, float]:\n",
    "    return flow_util(wealth, choice, params)\n",
    "\n",
    "\n",
    "def marginal_final(wealth, choice):\n",
    "    return marginal_utility(wealth, params)\n",
    "\n",
    "\n",
    "final_period_utility = {\n",
    "    \"utility\": final_period_utility,\n",
    "    \"marginal_utility\": marginal_final,\n",
    "}"
   ]
  },
  {
   "cell_type": "markdown",
   "metadata": {},
   "source": [
    "#### Solve function\n",
    "\n",
    "If all inputs have the required form as shown above, they can be passed to the function ```solve_dcegm```. This function returns two multi-dimensional arrays:\n",
    "\n",
    "- policy (np.ndarray): Multi-dimensional np.ndarray storing the choice-specific policy function; of shape [n_states, n_discrete_choices, 2, 1.1 * n_grid_wealth]. Position $[.., 0, :]$ contains the endogenous grid over wealth M, and $[.., 1, :]$ stores the corresponding value of the policy function c(M, d), for each state and each discrete choice.\n",
    "- value (np.ndarray): Multi-dimensional np.ndarray storing the choice-specific value functions; of shape [n_states, n_discrete_choices, 2, 1.1 * n_grid_wealth]. Position $[.., 0, :]$ contains the endogenous grid over wealth M, and $[.., 1, :]$ stores the corresponding value of the value function v(M, d), for each state and each discrete choice.\n"
   ]
  },
  {
   "cell_type": "code",
   "execution_count": 11,
   "metadata": {},
   "outputs": [
    {
     "name": "stdout",
     "output_type": "stream",
     "text": [
      "Update function for state space not given. Assume states only change with an increase of the period and lagged choice.\n",
      "Sparsity condition not provided. Assume all states are valid.\n",
      "Starting state space creation\n",
      "State space created.\n",
      "\n",
      "Starting state-choice space creation and child state mapping.\n",
      "State, state-choice and child state mapping created.\n",
      "\n",
      "Start creating batches for the model.\n",
      "Model setup complete.\n",
      "\n"
     ]
    }
   ],
   "source": [
    "model = setup_model(\n",
    "    options=options,\n",
    "    utility_functions=utility_functions,\n",
    "    utility_functions_final_period=final_period_utility,\n",
    "    budget_constraint=budget_dcegm,\n",
    "    state_space_functions=state_space_functions,\n",
    ")"
   ]
  },
  {
   "cell_type": "code",
   "execution_count": 12,
   "metadata": {},
   "outputs": [],
   "source": [
    "solve_func = get_solve_func_for_model(model)"
   ]
  },
  {
   "cell_type": "code",
   "execution_count": 13,
   "metadata": {},
   "outputs": [],
   "source": [
    "value_solved, policy_solved, endog_grid_solved = solve_func(params)"
   ]
  },
  {
   "cell_type": "markdown",
   "metadata": {},
   "source": [
    "### Analytical solution of the model\n",
    "\n",
    "The solution of the given problem can be derived analytically using backwards induction.\n",
    "\n",
    "#### Period 2: \n",
    "The choice problem in period 2 can be expressed through the Bellman equation\n",
    "$$ V_2 = \\max_{d_2\\in \\{0,1\\}} \\{v_2(M_2,d_2)+\\epsilon_2(d_2)\\}.$$\n",
    "As this is the last period in our model and there is no bequest, the budget is consumed entirely , i.e. $c_2 = M_2$. Hence, the choice-specific value function for a given wealth level $M_2$ and choice $d_2$ is given by\n",
    "$$ v_2(M_2,d_2) = \\frac{M_2^{1-\\rho}}{1-\\rho} - \\delta(1-d_2).$$\n",
    "\n",
    "#### Period 1: \n",
    "Analogous to period 2, the choice problem in period 1 can be expressed through the Bellman equation\n",
    "\n",
    "\n",
    "$$ V_1 = \\max_{d_1\\in \\{0,1\\}} \\{v_1(M_1,d_1)+\\epsilon_1(d_1)\\}.$$\n",
    "\n",
    "\n",
    "Here, the choice-specific value function for a given wealth level $M_1$ and choice $d_1$ is defined by\n",
    "\n",
    "\\begin{align*}\n",
    "v_1(M_1,d_1) &= \\max_{d_1\\in\\{0,1\\}} \\{u(c_1,d_1)+\\beta E_1[EV_2(M_2(v_2,D_2))]\\} \\\\\n",
    "&= \\max_{d_1\\in\\{0,1\\}} \\biggl\\{u(c_1,d_1)+\\beta \\sum_{i=1}^{2}\\left(\\int EV_2(M_2(v_2,D_2))\\, \\text{d}f(\\nu)\\right)\\pi(D_2 = i\\mid D_1)\\biggl\\},\n",
    "\\end{align*}\n",
    "\n",
    "where $EV_2(M_2(\\nu_2,D_2))$ is the expected value function for a given realization of the income shock $\\nu_2$ and exogenous process $D_2$, i.e. it is the expected maximum of the different choice specific value functions in the second period. \n",
    "\n",
    "The extreme value distribution takes the following closed formulas for the expected value function and choice probabilities:\n",
    "\n",
    "$$EV_2(M_2) = \\text{ln}(\\text{exp}(v_2(M_2,1))+\\text{exp}(v_2(M_2,0))),$$\n",
    "\n",
    "$$P(d_2\\mid M_2) = \\frac{\\text{exp}(v_2(M_2,d_2))}{\\text{exp}(v_2(M_2,0))+\\text{exp}(v_2(M_2,1))}.$$\n",
    "\n",
    "Now the problem can be solved using the Euler equation (see Iskhakov et al, 2017, Appendix A, Lemma 1) given by\n",
    "\n",
    "$$u^\\prime(c_1\\mid d_1) = \\beta R E_1\\left[\\sum_{j=1}^{2} u^\\prime(c_2(M_2\\mid d_2),d_2) P(d_2 = j\\mid M_2)\\right]\n",
    ".$$\n",
    "\n",
    "#### Policy functions\n",
    "\n",
    "Using the fact that the marginal utility is given by $u^\\prime(c_t) = c_t^{-\\rho}$ we obtain the consumption policy for period 1:\n",
    "\n",
    "\\begin{align*}\n",
    "c_1 &= \\left(\\beta R E_1\\left[\\sum_{j=1}^{2} u^\\prime(c_2(M_2\\mid d_2),d_2) P(d_2 = j\\mid M_2)\\right]\\right)^{-\\frac{1}{\\rho}} \\\\\n",
    "&= \\beta R  \\sum_{i=1}^{2} \\left( \\int \\sum_{j=1}^{2} u^\\prime(c_2(M_2\\mid d_2),d_2) P(d_2 = j\\mid M_2)\\, \\text{d} f(\\nu) \\right)^{-\\frac{1}{\\rho}} \\\\\n",
    "& = \\beta R  \\sum_{i=1}^{2} \\left( \\int \\sum_{j=1}^{2} u^\\prime(M_2,d_2) P(d_2 = j\\mid M_2)\\, \\text{d} f(\\nu) \\right)^{-\\frac{1}{\\rho}},\n",
    "\\end{align*}\n",
    "\n",
    "where we used the period-2 budget constraint $M_2 = c_2$ in the last equation. Note that this policy function is implicit, as $M_2$ depends on $c_1$. More specifically, we have \n",
    "\n",
    "$$M_2 = R(M_1-c_1)+W_2(1-d_1)-K D_2 = R(M_1-c_1)+(W+\\nu_2)(1-d_1)-KD_2.$$\n",
    "\n",
    "The labor supply in period 1 $d_1 \\in \\{0,1\\}$ is the maximizer of $v_1(M_1,d_1)+\\epsilon_1(d_1)$. Hence, $d_1 = 0$ if $v_1(M_1,0)+\\epsilon_1(0)\\geq v_1(M_1,1)+\\epsilon_1(1)$ and $d_1 = 1$ otherwise.\n",
    "\n",
    "Given $c_1$ and $d_1$, the consumption $c_2$ in period 2, which is equal to the wealth $M_2$ can be calculated by using the budget constraint. The labor supply $d_2$ in period 2 can be determined analogously to period 1 as a maximizer of $v_2(M_2,d_2)+\\epsilon_2(d_2)$."
   ]
  },
  {
   "cell_type": "markdown",
   "metadata": {},
   "source": [
    "The budget constraint, wage, transition probability, choice probabilities and the right-hand side of the Euler equation can be implemented as follows."
   ]
  },
  {
   "cell_type": "code",
   "execution_count": 14,
   "metadata": {},
   "outputs": [],
   "source": [
    "def budget(\n",
    "    lagged_resources, lagged_consumption, lagged_choice, wage, health, params_dict\n",
    "):\n",
    "    interest_factor = 1 + params_dict[\"interest_rate\"]\n",
    "    health_costs = params_dict[\"ltc_cost\"]\n",
    "    resources = (\n",
    "        interest_factor * (lagged_resources - lagged_consumption)\n",
    "        + wage * (1 - lagged_choice)\n",
    "        - health * health_costs\n",
    "    ).clip(min=0.5)\n",
    "    return resources\n",
    "\n",
    "\n",
    "def wage(nu, params_dict):\n",
    "    wage = params_dict[\"wage_avg\"] + nu\n",
    "    return wage\n",
    "\n",
    "\n",
    "def prob_long_term_care_patient(params_dict, lag_health, health):\n",
    "    p = params_dict[\"ltc_prob\"]\n",
    "    if (lag_health == 0) and (health == 1):\n",
    "        pi = p\n",
    "    elif (lag_health == 0) and (health == 0):\n",
    "        pi = 1 - p\n",
    "    elif (lag_health == 1) and (health == 0):\n",
    "        pi = 0\n",
    "    elif (lag_health == 1) and (health == 1):\n",
    "        pi = 1\n",
    "    else:\n",
    "        raise ValueError(\"Health state not defined.\")\n",
    "\n",
    "    return pi\n",
    "\n",
    "\n",
    "def choice_probs(cons, d, params_dict):\n",
    "    v = flow_util(cons, d, params_dict)\n",
    "    v_0 = flow_util(cons, 0, params_dict)\n",
    "    v_1 = flow_util(cons, 1, params_dict)\n",
    "    choice_prob = np.exp(v) / (np.exp(v_0) + np.exp(v_1))\n",
    "    return choice_prob\n",
    "\n",
    "\n",
    "def m_util_aux(init_cond, params_dict, choice_1, nu, consumption):\n",
    "    \"\"\"Return the expected marginal utility for one realization of the wage shock.\"\"\"\n",
    "    budget_1 = init_cond[\"wealth\"]\n",
    "    health_state_1 = init_cond[\"health\"]\n",
    "\n",
    "    weighted_marginal = 0\n",
    "    for health_state_2 in [0, 1]:\n",
    "        for choice_2 in [0, 1]:\n",
    "            budget_2 = budget(\n",
    "                budget_1,\n",
    "                consumption,\n",
    "                choice_1,\n",
    "                wage(nu, params_dict),\n",
    "                health_state_2,\n",
    "                params_dict,\n",
    "            )\n",
    "            marginal_util = marginal_utility(budget_2, params_dict)\n",
    "            choice_prob = choice_probs(budget_2, choice_2, params_dict)\n",
    "            health_prob = prob_long_term_care_patient(\n",
    "                params_dict, health_state_1, health_state_2\n",
    "            )\n",
    "            weighted_marginal += choice_prob * health_prob * marginal_util\n",
    "\n",
    "    return weighted_marginal\n",
    "\n",
    "\n",
    "def euler_rhs(init_cond, params_dict, draws, weights, choice_1, consumption):\n",
    "    beta = params_dict[\"beta\"]\n",
    "    interest_factor = 1 + params_dict[\"interest_rate\"]\n",
    "\n",
    "    rhs = 0\n",
    "    for index_draw, draw in enumerate(draws):\n",
    "        marg_util_draw = m_util_aux(init_cond, params_dict, choice_1, draw, consumption)\n",
    "        rhs += weights[index_draw] * marg_util_draw\n",
    "    return rhs * beta * interest_factor"
   ]
  },
  {
   "cell_type": "markdown",
   "metadata": {},
   "source": [
    "### Comparison of DC-EGM algorithm and analytical solution\n",
    "\n",
    "We now demonstrate the accuracy of the DC-EGM algorithm by inserting the calculated policy into the Euler equation and show that both sides take approximately the same value. \n",
    "As an example, let us consider a state in the state space with initial health $D_0 = 0$ and as initial wealth $M_0$, we take the first (non-zero) entry of the wealth grid. Furthermore, we choose $d_0 = 0$."
   ]
  },
  {
   "cell_type": "code",
   "execution_count": 15,
   "metadata": {},
   "outputs": [],
   "source": [
    "choice_in_period_0 = 0\n",
    "\n",
    "# Prepare dictionary for closed form solution\n",
    "initial_condition = {\"health\": 0, \"wealth\": 25}"
   ]
  },
  {
   "cell_type": "code",
   "execution_count": 16,
   "metadata": {},
   "outputs": [],
   "source": [
    "state_dict = {\n",
    "    \"ltc\": initial_condition[\"health\"],\n",
    "    \"lagged_choice\": 0,\n",
    "    \"period\": 0,\n",
    "    \"choice\": choice_in_period_0,\n",
    "}\n",
    "\n",
    "cons_calc, value = policy_and_value_for_state_choice_vec(\n",
    "    endog_grid_solved=endog_grid_solved,\n",
    "    value_solved=value_solved,\n",
    "    policy_solved=policy_solved,\n",
    "    params=params,\n",
    "    model=model,\n",
    "    state_choice_vec=state_dict,\n",
    "    wealth=initial_condition[\"wealth\"],\n",
    "    compute_utility=model[\"model_funcs\"][\"compute_utility\"],\n",
    ")"
   ]
  },
  {
   "cell_type": "markdown",
   "metadata": {},
   "source": [
    "Given the calculated policy using the dcegm package, we know compare the left hand side of the Euler equation (which is equal to the marginal utility) to its right hand side."
   ]
  },
  {
   "cell_type": "code",
   "execution_count": 17,
   "metadata": {},
   "outputs": [],
   "source": [
    "# needed for computation of the integral\n",
    "quad_points, quad_weights = roots_sh_legendre(5)\n",
    "quad_draws = norm.ppf(quad_points) * 1"
   ]
  },
  {
   "cell_type": "markdown",
   "metadata": {},
   "source": [
    "As expected, the by the DC-EGM algorithm calculated consumption in the first period $c_1$ satisfies the Euler equation, since both sides are (approximately) equal."
   ]
  },
  {
   "cell_type": "code",
   "execution_count": 18,
   "metadata": {},
   "outputs": [
    {
     "data": {
      "text/plain": [
       "Array(0.08292194, dtype=float64)"
      ]
     },
     "execution_count": 18,
     "metadata": {},
     "output_type": "execute_result"
    }
   ],
   "source": [
    "rhs = euler_rhs(\n",
    "    initial_condition, params, quad_draws, quad_weights, choice_in_period_0, cons_calc\n",
    ")\n",
    "rhs"
   ]
  },
  {
   "cell_type": "code",
   "execution_count": 19,
   "metadata": {},
   "outputs": [
    {
     "data": {
      "text/plain": [
       "Array(0.08292197, dtype=float64)"
      ]
     },
     "execution_count": 19,
     "metadata": {},
     "output_type": "execute_result"
    }
   ],
   "source": [
    "lhs = marginal_utility(cons_calc, params)\n",
    "lhs"
   ]
  },
  {
   "cell_type": "code",
   "execution_count": null,
   "metadata": {},
   "outputs": [],
   "source": []
  }
 ],
 "metadata": {
  "kernelspec": {
   "display_name": "dcegm",
   "language": "python",
   "name": "python3"
  },
  "language_info": {
   "codemirror_mode": {
    "name": "ipython",
    "version": 3
   },
   "file_extension": ".py",
   "mimetype": "text/x-python",
   "name": "python",
   "nbconvert_exporter": "python",
   "pygments_lexer": "ipython3",
   "version": "3.10.14"
  }
 },
 "nbformat": 4,
 "nbformat_minor": 4
}
