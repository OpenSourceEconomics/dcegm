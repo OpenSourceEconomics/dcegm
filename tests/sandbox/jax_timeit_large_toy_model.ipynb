{
 "cells": [
  {
   "cell_type": "code",
   "execution_count": 1,
   "id": "264479be-d03f-4a9b-9912-08a1fb6ac5c0",
   "metadata": {},
   "outputs": [],
   "source": [
    "%load_ext autoreload\n",
    "\n",
    "%autoreload 2\n",
    "\n",
    "import jax\n",
    "import jax.numpy as jnp\n",
    "from jax import vmap, jit\n",
    "from jax import profiler\n",
    "import os\n",
    "from dcegm.solve import solve_dcegm, get_solve_function\n",
    "from functools import partial\n",
    "from dcegm.fast_upper_envelope import fast_upper_envelope, fast_upper_envelope_wrapper\n",
    "import pandas as pd\n",
    "import yaml\n",
    "from dcegm.pre_processing import convert_params_to_dict, get_partial_functions\n",
    "import numpy as np\n",
    "import time\n",
    "\n",
    "\n",
    "TEST_RESOURCES_DIR = \"../resources/\""
   ]
  },
  {
   "cell_type": "markdown",
   "id": "9e9dbf5b-7f1f-4abf-ace3-d9fb9f90aec4",
   "metadata": {},
   "source": [
    "## Import toy model"
   ]
  },
  {
   "cell_type": "code",
   "execution_count": 2,
   "id": "f132230c-bc5f-4f9e-b3fb-2dfc143d03cd",
   "metadata": {},
   "outputs": [],
   "source": [
    "from toy_models.consumption_retirement_model.budget_functions import budget_constraint\n",
    "from toy_models.consumption_retirement_model.exogenous_processes import (\n",
    "    get_transition_matrix_by_state,\n",
    ")\n",
    "from toy_models.consumption_retirement_model.final_period_solution import (\n",
    "    solve_final_period_scalar,\n",
    ")\n",
    "from toy_models.consumption_retirement_model.state_space_objects import (\n",
    "    create_state_space,\n",
    "    update_state,\n",
    ")\n",
    "from toy_models.consumption_retirement_model.state_space_objects import (\n",
    "    get_state_specific_feasible_choice_set,\n",
    ")\n",
    "from toy_models.consumption_retirement_model.utility_functions import (\n",
    "    inverse_marginal_utility_crra,\n",
    ")\n",
    "from toy_models.consumption_retirement_model.utility_functions import (\n",
    "    marginal_utility_crra,\n",
    ")\n",
    "from toy_models.consumption_retirement_model.utility_functions import (\n",
    "    utiility_func_log_crra,\n",
    ")\n",
    "from toy_models.consumption_retirement_model.utility_functions import utility_func_crra\n",
    "\n",
    "from dcegm.state_space import create_state_choice_space"
   ]
  },
  {
   "cell_type": "code",
   "execution_count": null,
   "id": "9767a74e-379f-4a91-993a-e7b0b5a08feb",
   "metadata": {},
   "outputs": [],
   "source": []
  },
  {
   "cell_type": "code",
   "execution_count": 3,
   "id": "6217b6d1-781f-43bc-94b4-1f1e2385ef8c",
   "metadata": {},
   "outputs": [],
   "source": [
    "# def _create_state_space_custom(options):\n",
    "#     \"\"\"Create state space object and indexer.\"\"\"\n",
    "#     n_periods = options[\"n_periods\"]\n",
    "#     n_choices = options[\"n_discrete_choices\"]  # lagged_choice is a state variable\n",
    "#     n_exog_states = options[\"n_exog_states\"]\n",
    "#     # n_experience = options[\"n_experience\"]\n",
    "\n",
    "#     shape = (n_periods, n_choices, n_exog_states)\n",
    "\n",
    "#     map_state_to_index = np.full(shape, -9999, dtype=np.int64)\n",
    "#     _state_space = []\n",
    "\n",
    "#     i = 0\n",
    "#     for period in range(n_periods):\n",
    "#         for choice in range(n_choices):\n",
    "#             for exog_process in range(n_exog_states):\n",
    "#                 map_state_to_index[period, choice, exog_process] = i\n",
    "\n",
    "#                 row = [period, choice, exog_process]\n",
    "#                 _state_space.append(row)\n",
    "\n",
    "#                 i += 1\n",
    "\n",
    "#     state_space = np.array(_state_space, dtype=np.int64)\n",
    "\n",
    "#     return state_space, map_state_to_index"
   ]
  },
  {
   "cell_type": "code",
   "execution_count": 4,
   "id": "b3695124-d3a0-487e-87cf-6170c355562b",
   "metadata": {},
   "outputs": [],
   "source": [
    "# def _get_transition_matrix_custom(state, params_dict):\n",
    "#     return jnp.append(1, jnp.zeros(27 - 1))"
   ]
  },
  {
   "cell_type": "code",
   "execution_count": 5,
   "id": "31c2070e-7eac-4bd7-8e17-a797a25bc701",
   "metadata": {},
   "outputs": [],
   "source": [
    "utility_functions = {\n",
    "    \"utility\": utility_func_crra,\n",
    "    \"inverse_marginal_utility\": inverse_marginal_utility_crra,\n",
    "    \"marginal_utility\": marginal_utility_crra,\n",
    "}"
   ]
  },
  {
   "cell_type": "code",
   "execution_count": 6,
   "id": "a72f8d50-0dd4-46d1-a5d1-8913a0a2a3f9",
   "metadata": {},
   "outputs": [],
   "source": [
    "state_space_functions = {\n",
    "    # \"create_state_space\": _create_state_space_custom,\n",
    "    \"create_state_space\": create_state_space,\n",
    "    \"state_specific_choice_set\": get_state_specific_feasible_choice_set,\n",
    "    \"next_period_endogenous_state\": update_state,\n",
    "}"
   ]
  },
  {
   "cell_type": "code",
   "execution_count": null,
   "id": "cfbfcdeb-8e15-41f8-a672-22f0a41b2f0e",
   "metadata": {},
   "outputs": [],
   "source": []
  },
  {
   "cell_type": "code",
   "execution_count": 7,
   "id": "63717848-ca85-472f-ae9a-367800c9d6f1",
   "metadata": {},
   "outputs": [
    {
     "name": "stderr",
     "output_type": "stream",
     "text": [
      "No GPU/TPU found, falling back to CPU. (Set TF_CPP_MIN_LOG_LEVEL=0 and rerun for more info.)\n"
     ]
    }
   ],
   "source": [
    "model = \"deaton\"\n",
    "\n",
    "params = pd.read_csv(\n",
    "    TEST_RESOURCES_DIR + f\"{model}.csv\", index_col=[\"category\", \"name\"]\n",
    ")\n",
    "\n",
    "N_EXOG_STATES = 1\n",
    "\n",
    "options = yaml.safe_load(open(TEST_RESOURCES_DIR + f\"{model}.yaml\", \"rb\"))\n",
    "options[\"n_exog_states\"] = N_EXOG_STATES\n",
    "# options[\"n_periods\"] = 20\n",
    "# options[\"n_experience\"] = 20\n",
    "# options[\"n_discrete_choices\"] = 3\n",
    "# options[\"min_age\"] = 50\n",
    "# options[\"max_wealth\"] = 50_000\n",
    "# options[\"n_grid_points\"] = 500\n",
    "\n",
    "exog_savings_grid = jnp.linspace(0, options[\"max_wealth\"], options[\"n_grid_points\"])"
   ]
  },
  {
   "cell_type": "code",
   "execution_count": 8,
   "id": "a09a46b6-d01a-4b92-bab7-61f78fee6eba",
   "metadata": {},
   "outputs": [
    {
     "data": {
      "text/plain": [
       "{'n_periods': 25,\n",
       " 'min_age': 20,\n",
       " 'n_discrete_choices': 1,\n",
       " 'n_grid_points': 500,\n",
       " 'max_wealth': 75,\n",
       " 'quadrature_points_stochastic': 10,\n",
       " 'n_simulations': 10,\n",
       " 'n_exog_states': 1}"
      ]
     },
     "execution_count": 8,
     "metadata": {},
     "output_type": "execute_result"
    }
   ],
   "source": [
    "options"
   ]
  },
  {
   "cell_type": "code",
   "execution_count": 9,
   "id": "5b2e8d76-1657-4bf3-bbda-a26a7347083b",
   "metadata": {},
   "outputs": [],
   "source": [
    "solve_jit = get_solve_function(\n",
    "    options=options,\n",
    "    exog_savings_grid=exog_savings_grid,\n",
    "    utility_functions=utility_functions,\n",
    "    budget_constraint=budget_constraint,\n",
    "    final_period_solution=solve_final_period_scalar,\n",
    "    state_space_functions=state_space_functions,\n",
    "    # transition_function=_get_transition_matrix_custom,\n",
    "    transition_function=get_transition_matrix_by_state,\n",
    ")"
   ]
  },
  {
   "cell_type": "code",
   "execution_count": 10,
   "id": "69fa2a0c-ff2e-4a8b-9487-4beb00ccac45",
   "metadata": {},
   "outputs": [
    {
     "data": {
      "text/plain": [
       "7.980986595153809"
      ]
     },
     "execution_count": 10,
     "metadata": {},
     "output_type": "execute_result"
    }
   ],
   "source": [
    "start = time.time()\n",
    "jax.block_until_ready(solve_jit(params))\n",
    "time.time() - start"
   ]
  },
  {
   "cell_type": "code",
   "execution_count": 11,
   "id": "17587bcf-1624-4ad5-bb97-0cbd2c11ca47",
   "metadata": {},
   "outputs": [
    {
     "name": "stdout",
     "output_type": "stream",
     "text": [
      "22.4 ms ± 774 µs per loop (mean ± std. dev. of 7 runs, 10 loops each)\n"
     ]
    }
   ],
   "source": [
    "# https://github.com/google/jax/discussions/11169\n",
    "\n",
    "%timeit jax.block_until_ready(solve_jit(params))"
   ]
  },
  {
   "cell_type": "code",
   "execution_count": null,
   "id": "250252c0-5f14-487c-b8d4-6c5d27b34cae",
   "metadata": {},
   "outputs": [],
   "source": []
  },
  {
   "cell_type": "code",
   "execution_count": null,
   "id": "297176ae-b006-482c-9da4-b3b0cb9fa170",
   "metadata": {},
   "outputs": [],
   "source": []
  },
  {
   "cell_type": "code",
   "execution_count": null,
   "id": "3f65a8d6-da48-4de1-ac2c-7a5ee411866f",
   "metadata": {},
   "outputs": [],
   "source": []
  },
  {
   "cell_type": "code",
   "execution_count": null,
   "id": "f538ce3d-451e-40a5-ad3e-3997cab9b8ec",
   "metadata": {},
   "outputs": [],
   "source": []
  },
  {
   "cell_type": "code",
   "execution_count": null,
   "id": "e0615e1c-5f8f-4539-a69c-2228178f362f",
   "metadata": {},
   "outputs": [],
   "source": []
  },
  {
   "cell_type": "code",
   "execution_count": null,
   "id": "3530f70c-41c0-402a-91fa-22cbc13a9075",
   "metadata": {},
   "outputs": [],
   "source": []
  },
  {
   "cell_type": "code",
   "execution_count": null,
   "id": "3c85770b-3d20-41a0-b398-8447f04ce928",
   "metadata": {},
   "outputs": [],
   "source": []
  },
  {
   "cell_type": "code",
   "execution_count": null,
   "id": "11c88395-ff26-4c5d-8361-e7b534d9498a",
   "metadata": {},
   "outputs": [],
   "source": []
  },
  {
   "cell_type": "code",
   "execution_count": null,
   "id": "fbaec298-2eae-43f4-bb01-f9608c0c6113",
   "metadata": {},
   "outputs": [],
   "source": []
  },
  {
   "cell_type": "code",
   "execution_count": null,
   "id": "26a35ee8-a8f1-48a9-87bb-071617f48a62",
   "metadata": {},
   "outputs": [],
   "source": []
  },
  {
   "cell_type": "code",
   "execution_count": null,
   "id": "c7964632-64ff-4636-b733-9f34994b5946",
   "metadata": {},
   "outputs": [],
   "source": []
  },
  {
   "cell_type": "code",
   "execution_count": null,
   "id": "d8fbf1ec-e865-48c4-9d06-69d29e8ca432",
   "metadata": {},
   "outputs": [
    {
     "name": "stdout",
     "output_type": "stream",
     "text": [
      "Open URL in browser: https://ui.perfetto.dev/#!/?url=http://127.0.0.1:9001/perfetto_trace.json.gz\n"
     ]
    },
    {
     "name": "stderr",
     "output_type": "stream",
     "text": [
      "2023-08-26 14:58:14.781338: E external/xla/xla/python/profiler/internal/python_hooks.cc:398] Can't import tensorflow.python.profiler.trace\n",
      "2023-08-26 14:58:14.808664: E external/xla/xla/python/profiler/internal/python_hooks.cc:398] Can't import tensorflow.python.profiler.trace\n"
     ]
    }
   ],
   "source": [
    "with jax.profiler.trace(\"/tmp/jax-trace\", create_perfetto_link=True):\n",
    "    # Run the operations to be profiled\n",
    "    jax.block_until_ready(backwards_jit(params))"
   ]
  },
  {
   "cell_type": "code",
   "execution_count": null,
   "id": "5e1f8916-3984-4267-b791-50c0f66d2d77",
   "metadata": {},
   "outputs": [],
   "source": []
  },
  {
   "cell_type": "code",
   "execution_count": null,
   "id": "53c89c7f-baff-4f10-9b30-465bf350116d",
   "metadata": {},
   "outputs": [],
   "source": []
  }
 ],
 "metadata": {
  "kernelspec": {
   "display_name": "Python 3 (ipykernel)",
   "language": "python",
   "name": "python3"
  },
  "language_info": {
   "codemirror_mode": {
    "name": "ipython",
    "version": 3
   },
   "file_extension": ".py",
   "mimetype": "text/x-python",
   "name": "python",
   "nbconvert_exporter": "python",
   "pygments_lexer": "ipython3",
   "version": "3.10.12"
  }
 },
 "nbformat": 4,
 "nbformat_minor": 5
}
