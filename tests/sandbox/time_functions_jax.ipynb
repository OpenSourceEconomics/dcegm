{
 "cells": [
  {
   "cell_type": "code",
   "id": "35ab80e3",
   "metadata": {
    "ExecuteTime": {
     "end_time": "2025-04-10T09:20:40.430908Z",
     "start_time": "2025-04-10T09:20:39.276843Z"
    }
   },
   "source": [
    "from jax import vmap, jit\n",
    "import pickle\n",
    "import pandas as pd\n",
    "import io\n",
    "import yaml\n",
    "from functools import partial\n",
    "import jax.numpy as jnp\n",
    "import numpy as np\n",
    "from tests.utils.markov_simulator import markov_simulator"
   ],
   "outputs": [],
   "execution_count": 2
  },
  {
   "metadata": {
    "ExecuteTime": {
     "end_time": "2025-04-10T08:37:33.707787Z",
     "start_time": "2025-04-10T08:37:33.700571Z"
    }
   },
   "cell_type": "code",
   "source": [
    "def f(x, y):\n",
    "    return x**2 + y\n",
    "\n",
    "\n",
    "def f_aux(x, y):\n",
    "    x_squ = x * +2\n",
    "    return x_squ + y, x_squ\n",
    "\n",
    "\n",
    "def g(func, x, y):\n",
    "    func_val = func(x, y)\n",
    "    if isinstance(func_val, tuple):\n",
    "        if len(func_val) == 2:\n",
    "            if isinstance(func_val[1], dict):\n",
    "                return func_val\n",
    "            else:\n",
    "                raise ValueError(\n",
    "                    \"The second output of budget equation must be a dictionary.\"\n",
    "                )\n",
    "    else:\n",
    "        return func_val"
   ],
   "id": "234e3834375eb33a",
   "outputs": [],
   "execution_count": 4
  },
  {
   "metadata": {
    "ExecuteTime": {
     "end_time": "2025-04-10T08:38:27.609601Z",
     "start_time": "2025-04-10T08:38:27.579871Z"
    }
   },
   "cell_type": "code",
   "source": [
    "test_a = jnp.array(1.0)\n",
    "test_b = jnp.array(2.0)"
   ],
   "id": "5a4a52ad8dd9043",
   "outputs": [],
   "execution_count": 11
  },
  {
   "metadata": {
    "ExecuteTime": {
     "end_time": "2025-04-10T09:20:58.849540Z",
     "start_time": "2025-04-10T09:20:58.813470Z"
    }
   },
   "cell_type": "code",
   "source": [
    "len(jnp.array([1.0, 2.0]).shape)"
   ],
   "id": "6dea23477e97a8e0",
   "outputs": [
    {
     "data": {
      "text/plain": [
       "1"
      ]
     },
     "execution_count": 6,
     "metadata": {},
     "output_type": "execute_result"
    }
   ],
   "execution_count": 6
  },
  {
   "metadata": {
    "ExecuteTime": {
     "end_time": "2025-04-10T09:22:05.885954Z",
     "start_time": "2025-04-10T09:22:05.871105Z"
    }
   },
   "cell_type": "code",
   "source": [
    "jnp.array([1.0]).ndim"
   ],
   "id": "a04565b8e45b50b5",
   "outputs": [
    {
     "data": {
      "text/plain": [
       "1"
      ]
     },
     "execution_count": 8,
     "metadata": {},
     "output_type": "execute_result"
    }
   ],
   "execution_count": 8
  },
  {
   "metadata": {
    "ExecuteTime": {
     "end_time": "2025-04-10T08:38:27.998899Z",
     "start_time": "2025-04-10T08:38:27.936424Z"
    }
   },
   "cell_type": "code",
   "source": [
    "    jit_f = jit(f)\n",
    "jit_f(test_a, test_b)"
   ],
   "id": "9a3a11324dbfe0df",
   "outputs": [
    {
     "data": {
      "text/plain": [
       "Array(3., dtype=float32, weak_type=True)"
      ]
     },
     "execution_count": 12,
     "metadata": {},
     "output_type": "execute_result"
    }
   ],
   "execution_count": 12
  },
  {
   "metadata": {
    "ExecuteTime": {
     "end_time": "2025-04-10T08:38:36.756824Z",
     "start_time": "2025-04-10T08:38:28.605178Z"
    }
   },
   "cell_type": "code",
   "source": [
    "%timeit jit_f(test_a, test_b)"
   ],
   "id": "5b9e13242231ee41",
   "outputs": [
    {
     "name": "stdout",
     "output_type": "stream",
     "text": [
      "9.77 μs ± 1.02 μs per loop (mean ± std. dev. of 7 runs, 100,000 loops each)\n"
     ]
    }
   ],
   "execution_count": 13
  },
  {
   "metadata": {
    "ExecuteTime": {
     "end_time": "2025-04-10T08:38:39.168388Z",
     "start_time": "2025-04-10T08:38:37.942040Z"
    }
   },
   "cell_type": "code",
   "source": [
    "jit_g = jit(lambda x, y: g(f, x, y))\n",
    "jit_g_aux = jit(lambda x, y: g(f_aux, x, y))\n",
    "jit_g(test_a, test_b)\n",
    "jit_g_aux(test_a, test_b)"
   ],
   "id": "1e00ebbd603606b6",
   "outputs": [
    {
     "ename": "TypeError",
     "evalue": "len() of unsized object",
     "output_type": "error",
     "traceback": [
      "\u001b[31m---------------------------------------------------------------------------\u001b[39m",
      "\u001b[31mIndexError\u001b[39m                                Traceback (most recent call last)",
      "\u001b[36mFile \u001b[39m\u001b[32m~/micromamba/envs/dcegm/lib/python3.11/site-packages/jax/_src/core.py:1896\u001b[39m, in \u001b[36mShapedArray._len\u001b[39m\u001b[34m(self, ignored_tracer)\u001b[39m\n\u001b[32m   1895\u001b[39m \u001b[38;5;28;01mtry\u001b[39;00m:\n\u001b[32m-> \u001b[39m\u001b[32m1896\u001b[39m   \u001b[38;5;28;01mreturn\u001b[39;00m \u001b[38;5;28;43mself\u001b[39;49m\u001b[43m.\u001b[49m\u001b[43mshape\u001b[49m\u001b[43m[\u001b[49m\u001b[32;43m0\u001b[39;49m\u001b[43m]\u001b[49m\n\u001b[32m   1897\u001b[39m \u001b[38;5;28;01mexcept\u001b[39;00m \u001b[38;5;167;01mIndexError\u001b[39;00m \u001b[38;5;28;01mas\u001b[39;00m err:\n",
      "\u001b[31mIndexError\u001b[39m: tuple index out of range",
      "\nThe above exception was the direct cause of the following exception:\n",
      "\u001b[31mTypeError\u001b[39m                                 Traceback (most recent call last)",
      "\u001b[36mCell\u001b[39m\u001b[36m \u001b[39m\u001b[32mIn[14]\u001b[39m\u001b[32m, line 3\u001b[39m\n\u001b[32m      1\u001b[39m jit_g = jit(\u001b[38;5;28;01mlambda\u001b[39;00m x, y: g(f, x, y))\n\u001b[32m      2\u001b[39m jit_g_aux = jit(\u001b[38;5;28;01mlambda\u001b[39;00m x, y: g(f_aux, x, y))\n\u001b[32m----> \u001b[39m\u001b[32m3\u001b[39m \u001b[43mjit_g\u001b[49m\u001b[43m(\u001b[49m\u001b[43mtest_a\u001b[49m\u001b[43m,\u001b[49m\u001b[43m \u001b[49m\u001b[43mtest_b\u001b[49m\u001b[43m)\u001b[49m\n\u001b[32m      4\u001b[39m jit_g_aux(test_a, test_b)\n",
      "    \u001b[31m[... skipping hidden 13 frame]\u001b[39m\n",
      "\u001b[36mCell\u001b[39m\u001b[36m \u001b[39m\u001b[32mIn[14]\u001b[39m\u001b[32m, line 1\u001b[39m, in \u001b[36m<lambda>\u001b[39m\u001b[34m(x, y)\u001b[39m\n\u001b[32m----> \u001b[39m\u001b[32m1\u001b[39m jit_g = jit(\u001b[38;5;28;01mlambda\u001b[39;00m x, y: \u001b[43mg\u001b[49m\u001b[43m(\u001b[49m\u001b[43mf\u001b[49m\u001b[43m,\u001b[49m\u001b[43m \u001b[49m\u001b[43mx\u001b[49m\u001b[43m,\u001b[49m\u001b[43m \u001b[49m\u001b[43my\u001b[49m\u001b[43m)\u001b[49m)\n\u001b[32m      2\u001b[39m jit_g_aux = jit(\u001b[38;5;28;01mlambda\u001b[39;00m x, y: g(f_aux, x, y))\n\u001b[32m      3\u001b[39m jit_g(test_a, test_b)\n",
      "\u001b[36mCell\u001b[39m\u001b[36m \u001b[39m\u001b[32mIn[4]\u001b[39m\u001b[32m, line 10\u001b[39m, in \u001b[36mg\u001b[39m\u001b[34m(func, x, y)\u001b[39m\n\u001b[32m      8\u001b[39m \u001b[38;5;28;01mdef\u001b[39;00m\u001b[38;5;250m \u001b[39m\u001b[34mg\u001b[39m(func, x, y):\n\u001b[32m      9\u001b[39m     func_val = func(x, y)\n\u001b[32m---> \u001b[39m\u001b[32m10\u001b[39m     \u001b[38;5;28;01mif\u001b[39;00m \u001b[38;5;28;43mlen\u001b[39;49m\u001b[43m(\u001b[49m\u001b[43mfunc_val\u001b[49m\u001b[43m)\u001b[49m == \u001b[32m2\u001b[39m:\n\u001b[32m     11\u001b[39m         \u001b[38;5;28;01mreturn\u001b[39;00m func_val[\u001b[32m0\u001b[39m]\n\u001b[32m     12\u001b[39m     \u001b[38;5;28;01melse\u001b[39;00m:\n",
      "    \u001b[31m[... skipping hidden 1 frame]\u001b[39m\n",
      "\u001b[36mFile \u001b[39m\u001b[32m~/micromamba/envs/dcegm/lib/python3.11/site-packages/jax/_src/core.py:1898\u001b[39m, in \u001b[36mShapedArray._len\u001b[39m\u001b[34m(self, ignored_tracer)\u001b[39m\n\u001b[32m   1896\u001b[39m   \u001b[38;5;28;01mreturn\u001b[39;00m \u001b[38;5;28mself\u001b[39m.shape[\u001b[32m0\u001b[39m]\n\u001b[32m   1897\u001b[39m \u001b[38;5;28;01mexcept\u001b[39;00m \u001b[38;5;167;01mIndexError\u001b[39;00m \u001b[38;5;28;01mas\u001b[39;00m err:\n\u001b[32m-> \u001b[39m\u001b[32m1898\u001b[39m   \u001b[38;5;28;01mraise\u001b[39;00m \u001b[38;5;167;01mTypeError\u001b[39;00m(\u001b[33m\"\u001b[39m\u001b[33mlen() of unsized object\u001b[39m\u001b[33m\"\u001b[39m) \u001b[38;5;28;01mfrom\u001b[39;00m\u001b[38;5;250m \u001b[39m\u001b[34;01merr\u001b[39;00m\n",
      "\u001b[31mTypeError\u001b[39m: len() of unsized object"
     ]
    }
   ],
   "execution_count": 14
  },
  {
   "metadata": {
    "ExecuteTime": {
     "end_time": "2025-04-10T08:48:20.548728Z",
     "start_time": "2025-04-10T08:48:20.537500Z"
    }
   },
   "cell_type": "code",
   "source": [
    "isinstance(f_aux(test_a, test_b), tuple)"
   ],
   "id": "3f1e251d79fffb3",
   "outputs": [
    {
     "data": {
      "text/plain": [
       "True"
      ]
     },
     "execution_count": 23,
     "metadata": {},
     "output_type": "execute_result"
    }
   ],
   "execution_count": 23
  },
  {
   "metadata": {
    "ExecuteTime": {
     "end_time": "2025-04-10T08:38:05.164321Z",
     "start_time": "2025-04-10T08:37:53.591206Z"
    }
   },
   "cell_type": "code",
   "source": [
    "%timeit jit_g(test_a, test_b)"
   ],
   "id": "e96c48d8b4cd7a8a",
   "outputs": [
    {
     "name": "stdout",
     "output_type": "stream",
     "text": [
      "14.2 μs ± 3.65 μs per loop (mean ± std. dev. of 7 runs, 100,000 loops each)\n"
     ]
    }
   ],
   "execution_count": 9
  },
  {
   "metadata": {
    "ExecuteTime": {
     "end_time": "2025-04-10T08:38:06.238042Z",
     "start_time": "2025-04-10T08:38:05.316578Z"
    }
   },
   "cell_type": "code",
   "source": [
    "%timeit jit_g_aux(test_a, test_b)"
   ],
   "id": "564ce96619ad7978",
   "outputs": [
    {
     "name": "stdout",
     "output_type": "stream",
     "text": [
      "9.58 μs ± 3.92 μs per loop (mean ± std. dev. of 7 runs, 10,000 loops each)\n"
     ]
    }
   ],
   "execution_count": 10
  },
  {
   "metadata": {
    "ExecuteTime": {
     "end_time": "2024-11-25T16:03:54.707014Z",
     "start_time": "2024-11-25T16:03:54.700726Z"
    }
   },
   "cell_type": "code",
   "source": [
    "n_periods = 10\n",
    "init_dist = np.array([0.5, 0.5])\n",
    "trans_mat = np.array([[0.8, 0.2], [0.1, 0.9]])\n",
    "\n",
    "markov_simulator(n_periods, init_dist, trans_mat)"
   ],
   "id": "c2b7c16010b9ba85",
   "outputs": [
    {
     "data": {
      "text/plain": [
       "array([[0.5       , 0.5       ],\n",
       "       [0.45      , 0.55      ],\n",
       "       [0.415     , 0.585     ],\n",
       "       [0.3905    , 0.6095    ],\n",
       "       [0.37335   , 0.62665   ],\n",
       "       [0.361345  , 0.638655  ],\n",
       "       [0.3529415 , 0.6470585 ],\n",
       "       [0.34705905, 0.65294095],\n",
       "       [0.34294134, 0.65705866],\n",
       "       [0.34005893, 0.65994107]])"
      ]
     },
     "execution_count": 34,
     "metadata": {},
     "output_type": "execute_result"
    }
   ],
   "execution_count": 34
  },
  {
   "metadata": {
    "ExecuteTime": {
     "end_time": "2024-11-25T16:08:11.928721Z",
     "start_time": "2024-11-25T16:08:11.908425Z"
    }
   },
   "cell_type": "code",
   "source": [
    "n_agents = 100_000\n",
    "current_agents_in_states = (np.ones(2) * n_agents / 2).astype(int)\n",
    "for period in range(n_periods):\n",
    "    print(current_agents_in_states / n_agents)\n",
    "    next_period_agents_states = np.zeros(2, dtype=int)\n",
    "    for state in range(2):\n",
    "        agents_in_state = current_agents_in_states[state]\n",
    "        transition_draws = np.random.choice(\n",
    "            a=[0, 1], size=agents_in_state, p=trans_mat[state, :]\n",
    "        )\n",
    "        next_period_agents_states[1] += transition_draws.sum()\n",
    "        next_period_agents_states[0] += agents_in_state - transition_draws.sum()\n",
    "    current_agents_in_states = next_period_agents_states"
   ],
   "id": "ae676759dd2627d2",
   "outputs": [
    {
     "name": "stdout",
     "output_type": "stream",
     "text": [
      "[0.5 0.5]\n",
      "[0.4502 0.5498]\n",
      "[0.4189 0.5811]\n",
      "[0.39164 0.60836]\n",
      "[0.37405 0.62595]\n",
      "[0.35994 0.64006]\n",
      "[0.35166 0.64834]\n",
      "[0.34544 0.65456]\n",
      "[0.34263 0.65737]\n",
      "[0.34015 0.65985]\n"
     ]
    }
   ],
   "execution_count": 47
  },
  {
   "metadata": {
    "ExecuteTime": {
     "end_time": "2024-11-25T16:02:05.105098Z",
     "start_time": "2024-11-25T16:02:05.100262Z"
    }
   },
   "cell_type": "code",
   "source": [
    "trans_mat[0, :]"
   ],
   "id": "28dac7ec90b5d015",
   "outputs": [
    {
     "data": {
      "text/plain": [
       "Array([0.8, 0.2], dtype=float32)"
      ]
     },
     "execution_count": 29,
     "metadata": {},
     "output_type": "execute_result"
    }
   ],
   "execution_count": 29
  },
  {
   "cell_type": "code",
   "execution_count": 2,
   "id": "66daaddc",
   "metadata": {},
   "outputs": [],
   "source": [
    "def squared_num(a):\n",
    "    return a**2\n",
    "\n",
    "\n",
    "def square_and_select(ind, array):\n",
    "    return array[ind] ** 2\n",
    "\n",
    "\n",
    "def ex_ante_select(indices, array_to_select):\n",
    "    selected_array = jnp.take(array_to_select, indices)\n",
    "    return vmap(squared_num, in_axes=(0))(selected_array)\n",
    "\n",
    "\n",
    "def select_on_the_go(indices, array_to_select):\n",
    "    return vmap(square_and_select, in_axes=(0, None))(indices, array_to_select)\n",
    "\n",
    "\n",
    "def select_dict_with_loop(input_array):\n",
    "    out = {}\n",
    "    for i in range(input_array.shape[0]):\n",
    "        out[i] = jnp.sum(input_array[i, :])\n",
    "    return out\n",
    "\n",
    "\n",
    "def append_array(input_array):\n",
    "    out_array = jnp.array([])\n",
    "    for i in range(input_array.shape[0]):\n",
    "        out_array = jnp.append(out_array, jnp.sum(input_array[i, :]))\n",
    "    return out_array"
   ]
  },
  {
   "cell_type": "code",
   "execution_count": 9,
   "id": "4b4bf81c-a434-452f-8a9d-f5f67547a10f",
   "metadata": {},
   "outputs": [
    {
     "data": {
      "text/plain": [
       "0.5794452868115461"
      ]
     },
     "execution_count": 9,
     "metadata": {},
     "output_type": "execute_result"
    }
   ],
   "source": [
    "np.random.gumbel(size=100000).mean()"
   ]
  },
  {
   "cell_type": "code",
   "execution_count": 7,
   "id": "dae012b7-c2dd-4dc4-869b-ea8a6f3bf823",
   "metadata": {},
   "outputs": [
    {
     "data": {
      "text/plain": [
       "0.5772156649015329"
      ]
     },
     "execution_count": 7,
     "metadata": {},
     "output_type": "execute_result"
    }
   ],
   "source": [
    "np.euler_gamma"
   ]
  },
  {
   "cell_type": "code",
   "execution_count": 3,
   "id": "b70a9d99-9e90-40c4-a5f1-46cfb2a85049",
   "metadata": {},
   "outputs": [
    {
     "name": "stderr",
     "output_type": "stream",
     "text": [
      "No GPU/TPU found, falling back to CPU. (Set TF_CPP_MIN_LOG_LEVEL=0 and rerun for more info.)\n"
     ]
    }
   ],
   "source": [
    "size_ind = 100_000_000\n",
    "to_select_test = jnp.array([2, 4])\n",
    "indices_test = jnp.append(jnp.zeros(size_ind), jnp.ones(size_ind)).astype(int)"
   ]
  },
  {
   "cell_type": "code",
   "execution_count": 4,
   "id": "b371accc-6107-43e9-9771-58363574fabc",
   "metadata": {},
   "outputs": [],
   "source": [
    "jit_exante = jit(ex_ante_select)\n",
    "jit_expost = jit(select_on_the_go)"
   ]
  },
  {
   "cell_type": "code",
   "execution_count": 5,
   "id": "3aa40827-d149-40cc-a7ad-ca2ca6767957",
   "metadata": {},
   "outputs": [
    {
     "name": "stdout",
     "output_type": "stream",
     "text": [
      "224 ms ± 10.1 ms per loop (mean ± std. dev. of 7 runs, 1 loop each)\n"
     ]
    }
   ],
   "source": [
    "jit_exante(indices_test, to_select_test)\n",
    "%timeit jit_exante(indices_test, to_select_test)"
   ]
  },
  {
   "cell_type": "code",
   "execution_count": 6,
   "id": "5657a271-b432-411d-a4bd-6c00c0b97d5e",
   "metadata": {},
   "outputs": [
    {
     "name": "stdout",
     "output_type": "stream",
     "text": [
      "221 ms ± 14.3 ms per loop (mean ± std. dev. of 7 runs, 1 loop each)\n"
     ]
    }
   ],
   "source": [
    "jit_expost(indices_test, to_select_test)\n",
    "%timeit jit_expost(indices_test, to_select_test)"
   ]
  },
  {
   "cell_type": "code",
   "execution_count": 7,
   "id": "a9e937e0-61be-43ef-a4c5-53be190f4a58",
   "metadata": {},
   "outputs": [],
   "source": [
    "size_loop = 50\n",
    "size_sum = 10_000\n",
    "multi_dim = jnp.empty((size_loop, size_sum))\n",
    "\n",
    "jit_dict_select = jit(select_dict_with_loop)\n",
    "jit_append = jit(append_array)"
   ]
  },
  {
   "cell_type": "code",
   "execution_count": 8,
   "id": "92833c1e-2d01-46fb-8fc3-69df3ea8739b",
   "metadata": {},
   "outputs": [
    {
     "name": "stdout",
     "output_type": "stream",
     "text": [
      "275 µs ± 4.2 µs per loop (mean ± std. dev. of 7 runs, 1,000 loops each)\n"
     ]
    }
   ],
   "source": [
    "jit_dict_select(multi_dim)\n",
    "%timeit jit_dict_select(multi_dim)"
   ]
  },
  {
   "cell_type": "code",
   "execution_count": 9,
   "id": "bffaa176-b5e8-4f49-9a31-9fffdb3ad2f3",
   "metadata": {},
   "outputs": [
    {
     "name": "stdout",
     "output_type": "stream",
     "text": [
      "215 µs ± 7.21 µs per loop (mean ± std. dev. of 7 runs, 1,000 loops each)\n"
     ]
    }
   ],
   "source": [
    "jit_append(multi_dim)\n",
    "%timeit jit_append(multi_dim)"
   ]
  },
  {
   "cell_type": "code",
   "execution_count": 14,
   "id": "a553c22f-1911-4a84-a330-14d330c29c30",
   "metadata": {},
   "outputs": [
    {
     "data": {
      "text/plain": [
       "Array([[ 0.,  0.,  0., ...,  0.,  0.,  0.],\n",
       "       [ 0.,  0.,  0., ...,  0.,  0.,  0.],\n",
       "       [nan, nan, nan, ..., nan, nan, nan]], dtype=float32)"
      ]
     },
     "execution_count": 14,
     "metadata": {},
     "output_type": "execute_result"
    }
   ],
   "source": [
    "jnp.take(multi_dim, jnp.array([10, 20, -99]), axis=0)"
   ]
  },
  {
   "cell_type": "code",
   "execution_count": null,
   "id": "acb64e6b-9ef5-4537-96d6-f6268b7ffc34",
   "metadata": {},
   "outputs": [],
   "source": []
  }
 ],
 "metadata": {
  "kernelspec": {
   "display_name": "Python 3 (ipykernel)",
   "language": "python",
   "name": "python3"
  },
  "language_info": {
   "codemirror_mode": {
    "name": "ipython",
    "version": 3
   },
   "file_extension": ".py",
   "mimetype": "text/x-python",
   "name": "python",
   "nbconvert_exporter": "python",
   "pygments_lexer": "ipython3",
   "version": "3.10.12"
  }
 },
 "nbformat": 4,
 "nbformat_minor": 5
}
