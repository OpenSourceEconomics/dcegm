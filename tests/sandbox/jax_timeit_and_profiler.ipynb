{
 "cells": [
  {
   "cell_type": "code",
   "id": "89246243",
   "metadata": {
    "ExecuteTime": {
     "end_time": "2025-04-10T08:09:48.164916Z",
     "start_time": "2025-04-10T08:09:46.739042Z"
    }
   },
   "source": [
    "%load_ext autoreload\n",
    "\n",
    "%autoreload 2\n",
    "\n",
    "import jax\n",
    "import jax.numpy as jnp\n",
    "from jax import vmap, jit\n",
    "from jax import profiler\n",
    "import os\n",
    "from dcegm.backward_induction import solve_dcegm, get_solve_function\n",
    "from functools import partial\n",
    "import pandas as pd\n",
    "import yaml\n",
    "\n",
    "# from dcegm.pre_processing import convert_params_to_dict, get_partial_functions\n",
    "import numpy as np\n",
    "import jax\n",
    "\n",
    "jax.config.update(\"jax_enable_x64\", True)\n",
    "\n",
    "\n",
    "TEST_RESOURCES_DIR = \"../resources/\""
   ],
   "outputs": [],
   "execution_count": 1
  },
  {
   "cell_type": "markdown",
   "id": "d0f256d7",
   "metadata": {},
   "source": [
    "## Import toy model\n"
   ]
  },
  {
   "cell_type": "code",
   "execution_count": 2,
   "id": "86a3197a",
   "metadata": {
    "ExecuteTime": {
     "end_time": "2024-05-01T14:07:01.047589371Z",
     "start_time": "2024-05-01T14:07:01.013988615Z"
    }
   },
   "outputs": [],
   "source": [
    "from toy_models.consumption_retirement_model.budget_functions import budget_constraint\n",
    "from toy_models.consumption_retirement_model.utility_functions import (\n",
    "    create_utility_function_dict,\n",
    "    create_final_period_utility_function_dict,\n",
    ")\n",
    "\n",
    "from toy_models.consumption_retirement_model.state_space_objects import (\n",
    "    create_state_space_function_dict,\n",
    ")"
   ]
  },
  {
   "cell_type": "code",
   "execution_count": 3,
   "id": "6b1cbdc3",
   "metadata": {
    "ExecuteTime": {
     "end_time": "2024-05-01T14:07:01.118325713Z",
     "start_time": "2024-05-01T14:07:01.040105564Z"
    }
   },
   "outputs": [],
   "source": [
    "model = \"retirement_with_shocks\"\n",
    "\n",
    "params = pd.read_csv(\n",
    "    TEST_RESOURCES_DIR + f\"replication_tests/{model}/params.csv\",\n",
    "    index_col=[\"category\", \"name\"],\n",
    ")\n",
    "params = params.reset_index()[[\"name\", \"value\"]].set_index(\"name\")[\"value\"].to_dict()\n",
    "options = {}\n",
    "\n",
    "_raw_options = yaml.safe_load(\n",
    "    open(TEST_RESOURCES_DIR + f\"replication_tests/{model}/options\" f\".yaml\", \"rb\")\n",
    ")\n",
    "options[\"model_params\"] = _raw_options\n",
    "options[\"model_params\"][\"n_choices\"] = _raw_options[\"n_discrete_choices\"]\n",
    "options[\"state_space\"] = {\n",
    "    \"n_periods\": 25,\n",
    "    \"choices\": [i for i in range(_raw_options[\"n_discrete_choices\"])],\n",
    "}\n",
    "exog_savings_grid = jnp.linspace(\n",
    "    0,\n",
    "    options[\"model_params\"][\"max_wealth\"],\n",
    "    options[\"model_params\"][\"n_grid_points\"],\n",
    ")"
   ]
  },
  {
   "cell_type": "markdown",
   "id": "27f4ad49",
   "metadata": {},
   "source": [
    "## Timeit overall solve"
   ]
  },
  {
   "cell_type": "code",
   "outputs": [
    {
     "data": {
      "text/plain": "{'beta': 0.9523809523809524,\n 'delta': 0.35,\n 'rho': 1.95,\n 'constant': 0.75,\n 'exp': 0.04,\n 'exp_squared': -0.0002,\n 'sigma': 0.35,\n 'lambda': 0.2,\n 'interest_rate': 0.05,\n 'initial_wealth_low': 0.0,\n 'initial_wealth_high': 30.0,\n 'max_wealth': 50.0,\n 'consumption_floor': 0.001}"
     },
     "execution_count": 4,
     "metadata": {},
     "output_type": "execute_result"
    }
   ],
   "source": [
    "params"
   ],
   "metadata": {
    "collapsed": false,
    "ExecuteTime": {
     "end_time": "2024-05-01T14:07:01.642664745Z",
     "start_time": "2024-05-01T14:07:01.613037875Z"
    }
   },
   "id": "dc3f70efe159d9ee",
   "execution_count": 4
  },
  {
   "cell_type": "code",
   "execution_count": 5,
   "id": "9b1bcf68",
   "metadata": {
    "ExecuteTime": {
     "end_time": "2024-05-01T14:07:02.145071499Z",
     "start_time": "2024-05-01T14:07:02.097057922Z"
    }
   },
   "outputs": [
    {
     "name": "stdout",
     "output_type": "stream",
     "text": [
      "Update function for state space not given. Assume states only change with an increase of the period and lagged choice.\n",
      "The batch size of the backwards induction is  3\n"
     ]
    }
   ],
   "source": [
    "backward_jit = get_solve_function(\n",
    "    options=options,\n",
    "    exog_savings_grid=exog_savings_grid,\n",
    "    state_space_functions=create_state_space_function_dict(),\n",
    "    utility_functions=create_utility_function_dict(),\n",
    "    budget_constraint=budget_constraint,\n",
    "    utility_functions_final_period=create_final_period_utility_function_dict(),\n",
    ")"
   ]
  },
  {
   "cell_type": "code",
   "execution_count": 6,
   "id": "788bc5fb",
   "metadata": {
    "ExecuteTime": {
     "end_time": "2024-05-01T14:07:09.028291864Z",
     "start_time": "2024-05-01T14:07:02.649982707Z"
    }
   },
   "outputs": [
    {
     "name": "stdout",
     "output_type": "stream",
     "text": [
      "35.6 ms ± 201 µs per loop (mean ± std. dev. of 7 runs, 10 loops each)\n"
     ]
    }
   ],
   "source": [
    "# https://github.com/google/jax/discussions/11169\n",
    "\n",
    "jax.block_until_ready(backward_jit(params))\n",
    "%timeit jax.block_until_ready(backward_jit(params))"
   ]
  },
  {
   "cell_type": "code",
   "execution_count": null,
   "id": "d426911d",
   "metadata": {},
   "outputs": [],
   "source": [
    "# https://github.com/google/jax/discussions/11169\n",
    "\n",
    "jax.block_until_ready(backward_jit(params))\n",
    "%timeit jax.block_until_ready(backwards_jit(params))"
   ]
  },
  {
   "cell_type": "markdown",
   "id": "d5dc006a",
   "metadata": {},
   "source": [
    "## Timeit upper envelope"
   ]
  },
  {
   "cell_type": "code",
   "execution_count": null,
   "id": "246489e0",
   "metadata": {},
   "outputs": [],
   "source": [
    "policy_egm = jnp.array(\n",
    "    np.genfromtxt(TEST_RESOURCES_DIR + \"period_tests/pol10.csv\", delimiter=\",\")\n",
    ")\n",
    "value_egm = jnp.array(\n",
    "    np.genfromtxt(TEST_RESOURCES_DIR + \"period_tests/val10.csv\", delimiter=\",\")\n",
    ")\n",
    "params_dict = convert_params_to_dict(params)"
   ]
  },
  {
   "cell_type": "code",
   "execution_count": null,
   "id": "b0a71a55",
   "metadata": {},
   "outputs": [],
   "source": [
    "# test_upp_env = jit(partial(fast_upper_envelope_wrapper, choice=1, params=params_dict, compute_value=compute_value))\n",
    "test_upp_env = jit(partial(fast_upper_envelope, num_iter=int(value_egm.shape[1])))"
   ]
  },
  {
   "cell_type": "code",
   "execution_count": null,
   "id": "9e675bb0",
   "metadata": {},
   "outputs": [],
   "source": [
    "jax.block_until_ready(\n",
    "    test_upp_env(\n",
    "        endog_grid=policy_egm[0, 1:],\n",
    "        value=value_egm[1, 1:],\n",
    "        policy=policy_egm[1, 1:],\n",
    "        expected_value_zero_savings=value_egm[1, 0],\n",
    "    )\n",
    ")\n",
    "\n",
    "%timeit jax.block_until_ready(test_upp_env(endog_grid=policy_egm[0, 1:], value=value_egm[1, 1:], policy=policy_egm[1, 1:], expected_value_zero_savings=value_egm[1, 0]))"
   ]
  },
  {
   "cell_type": "code",
   "execution_count": null,
   "id": "4b27708c",
   "metadata": {},
   "outputs": [],
   "source": []
  },
  {
   "cell_type": "markdown",
   "id": "a09570f9",
   "metadata": {},
   "source": [
    "# Profiling"
   ]
  },
  {
   "cell_type": "markdown",
   "id": "d87eb26c",
   "metadata": {},
   "source": [
    "## UI Perfetto"
   ]
  },
  {
   "cell_type": "code",
   "execution_count": null,
   "id": "76cf5732",
   "metadata": {},
   "outputs": [],
   "source": [
    "with jax.profiler.trace(\"/tmp/jax-trace\", create_perfetto_link=True):\n",
    "    # Run the operations to be profiled\n",
    "    jax.block_until_ready(\n",
    "        test_upp_env(\n",
    "            endog_grid=policy_egm[0, 1:],\n",
    "            value=value_egm[1, 1:],\n",
    "            policy=policy_egm[1, 1:],\n",
    "            expected_value_zero_savings=value_egm[1, 0],\n",
    "        )\n",
    "    )"
   ]
  },
  {
   "cell_type": "code",
   "execution_count": null,
   "id": "93223adb",
   "metadata": {},
   "outputs": [],
   "source": []
  },
  {
   "cell_type": "markdown",
   "id": "5c9f66e7",
   "metadata": {},
   "source": [
    "## Timing of jax.lax.scan"
   ]
  },
  {
   "cell_type": "code",
   "outputs": [],
   "source": [
    "import jax\n",
    "import jax.numpy as jnp\n",
    "from jax.flatten_util import ravel_pytree"
   ],
   "metadata": {
    "collapsed": false
   },
   "id": "c55f84bbfed88976",
   "execution_count": null
  },
  {
   "cell_type": "code",
   "outputs": [],
   "source": [
    "def vectr_function(carry, array_in):\n",
    "    res = jax.vmap(lambda x: x + carry)(array_in)\n",
    "    return res.sum(), res"
   ],
   "metadata": {
    "collapsed": false
   },
   "id": "6aeffeccfdaadb2e",
   "execution_count": null
  },
  {
   "cell_type": "code",
   "outputs": [],
   "source": [
    "def loop_for(segments):\n",
    "    carry = 0.0\n",
    "    res = []\n",
    "    for segment in segments:\n",
    "        carry, vec_res = vectr_function(carry, segment)\n",
    "        res += [vec_res]\n",
    "    return res"
   ],
   "metadata": {
    "collapsed": false
   },
   "id": "b74bc468bd4f1d85",
   "execution_count": null
  },
  {
   "cell_type": "code",
   "outputs": [],
   "source": [
    "segments = (\n",
    "    [jnp.arange(1000) for _ in range(200)]\n",
    "    + [jnp.arange(800) for _ in range(30)]\n",
    "    + [jnp.arange(500) for _ in range(50)]\n",
    ")"
   ],
   "metadata": {
    "collapsed": false
   },
   "id": "5c104cd06adc3f3d",
   "execution_count": null
  },
  {
   "cell_type": "code",
   "outputs": [],
   "source": [
    "jax.block_until_ready(jax.jit(loop_for)(segments))\n",
    "%timeit jax.block_until_ready(jax.jit(loop_for)(segments))"
   ],
   "metadata": {
    "collapsed": false
   },
   "id": "b9463161285045d5",
   "execution_count": null
  },
  {
   "cell_type": "code",
   "outputs": [],
   "source": [
    "segments_even = ravel_pytree(segments)[0].reshape(-1, 100)"
   ],
   "metadata": {
    "collapsed": false
   },
   "id": "cd56ef73ca8b6672",
   "execution_count": null
  },
  {
   "cell_type": "code",
   "outputs": [],
   "source": [
    "jax.block_until_ready(jax.lax.scan(vectr_function, 0.0, xs=segments_even))\n",
    "%timeit jax.block_until_ready(jax.lax.scan(vectr_function, 0.0, xs=segments_even))"
   ],
   "metadata": {
    "collapsed": false
   },
   "id": "fff3fcaa36c86806",
   "execution_count": null
  },
  {
   "cell_type": "code",
   "outputs": [],
   "source": [],
   "metadata": {
    "collapsed": false
   },
   "id": "e5cecdaab40b473d",
   "execution_count": null
  },
  {
   "cell_type": "code",
   "execution_count": null,
   "id": "817bd406",
   "metadata": {},
   "outputs": [],
   "source": [
    "def body_1(carry, _it_step):\n",
    "    new_carry = carry + 1.5\n",
    "    return new_carry, new_carry\n",
    "\n",
    "\n",
    "def body_2(carry, _it_step):\n",
    "    new_carry = carry + 1\n",
    "    return new_carry, new_carry\n",
    "\n",
    "\n",
    "test_body_1 = jit(lambda start: jax.lax.scan(body_1, start, xs=None, length=5000))\n",
    "test_body_2 = jit(lambda start: jax.lax.scan(body_2, start, xs=None, length=5000))"
   ]
  },
  {
   "cell_type": "code",
   "execution_count": null,
   "id": "84bd8fd0",
   "metadata": {},
   "outputs": [],
   "source": [
    "test_body_1(1.0)\n",
    "%timeit test_body_1(1.0)"
   ]
  },
  {
   "cell_type": "code",
   "execution_count": null,
   "id": "393cb63b",
   "metadata": {},
   "outputs": [],
   "source": [
    "test_body_2(1)\n",
    "%timeit test_body_2(1)"
   ]
  },
  {
   "cell_type": "code",
   "execution_count": null,
   "id": "b5e7c996-5e0a-4e52-82bd-cec5ad171276",
   "metadata": {},
   "outputs": [],
   "source": []
  }
 ],
 "metadata": {
  "kernelspec": {
   "display_name": "Python 3 (ipykernel)",
   "language": "python",
   "name": "python3"
  },
  "language_info": {
   "codemirror_mode": {
    "name": "ipython",
    "version": 3
   },
   "file_extension": ".py",
   "mimetype": "text/x-python",
   "name": "python",
   "nbconvert_exporter": "python",
   "pygments_lexer": "ipython3",
   "version": "3.10.12"
  }
 },
 "nbformat": 4,
 "nbformat_minor": 5
}
